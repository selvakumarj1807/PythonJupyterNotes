{
 "cells": [
  {
   "cell_type": "code",
   "execution_count": 2,
   "id": "6e167583-7379-458f-a663-3e705f1fc210",
   "metadata": {},
   "outputs": [
    {
     "name": "stdout",
     "output_type": "stream",
     "text": [
      "Welcome to Jupyter\n"
     ]
    }
   ],
   "source": [
    "print('Welcome to Jupyter')"
   ]
  },
  {
   "cell_type": "code",
   "execution_count": 3,
   "id": "b00dec26-f295-4497-9a21-e654fd27a172",
   "metadata": {},
   "outputs": [
    {
     "name": "stdout",
     "output_type": "stream",
     "text": [
      "9500912258\n"
     ]
    }
   ],
   "source": [
    "print(9500912258)"
   ]
  },
  {
   "cell_type": "code",
   "execution_count": 4,
   "id": "13f75b39-01f8-439f-9d37-b7a00f5bc142",
   "metadata": {},
   "outputs": [
    {
     "data": {
      "text/plain": [
       "'\\nMulti\\nLine\\nComment\\n'"
      ]
     },
     "execution_count": 4,
     "metadata": {},
     "output_type": "execute_result"
    }
   ],
   "source": [
    "# Single Line Comment\n",
    "\n",
    "'''\n",
    "Multi\n",
    "Line\n",
    "Comment\n",
    "'''"
   ]
  },
  {
   "cell_type": "markdown",
   "id": "45454574-294a-42d5-a1cb-1955d2923f24",
   "metadata": {},
   "source": [
    "Data Types & Variables :\n",
    "------------------------"
   ]
  },
  {
   "cell_type": "code",
   "execution_count": 11,
   "id": "28457ce6-a1a0-44e8-9794-9460e65caaab",
   "metadata": {},
   "outputs": [
    {
     "name": "stdout",
     "output_type": "stream",
     "text": [
      "PythonDeveloper01@gmail.com <class 'str'>\n",
      "10 <class 'int'>\n",
      "10.5 <class 'float'>\n",
      "True <class 'bool'>\n"
     ]
    }
   ],
   "source": [
    "a = 'PythonDeveloper01@gmail.com' \n",
    "\n",
    "b = 10\n",
    "\n",
    "c = 10.5\n",
    "\n",
    "d = True\n",
    "\n",
    "print(a, type(a))\n",
    "\n",
    "print(b, type(b))\n",
    "\n",
    "print(c, type(c))\n",
    "\n",
    "print(d, type(d))"
   ]
  },
  {
   "cell_type": "markdown",
   "id": "77219206-e247-4fba-a504-1cf90d6e1a78",
   "metadata": {},
   "source": [
    "Print Statement :\n",
    "-----------------"
   ]
  },
  {
   "cell_type": "code",
   "execution_count": 13,
   "id": "5bb0ad41-eb60-4da7-8fd2-996983e5de2f",
   "metadata": {},
   "outputs": [
    {
     "name": "stdout",
     "output_type": "stream",
     "text": [
      "Sara\n",
      "25\n",
      "Sara syour age is  25\n"
     ]
    }
   ],
   "source": [
    "name = 'Sara'\n",
    "\n",
    "age = 25\n",
    "\n",
    "print(name)\n",
    "\n",
    "print(age)\n",
    "\n",
    "print(name, 'syour age is ', age)"
   ]
  },
  {
   "cell_type": "code",
   "execution_count": 17,
   "id": "e9a3db25-ae37-4ae0-8ca5-edfaa8421fea",
   "metadata": {},
   "outputs": [
    {
     "name": "stdout",
     "output_type": "stream",
     "text": [
      "10  +  5  =  15\n",
      "10  -  5  =  5\n",
      "10  *  5  =  50\n",
      "10  /  5  =  2.0\n"
     ]
    }
   ],
   "source": [
    "a = 10\n",
    "\n",
    "b = 5\n",
    "\n",
    "c = a + b\n",
    "\n",
    "print(a, ' + ', b, ' = ', c)\n",
    "print(a, ' - ', b, ' = ', a - b)\n",
    "print(a, ' * ', b, ' = ', a * b)\n",
    "print(a, ' / ', b, ' = ', a / b)"
   ]
  },
  {
   "cell_type": "markdown",
   "id": "1d76e979-7c48-4f23-a3d6-b682c84ff073",
   "metadata": {},
   "source": [
    "User Input :\n",
    "------------"
   ]
  },
  {
   "cell_type": "code",
   "execution_count": 19,
   "id": "d95ac1d8-e35c-49d3-90af-298828ff0f22",
   "metadata": {},
   "outputs": [
    {
     "name": "stdin",
     "output_type": "stream",
     "text": [
      "Enter a value1 :  30\n",
      "Enter a value2 :  15\n"
     ]
    },
    {
     "name": "stdout",
     "output_type": "stream",
     "text": [
      "30  +  15  =  45\n",
      "30  -  15  =  15\n",
      "30  *  15  =  450\n",
      "30  /  15  =  2.0\n"
     ]
    }
   ],
   "source": [
    "a = int(input('Enter a value1 : '))\n",
    "\n",
    "b = int(input('Enter a value2 : '))\n",
    "\n",
    "c = a + b\n",
    "\n",
    "print(a, ' + ', b, ' = ', c)\n",
    "print(a, ' - ', b, ' = ', a - b)\n",
    "print(a, ' * ', b, ' = ', a * b)\n",
    "print(a, ' / ', b, ' = ', a / b)"
   ]
  },
  {
   "cell_type": "code",
   "execution_count": 21,
   "id": "4c7dba43-7239-4fca-84b2-dbef9798202b",
   "metadata": {},
   "outputs": [
    {
     "name": "stdin",
     "output_type": "stream",
     "text": [
      "Enter your Name :  admin\n",
      "Enter your Age :  25\n"
     ]
    },
    {
     "name": "stdout",
     "output_type": "stream",
     "text": [
      "admin syour age is  25\n"
     ]
    }
   ],
   "source": [
    "name = input('Enter your Name : ')\n",
    "\n",
    "age = input('Enter your Age : ')\n",
    "\n",
    "print(name, 'syour age is ', age)"
   ]
  },
  {
   "cell_type": "code",
   "execution_count": 22,
   "id": "c563392d-65ec-4aaf-a21f-ed9fb7bff1f6",
   "metadata": {},
   "outputs": [
    {
     "name": "stdin",
     "output_type": "stream",
     "text": [
      "Enter your Name :  admin\n",
      "Enter your Age :  25\n"
     ]
    },
    {
     "name": "stdout",
     "output_type": "stream",
     "text": [
      "admin syour age is  25\n"
     ]
    }
   ],
   "source": [
    "name = input('Enter your Name : ')\n",
    "\n",
    "age = int(input('Enter your Age : '))\n",
    "\n",
    "print(name, 'your age is ', age)"
   ]
  },
  {
   "cell_type": "code",
   "execution_count": 24,
   "id": "e19ce8c9-f42d-46a8-affe-eadfd3bfe0ee",
   "metadata": {},
   "outputs": [
    {
     "name": "stdin",
     "output_type": "stream",
     "text": [
      "Enter your value1 :  10\n",
      "Enter your value2 :  20\n"
     ]
    },
    {
     "name": "stdout",
     "output_type": "stream",
     "text": [
      "30\n",
      "10 20\n"
     ]
    }
   ],
   "source": [
    "v1 = int(input('Enter your value1 : '))\n",
    "\n",
    "v2 = int(input('Enter your value2 : '))\n",
    "\n",
    "print(v1 + v2)\n",
    "\n",
    "print(v1 , v2)"
   ]
  },
  {
   "cell_type": "code",
   "execution_count": null,
   "id": "773e2afb-6d30-49cb-93da-90c0fa47bb2c",
   "metadata": {},
   "outputs": [],
   "source": []
  }
 ],
 "metadata": {
  "kernelspec": {
   "display_name": "Python 3 (ipykernel)",
   "language": "python",
   "name": "python3"
  },
  "language_info": {
   "codemirror_mode": {
    "name": "ipython",
    "version": 3
   },
   "file_extension": ".py",
   "mimetype": "text/x-python",
   "name": "python",
   "nbconvert_exporter": "python",
   "pygments_lexer": "ipython3",
   "version": "3.11.9"
  }
 },
 "nbformat": 4,
 "nbformat_minor": 5
}
