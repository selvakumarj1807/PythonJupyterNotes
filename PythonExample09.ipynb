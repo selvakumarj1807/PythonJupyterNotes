{
 "cells": [
  {
   "cell_type": "markdown",
   "id": "3f19832a-1b26-417b-8596-1d456df32cb7",
   "metadata": {},
   "source": [
    "Tuple\n",
    "-----\n",
    "\n",
    "    1. Tuple is a collection of Data type\n",
    "    2. Its used for store multiple values and diffrent data type values like index in a single variable.\n",
    "    3. Tupe are Declare ' ( ) '\n",
    "    4. Tuple is immutable"
   ]
  },
  {
   "cell_type": "code",
   "execution_count": 1,
   "id": "c1cb4b99-708f-4fb1-9add-69e363da6f95",
   "metadata": {},
   "outputs": [
    {
     "name": "stdout",
     "output_type": "stream",
     "text": [
      "(10, 20, 10.5, 'Sara', True, 100) <class 'tuple'>\n"
     ]
    }
   ],
   "source": [
    "a = (10, 20, 10.5, 'Sara', True, 100)\n",
    "\n",
    "print(a, type(a))"
   ]
  },
  {
   "cell_type": "code",
   "execution_count": 2,
   "id": "fe4adbcb-e5c9-4506-8b6f-0e7afe8b8b86",
   "metadata": {},
   "outputs": [
    {
     "name": "stdout",
     "output_type": "stream",
     "text": [
      "10\n"
     ]
    }
   ],
   "source": [
    "print(a[0])"
   ]
  },
  {
   "cell_type": "code",
   "execution_count": 3,
   "id": "cbe18b64-7b6c-4bfa-9f71-1fcd9e4df30a",
   "metadata": {},
   "outputs": [
    {
     "ename": "AttributeError",
     "evalue": "'tuple' object has no attribute 'append'",
     "output_type": "error",
     "traceback": [
      "\u001b[31m---------------------------------------------------------------------------\u001b[39m",
      "\u001b[31mAttributeError\u001b[39m                            Traceback (most recent call last)",
      "\u001b[36mCell\u001b[39m\u001b[36m \u001b[39m\u001b[32mIn[3]\u001b[39m\u001b[32m, line 3\u001b[39m\n\u001b[32m      1\u001b[39m \u001b[38;5;66;03m# Check for value append in a tuple variable\u001b[39;00m\n\u001b[32m----> \u001b[39m\u001b[32m3\u001b[39m \u001b[43ma\u001b[49m\u001b[43m.\u001b[49m\u001b[43mappend\u001b[49m(\u001b[32m150\u001b[39m)\n\u001b[32m      5\u001b[39m \u001b[38;5;28mprint\u001b[39m(a)\n",
      "\u001b[31mAttributeError\u001b[39m: 'tuple' object has no attribute 'append'"
     ]
    }
   ],
   "source": [
    "# Check for value append in a tuple variable\n",
    "\n",
    "a.append(150) # AttributeError: 'tuple' object has no attribute 'append'\n",
    "\n",
    "print(a)"
   ]
  },
  {
   "cell_type": "code",
   "execution_count": 6,
   "id": "293de64a-3ce5-4af7-9111-318e130869dd",
   "metadata": {},
   "outputs": [
    {
     "name": "stdout",
     "output_type": "stream",
     "text": [
      "Before Type casting : \n",
      "10 <class 'int'>\n",
      "15.5 <class 'float'>\n",
      "After type casting : \n",
      "10.0 <class 'float'>\n",
      "15 <class 'int'>\n"
     ]
    }
   ],
   "source": [
    "# Type casting\n",
    "\n",
    "b = 10\n",
    "\n",
    "c = 15.5\n",
    "\n",
    "print('Before Type casting : ')\n",
    "\n",
    "print(b, type(b))\n",
    "\n",
    "print(c, type(c))\n",
    "\n",
    "print('After type casting : ')\n",
    "\n",
    "b = float(b)\n",
    "\n",
    "c = int(c)\n",
    "\n",
    "print(b, type(b))\n",
    "\n",
    "print(c, type(c))\n"
   ]
  },
  {
   "cell_type": "code",
   "execution_count": 10,
   "id": "9c6d3217-581d-4cc7-a34e-2d9c7cc8114e",
   "metadata": {},
   "outputs": [
    {
     "name": "stdout",
     "output_type": "stream",
     "text": [
      "(10, 20, 10.5, 'Sara', True, 100) <class 'tuple'>\n",
      "[10, 20, 10.5, 'Sara', True, 100] <class 'list'>\n",
      "[10, 20, 10.5, 'Sara', True, 100, 150] <class 'list'>\n",
      "(10, 20, 10.5, 'Sara', True, 100, 150) <class 'tuple'>\n"
     ]
    }
   ],
   "source": [
    "# Tuple values append using Type casting\n",
    "\n",
    "a = (10, 20, 10.5, 'Sara', True, 100)\n",
    "\n",
    "print(a, type(a))\n",
    "\n",
    "a = list(a)\n",
    "\n",
    "print(a, type(a))\n",
    "\n",
    "a.append(150)\n",
    "\n",
    "print(a, type(a))\n",
    "\n",
    "a = tuple(a)\n",
    "\n",
    "print(a, type(a))\n"
   ]
  },
  {
   "cell_type": "code",
   "execution_count": 13,
   "id": "3808baf8-14cf-47de-ab2c-2145f51fa0a1",
   "metadata": {},
   "outputs": [
    {
     "name": "stdout",
     "output_type": "stream",
     "text": [
      "(10, 'Sara')  -  (24, 18)\n",
      "(10, 'Sara', 24, 18)\n"
     ]
    }
   ],
   "source": [
    "# How to add another tuple variable using + operator\n",
    "\n",
    "name = (10, 'Sara')\n",
    "\n",
    "age = (24,18)\n",
    "\n",
    "print(name, ' - ', age)\n",
    "\n",
    "details = name + age\n",
    "\n",
    "print(details)"
   ]
  },
  {
   "cell_type": "markdown",
   "id": "087f6351-1a67-4faf-b8c3-ab9c60ee4f14",
   "metadata": {},
   "source": [
    "Set:\n",
    "----\n",
    "    1. Set is a collection of Data type\n",
    "    2. Its used for store multiple values and diffrent data type values but not like index in a single variable.\n",
    "    3. Set are Declare ' { } '\n",
    "    4. Set is used for remove Duplicate Records"
   ]
  },
  {
   "cell_type": "code",
   "execution_count": 14,
   "id": "cb7ec30d-d582-41bb-a153-cbd2cb5f8843",
   "metadata": {},
   "outputs": [
    {
     "name": "stdout",
     "output_type": "stream",
     "text": [
      "{20, 40, 10, 45, 30, 15} <class 'set'>\n"
     ]
    }
   ],
   "source": [
    "age = {10,20,15,20,15,30,40,30,45}\n",
    "\n",
    "print(age, type(age))"
   ]
  },
  {
   "cell_type": "code",
   "execution_count": 17,
   "id": "26cb83a8-273d-44a6-ba9a-25058b62946b",
   "metadata": {},
   "outputs": [
    {
     "name": "stdout",
     "output_type": "stream",
     "text": [
      "{False, 'Admin', True, 'Sara', 'sara', 10.5} <class 'set'>\n"
     ]
    }
   ],
   "source": [
    "name = {'Sara', 'Sara', 'Sara', 'sara', 'Admin', 'Admin', True, False, True, False, 10.5, 10.5}\n",
    "\n",
    "print(name, type(name))"
   ]
  },
  {
   "cell_type": "code",
   "execution_count": null,
   "id": "fab33687-4c42-4c02-a01a-debe40a27a7d",
   "metadata": {},
   "outputs": [],
   "source": []
  }
 ],
 "metadata": {
  "kernelspec": {
   "display_name": "Python 3 (ipykernel)",
   "language": "python",
   "name": "python3"
  },
  "language_info": {
   "codemirror_mode": {
    "name": "ipython",
    "version": 3
   },
   "file_extension": ".py",
   "mimetype": "text/x-python",
   "name": "python",
   "nbconvert_exporter": "python",
   "pygments_lexer": "ipython3",
   "version": "3.13.3"
  }
 },
 "nbformat": 4,
 "nbformat_minor": 5
}
