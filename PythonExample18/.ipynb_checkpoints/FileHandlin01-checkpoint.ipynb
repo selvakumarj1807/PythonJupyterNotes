{
 "cells": [
  {
   "cell_type": "markdown",
   "id": "4eb9f492-b8ff-4123-b521-471570747dca",
   "metadata": {},
   "source": [
    "File Handling:\n",
    "--------------"
   ]
  },
  {
   "cell_type": "markdown",
   "id": "8e309ade-b369-4cc4-b7e6-a7e47f002eee",
   "metadata": {},
   "source": [
    "# 1. Read File\n",
    "--------------"
   ]
  },
  {
   "cell_type": "code",
   "execution_count": 20,
   "id": "11ea6c25-6237-48d9-8c92-bdfef0ae8ebd",
   "metadata": {},
   "outputs": [
    {
     "name": "stdout",
     "output_type": "stream",
     "text": [
      "Hi This IS File Handling Read Method\n"
     ]
    }
   ],
   "source": [
    "fileRead = open('test.txt', 'r')\n",
    "\n",
    "print(fileRead.read())\n",
    "\n",
    "fileRead.close()"
   ]
  },
  {
   "cell_type": "code",
   "execution_count": 14,
   "id": "fe7d5184-f1f3-46f3-a138-81f114ea1d8a",
   "metadata": {},
   "outputs": [
    {
     "name": "stdout",
     "output_type": "stream",
     "text": [
      "Hi Welcome To File Handling\n"
     ]
    }
   ],
   "source": [
    "try:\n",
    "    file = open('test.txt', 'r')\n",
    "except Exception as e:\n",
    "    print(e)\n",
    "else:\n",
    "    print(file.read())\n",
    "    file.close()\n"
   ]
  },
  {
   "cell_type": "markdown",
   "id": "8e2b90b3-a829-47e3-b65e-803a35e0dd52",
   "metadata": {},
   "source": [
    "# 2. File Write\n",
    "---------------"
   ]
  },
  {
   "cell_type": "code",
   "execution_count": 21,
   "id": "54905e32-de62-4935-99ad-2240b0752989",
   "metadata": {},
   "outputs": [
    {
     "name": "stdout",
     "output_type": "stream",
     "text": [
      "Before File Write method : \n",
      "Hi This IS File Handling Read Method\n",
      "------------------------------------------------------\n",
      "------------------------------------------------------\n",
      "After File Write method : \n",
      "Hi This IS write method in File Handling\n"
     ]
    }
   ],
   "source": [
    "print('Before File Write method : ')\n",
    "\n",
    "fileRead = open('test.txt', 'r')\n",
    "\n",
    "print(fileRead.read())\n",
    "\n",
    "fileRead.close()\n",
    "\n",
    "print('------------------------------------------------------')\n",
    "\n",
    "filewrite = open('test.txt', 'w')\n",
    "\n",
    "filewrite.write('Hi This IS write method in File Handling')\n",
    "\n",
    "filewrite.close()\n",
    "\n",
    "print('------------------------------------------------------')\n",
    "\n",
    "print('After File Write method : ')\n",
    "\n",
    "fileRead = open('test.txt', 'r')\n",
    "\n",
    "print(fileRead.read())\n",
    "\n",
    "fileRead.close()"
   ]
  },
  {
   "cell_type": "markdown",
   "id": "9a669061-f1ce-48ae-9ce3-66b22eea3401",
   "metadata": {},
   "source": [
    "# 3. File Append\n",
    "----------------"
   ]
  },
  {
   "cell_type": "code",
   "execution_count": 22,
   "id": "e8038f6a-aea4-4d2e-a51c-474d75d54bef",
   "metadata": {},
   "outputs": [
    {
     "name": "stdout",
     "output_type": "stream",
     "text": [
      "Before File Append method : \n",
      "Hi This IS write method in File Handling\n",
      "------------------------------------------------------\n",
      "------------------------------------------------------\n",
      "After File Append method : \n",
      "Hi This IS write method in File Handling Hi This IS Append method in File Handling\n"
     ]
    }
   ],
   "source": [
    "print('Before File Append method : ')\n",
    "\n",
    "fileRead = open('test.txt', 'r')\n",
    "\n",
    "print(fileRead.read())\n",
    "\n",
    "fileRead.close()\n",
    "\n",
    "print('------------------------------------------------------')\n",
    "\n",
    "filewrite = open('test.txt', 'a')\n",
    "\n",
    "filewrite.write(' Hi This IS Append method in File Handling')\n",
    "\n",
    "filewrite.close()\n",
    "\n",
    "print('------------------------------------------------------')\n",
    "\n",
    "print('After File Append method : ')\n",
    "\n",
    "fileRead = open('test.txt', 'r')\n",
    "\n",
    "print(fileRead.read())\n",
    "\n",
    "fileRead.close()"
   ]
  },
  {
   "cell_type": "markdown",
   "id": "5109d70d-7e3e-4a75-86e3-ec2f5b4075c2",
   "metadata": {},
   "source": [
    "# 4. File Remove\n",
    "----------------"
   ]
  },
  {
   "cell_type": "code",
   "execution_count": 23,
   "id": "3784759c-0332-40c4-a53f-e369f9f6cecf",
   "metadata": {},
   "outputs": [],
   "source": [
    "import os"
   ]
  },
  {
   "cell_type": "code",
   "execution_count": 27,
   "id": "15bfa38d-a79d-49b4-92fa-5c0db9f2af27",
   "metadata": {},
   "outputs": [
    {
     "name": "stdout",
     "output_type": "stream",
     "text": [
      "Yes, File is There\n",
      "File has successfully Deleted\n"
     ]
    }
   ],
   "source": [
    "fileName = 'test.txt'\n",
    "\n",
    "if os.path.exists(fileName):\n",
    "    print('Yes, File is There')\n",
    "\n",
    "    os.remove(fileName)\n",
    "\n",
    "    print('File has successfully Deleted')\n",
    "else:\n",
    "    print('No, File is Not There')"
   ]
  },
  {
   "cell_type": "code",
   "execution_count": null,
   "id": "229bff7a-1842-4d79-a292-6dbd78e4870b",
   "metadata": {},
   "outputs": [],
   "source": []
  }
 ],
 "metadata": {
  "kernelspec": {
   "display_name": "Python 3 (ipykernel)",
   "language": "python",
   "name": "python3"
  },
  "language_info": {
   "codemirror_mode": {
    "name": "ipython",
    "version": 3
   },
   "file_extension": ".py",
   "mimetype": "text/x-python",
   "name": "python",
   "nbconvert_exporter": "python",
   "pygments_lexer": "ipython3",
   "version": "3.11.9"
  }
 },
 "nbformat": 4,
 "nbformat_minor": 5
}
