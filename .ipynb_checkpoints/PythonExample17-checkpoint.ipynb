{
 "cells": [
  {
   "cell_type": "markdown",
   "id": "8c786467-d271-4730-9fea-8cca905975eb",
   "metadata": {},
   "source": [
    "Random Module :\n",
    "---------------"
   ]
  },
  {
   "cell_type": "code",
   "execution_count": 1,
   "id": "f22e3999-d38b-4d8e-9328-9766a9c10d73",
   "metadata": {},
   "outputs": [],
   "source": [
    "import random"
   ]
  },
  {
   "cell_type": "code",
   "execution_count": 6,
   "id": "c5921599-5d6f-4a2a-91ab-a020d3c5f6f6",
   "metadata": {},
   "outputs": [
    {
     "name": "stdout",
     "output_type": "stream",
     "text": [
      "1\n"
     ]
    }
   ],
   "source": [
    "a = random.randint(1, 10)\n",
    "\n",
    "print(a)"
   ]
  },
  {
   "cell_type": "code",
   "execution_count": 12,
   "id": "072827d2-aa31-45ca-a741-eadeef2937d1",
   "metadata": {},
   "outputs": [
    {
     "name": "stdout",
     "output_type": "stream",
     "text": [
      "30\n"
     ]
    }
   ],
   "source": [
    "departmentId = [10, 20, 30, 40,50]\n",
    "\n",
    "a = random.choice(departmentId)\n",
    "\n",
    "print(a)"
   ]
  },
  {
   "cell_type": "markdown",
   "id": "f8fe7a24-b97f-4eed-9972-49f8b2a1fab6",
   "metadata": {},
   "source": [
    "Exception Handling:\n",
    "-------------------\n",
    "\n",
    "try\n",
    "\n",
    "except\n",
    "\n",
    "else\n",
    "\n",
    "finally"
   ]
  },
  {
   "cell_type": "code",
   "execution_count": 15,
   "id": "c0642c40-3611-4934-92e5-a578a0864853",
   "metadata": {},
   "outputs": [
    {
     "name": "stdout",
     "output_type": "stream",
     "text": [
      "Variable is not defind\n"
     ]
    }
   ],
   "source": [
    "#Example 01\n",
    "\n",
    "try:\n",
    "    print(name)\n",
    "\n",
    "except:\n",
    "    print('Variable is not defind')"
   ]
  },
  {
   "cell_type": "code",
   "execution_count": 17,
   "id": "bab24d32-92a6-4f04-a17c-f0cc10254186",
   "metadata": {},
   "outputs": [
    {
     "name": "stdout",
     "output_type": "stream",
     "text": [
      "name 'name' is not defined\n"
     ]
    }
   ],
   "source": [
    "#Example 02\n",
    "\n",
    "try:\n",
    "    print(name)\n",
    "\n",
    "except Exception as e:\n",
    "    print(e)"
   ]
  },
  {
   "cell_type": "code",
   "execution_count": 21,
   "id": "244f5467-3940-414e-ab24-8ab190a8de0d",
   "metadata": {},
   "outputs": [
    {
     "name": "stdout",
     "output_type": "stream",
     "text": [
      "Admin Values assign sccesfulle in else block\n"
     ]
    }
   ],
   "source": [
    "#Example 03\n",
    "\n",
    "try:\n",
    "    name = 'Admin'\n",
    "\n",
    "except Exception as e:\n",
    "    print(e)\n",
    "\n",
    "else:\n",
    "    print(name, 'Values assign sccesfulle in else block')"
   ]
  },
  {
   "cell_type": "code",
   "execution_count": 22,
   "id": "32186e22-be46-4589-9eb1-b871bbac60d3",
   "metadata": {},
   "outputs": [
    {
     "name": "stdout",
     "output_type": "stream",
     "text": [
      "Admin Values assign sccesfulle in else block\n",
      "Exception Handling Successfully\n"
     ]
    }
   ],
   "source": [
    "#Example 04\n",
    "\n",
    "try:\n",
    "    name = 'Admin'\n",
    "\n",
    "except Exception as e:\n",
    "    print(e)\n",
    "\n",
    "else:\n",
    "    print(name, 'Values assign sccesfulle in else block')\n",
    "\n",
    "finally:\n",
    "    print('Exception Handling Successfully')"
   ]
  },
  {
   "cell_type": "code",
   "execution_count": 23,
   "id": "3ffcec5a-ded3-4eb3-bf64-7780de0348b4",
   "metadata": {},
   "outputs": [
    {
     "name": "stdout",
     "output_type": "stream",
     "text": [
      "invalid literal for int() with base 10: 'Admin'\n",
      "Exception Handling Successfully\n"
     ]
    }
   ],
   "source": [
    "#Example 05\n",
    "\n",
    "try:\n",
    "    pru=int(name)\n",
    "    \n",
    "except Exception as e:\n",
    "    print(e)\n",
    "\n",
    "else:\n",
    "    print(name, 'Values assign sccesfulle in else block')\n",
    "\n",
    "finally:\n",
    "    print('Exception Handling Successfully')"
   ]
  },
  {
   "cell_type": "code",
   "execution_count": null,
   "id": "aea3329c-c2bd-464d-9800-08fd60a5a2b0",
   "metadata": {},
   "outputs": [],
   "source": []
  }
 ],
 "metadata": {
  "kernelspec": {
   "display_name": "Python 3 (ipykernel)",
   "language": "python",
   "name": "python3"
  },
  "language_info": {
   "codemirror_mode": {
    "name": "ipython",
    "version": 3
   },
   "file_extension": ".py",
   "mimetype": "text/x-python",
   "name": "python",
   "nbconvert_exporter": "python",
   "pygments_lexer": "ipython3",
   "version": "3.11.9"
  }
 },
 "nbformat": 4,
 "nbformat_minor": 5
}
