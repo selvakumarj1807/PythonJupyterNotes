{
 "cells": [
  {
   "cell_type": "markdown",
   "id": "8c786467-d271-4730-9fea-8cca905975eb",
   "metadata": {},
   "source": [
    "Random Module :\n",
    "---------------"
   ]
  },
  {
   "cell_type": "code",
   "execution_count": 1,
   "id": "f22e3999-d38b-4d8e-9328-9766a9c10d73",
   "metadata": {},
   "outputs": [],
   "source": [
    "import random"
   ]
  },
  {
   "cell_type": "code",
   "execution_count": 6,
   "id": "c5921599-5d6f-4a2a-91ab-a020d3c5f6f6",
   "metadata": {},
   "outputs": [
    {
     "name": "stdout",
     "output_type": "stream",
     "text": [
      "1\n"
     ]
    }
   ],
   "source": [
    "a = random.randint(1, 10)\n",
    "\n",
    "print(a)"
   ]
  },
  {
   "cell_type": "code",
   "execution_count": 12,
   "id": "072827d2-aa31-45ca-a741-eadeef2937d1",
   "metadata": {},
   "outputs": [
    {
     "name": "stdout",
     "output_type": "stream",
     "text": [
      "30\n"
     ]
    }
   ],
   "source": [
    "departmentId = [10, 20, 30, 40,50]\n",
    "\n",
    "a = random.choice(departmentId)\n",
    "\n",
    "print(a)"
   ]
  },
  {
   "cell_type": "markdown",
   "id": "f8fe7a24-b97f-4eed-9972-49f8b2a1fab6",
   "metadata": {},
   "source": [
    "Exception Handling:\n",
    "-------------------\n",
    "\n",
    "try\n",
    "\n",
    "except\n",
    "\n",
    "else\n",
    "\n",
    "finally"
   ]
  },
  {
   "cell_type": "code",
   "execution_count": 1,
   "id": "c0642c40-3611-4934-92e5-a578a0864853",
   "metadata": {},
   "outputs": [
    {
     "name": "stdout",
     "output_type": "stream",
     "text": [
      "Variable is not defind\n"
     ]
    }
   ],
   "source": [
    "#Example 01\n",
    "\n",
    "try:\n",
    "    print(name)\n",
    "\n",
    "except:\n",
    "    print('Variable is not defind')"
   ]
  },
  {
   "cell_type": "code",
   "execution_count": 2,
   "id": "bab24d32-92a6-4f04-a17c-f0cc10254186",
   "metadata": {},
   "outputs": [
    {
     "name": "stdout",
     "output_type": "stream",
     "text": [
      "name 'name' is not defined\n"
     ]
    }
   ],
   "source": [
    "#Example 02\n",
    "\n",
    "try:\n",
    "    print(name)\n",
    "\n",
    "except Exception as e:\n",
    "    print(e)"
   ]
  },
  {
   "cell_type": "code",
   "execution_count": 21,
   "id": "244f5467-3940-414e-ab24-8ab190a8de0d",
   "metadata": {},
   "outputs": [
    {
     "name": "stdout",
     "output_type": "stream",
     "text": [
      "Admin Values assign sccesfulle in else block\n"
     ]
    }
   ],
   "source": [
    "#Example 03\n",
    "\n",
    "try:\n",
    "    name = 'Admin'\n",
    "\n",
    "except Exception as e:\n",
    "    print(e)\n",
    "\n",
    "else:\n",
    "    print(name, 'Values assign sccesfulle in else block')"
   ]
  },
  {
   "cell_type": "code",
   "execution_count": 4,
   "id": "32186e22-be46-4589-9eb1-b871bbac60d3",
   "metadata": {},
   "outputs": [
    {
     "name": "stdout",
     "output_type": "stream",
     "text": [
      "Admin Values assign sccesfully in else block\n",
      "Exception Handling Successfully\n"
     ]
    }
   ],
   "source": [
    "#Example 04\n",
    "\n",
    "try:\n",
    "    name = 'Admin'\n",
    "\n",
    "except Exception as e:\n",
    "    print(e)\n",
    "\n",
    "else:\n",
    "    print(name, 'Values assign sccesfully in else block')\n",
    "\n",
    "finally:\n",
    "    print('Exception Handling Successfully')"
   ]
  },
  {
   "cell_type": "code",
   "execution_count": 6,
   "id": "3ffcec5a-ded3-4eb3-bf64-7780de0348b4",
   "metadata": {},
   "outputs": [
    {
     "name": "stdin",
     "output_type": "stream",
     "text": [
      "Enter a value :  admin\n"
     ]
    },
    {
     "name": "stdout",
     "output_type": "stream",
     "text": [
      "invalid literal for int() with base 10: 'admin'\n",
      "Exception Handling Successfully\n"
     ]
    }
   ],
   "source": [
    "#Example 05\n",
    "\n",
    "try:\n",
    "    name=int(input('Enter a value : '))\n",
    "    \n",
    "except Exception as e:\n",
    "    print(e)\n",
    "\n",
    "else:\n",
    "    print(name, 'Values assign sccesfully in else block')\n",
    "\n",
    "finally:\n",
    "    print('Exception Handling Successfully')"
   ]
  },
  {
   "cell_type": "markdown",
   "id": "39a89787-2c88-4e78-85bd-7c46f3af5fa7",
   "metadata": {},
   "source": [
    "To Find the Errors And Count of errors :\n",
    "----------------------------------------"
   ]
  },
  {
   "cell_type": "code",
   "execution_count": 8,
   "id": "f6a94b48-45d9-4118-a664-c80e9181d1da",
   "metadata": {},
   "outputs": [
    {
     "name": "stdout",
     "output_type": "stream",
     "text": [
      "['ArithmeticError', 'AssertionError', 'AttributeError', 'BaseException', 'BaseExceptionGroup', 'BlockingIOError', 'BrokenPipeError', 'BufferError', 'BytesWarning', 'ChildProcessError', 'ConnectionAbortedError', 'ConnectionError', 'ConnectionRefusedError', 'ConnectionResetError', 'DeprecationWarning', 'EOFError', 'Ellipsis', 'EncodingWarning', 'EnvironmentError', 'Exception', 'ExceptionGroup', 'False', 'FileExistsError', 'FileNotFoundError', 'FloatingPointError', 'FutureWarning', 'GeneratorExit', 'IOError', 'ImportError', 'ImportWarning', 'IndentationError', 'IndexError', 'InterruptedError', 'IsADirectoryError', 'KeyError', 'KeyboardInterrupt', 'LookupError', 'MemoryError', 'ModuleNotFoundError', 'NameError', 'None', 'NotADirectoryError', 'NotImplemented', 'NotImplementedError', 'OSError', 'OverflowError', 'PendingDeprecationWarning', 'PermissionError', 'ProcessLookupError', 'RecursionError', 'ReferenceError', 'ResourceWarning', 'RuntimeError', 'RuntimeWarning', 'StopAsyncIteration', 'StopIteration', 'SyntaxError', 'SyntaxWarning', 'SystemError', 'SystemExit', 'TabError', 'TimeoutError', 'True', 'TypeError', 'UnboundLocalError', 'UnicodeDecodeError', 'UnicodeEncodeError', 'UnicodeError', 'UnicodeTranslateError', 'UnicodeWarning', 'UserWarning', 'ValueError', 'Warning', 'WindowsError', 'ZeroDivisionError', '__IPYTHON__', '__build_class__', '__debug__', '__doc__', '__import__', '__loader__', '__name__', '__package__', '__spec__', 'abs', 'aiter', 'all', 'anext', 'any', 'ascii', 'bin', 'bool', 'breakpoint', 'bytearray', 'bytes', 'callable', 'chr', 'classmethod', 'compile', 'complex', 'copyright', 'credits', 'delattr', 'dict', 'dir', 'display', 'divmod', 'enumerate', 'eval', 'exec', 'execfile', 'filter', 'float', 'format', 'frozenset', 'get_ipython', 'getattr', 'globals', 'hasattr', 'hash', 'help', 'hex', 'id', 'input', 'int', 'isinstance', 'issubclass', 'iter', 'len', 'license', 'list', 'locals', 'map', 'max', 'memoryview', 'min', 'next', 'object', 'oct', 'open', 'ord', 'pow', 'print', 'property', 'range', 'repr', 'reversed', 'round', 'runfile', 'set', 'setattr', 'slice', 'sorted', 'staticmethod', 'str', 'sum', 'super', 'tuple', 'type', 'vars', 'zip']\n"
     ]
    }
   ],
   "source": [
    "print(dir(locals()['__builtins__']))"
   ]
  },
  {
   "cell_type": "code",
   "execution_count": 9,
   "id": "dde613cf-3b2a-42b1-8576-e9d2a50000ab",
   "metadata": {},
   "outputs": [
    {
     "name": "stdout",
     "output_type": "stream",
     "text": [
      "161\n"
     ]
    }
   ],
   "source": [
    "print(len(dir(locals()['__builtins__'])))"
   ]
  },
  {
   "cell_type": "markdown",
   "id": "4ab73c59-9eed-4e29-8df2-5d62ebaf06f2",
   "metadata": {},
   "source": [
    "# 1. ZeroDivisionError\n",
    "----------------------"
   ]
  },
  {
   "cell_type": "code",
   "execution_count": 11,
   "id": "d714c400-9714-4aeb-80b8-47bed35d6831",
   "metadata": {},
   "outputs": [
    {
     "name": "stdin",
     "output_type": "stream",
     "text": [
      "Enter a Value :  10\n",
      "Enter a Value :  0\n"
     ]
    },
    {
     "name": "stdout",
     "output_type": "stream",
     "text": [
      "division by zero\n",
      "Thank You\n"
     ]
    }
   ],
   "source": [
    "try:\n",
    "    a = int(input('Enter a Value : '))\n",
    "\n",
    "    b = int(input('Enter a Value : '))\n",
    "\n",
    "    result = a / b\n",
    "\n",
    "except Exception as e:\n",
    "    print(e)\n",
    "\n",
    "else:\n",
    "    print(a, '/', b, '=', result)\n",
    "\n",
    "finally:\n",
    "    print('Thank You')\n",
    "    "
   ]
  },
  {
   "cell_type": "markdown",
   "id": "70b5de99-8229-424a-be12-d0f8aa7ce44f",
   "metadata": {},
   "source": [
    "# 2. IndexError\n",
    "---------------"
   ]
  },
  {
   "cell_type": "code",
   "execution_count": 16,
   "id": "979f277c-7bd6-4d17-88f4-f2387fdb8327",
   "metadata": {},
   "outputs": [
    {
     "name": "stdin",
     "output_type": "stream",
     "text": [
      "Enter a index value :  10\n"
     ]
    },
    {
     "name": "stdout",
     "output_type": "stream",
     "text": [
      "list index out of range\n"
     ]
    }
   ],
   "source": [
    "try:\n",
    "    age = [10, 20, 30, 40, 50]\n",
    "\n",
    "    i = int(input('Enter a index value : '))\n",
    "\n",
    "    print('age[', i, '] : ', age[i])\n",
    "\n",
    "except Exception as e:\n",
    "    print(e)"
   ]
  },
  {
   "cell_type": "markdown",
   "id": "299b1a10-adc3-4499-b442-b77308aa03ef",
   "metadata": {},
   "source": [
    "Handling Multiple Exceptions : \n",
    "------------------------------"
   ]
  },
  {
   "cell_type": "code",
   "execution_count": 22,
   "id": "02c3b817-bfe2-4050-82e7-4a4563331aaa",
   "metadata": {},
   "outputs": [
    {
     "name": "stdin",
     "output_type": "stream",
     "text": [
      "Enter a Value :  10\n",
      "Enter a Value :  2\n",
      "Enter a index value :  9\n"
     ]
    },
    {
     "name": "stdout",
     "output_type": "stream",
     "text": [
      "Invalid Index. Give a Valid Index Values\n"
     ]
    }
   ],
   "source": [
    "try:\n",
    "    a = int(input('Enter a Value : '))\n",
    "\n",
    "    b = int(input('Enter a Value : '))\n",
    "\n",
    "    result = a / b\n",
    "\n",
    "    age = [10, 20, 30, 40, 50]\n",
    "\n",
    "    i = int(input('Enter a index value : '))\n",
    "\n",
    "    print('age[', i, '] : ', age[i])\n",
    "\n",
    "    print(a, '/', b, '=', result)\n",
    "    \n",
    "except ZeroDivisionError:\n",
    "    print('Denominator Cannot be Zero')\n",
    "\n",
    "except IndexError:\n",
    "    print('Invalid Index. Give a Valid Index Values')\n"
   ]
  },
  {
   "cell_type": "code",
   "execution_count": null,
   "id": "99708233-41fd-45a3-81bb-77e4eeca24df",
   "metadata": {},
   "outputs": [],
   "source": [
    "'''\n",
    "ToDay Task:\n",
    "\n",
    "try:\n",
    "    a = int(input('Enter a Value : '))\n",
    "\n",
    "    b = int(input('Enter a Value : '))\n",
    "\n",
    "    result = a / b\n",
    "\n",
    "    age = [10, 20, 30, 40, 50]\n",
    "\n",
    "    i = int(input('Enter a index value : '))\n",
    "\n",
    "    print('age[', i, '] : ', age[i])\n",
    "\n",
    "    print(a, '/', b, '=', result)\n",
    "    \n",
    "except ZeroDivisionError:\n",
    "    print('Denominator Cannot be Zero')\n",
    "\n",
    "except IndexError:\n",
    "    print('Invalid Index. Give a Valid Index Values')\n",
    "\n",
    "\n",
    "To Modify the Code For Below Output\n",
    "\n",
    "Number Of Error place: 2\n",
    "\n",
    "Error 01 : ZeroDivisionError\n",
    "\n",
    "Error 02 : IndexError\n",
    "\n",
    "'''"
   ]
  }
 ],
 "metadata": {
  "kernelspec": {
   "display_name": "Python 3 (ipykernel)",
   "language": "python",
   "name": "python3"
  },
  "language_info": {
   "codemirror_mode": {
    "name": "ipython",
    "version": 3
   },
   "file_extension": ".py",
   "mimetype": "text/x-python",
   "name": "python",
   "nbconvert_exporter": "python",
   "pygments_lexer": "ipython3",
   "version": "3.11.9"
  }
 },
 "nbformat": 4,
 "nbformat_minor": 5
}
