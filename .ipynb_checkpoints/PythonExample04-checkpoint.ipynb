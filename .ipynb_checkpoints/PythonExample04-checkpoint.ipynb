{
 "cells": [
  {
   "cell_type": "markdown",
   "id": "5cb7534d-1bde-4459-8929-715e1d3979e1",
   "metadata": {},
   "source": [
    "Python Inputs:\n",
    "--------------"
   ]
  },
  {
   "cell_type": "code",
   "execution_count": 2,
   "id": "140d1ba1-cfae-4e8d-baca-f44090c0e1b8",
   "metadata": {},
   "outputs": [
    {
     "name": "stdout",
     "output_type": "stream",
     "text": [
      "10\n"
     ]
    }
   ],
   "source": [
    "print(10)"
   ]
  },
  {
   "cell_type": "code",
   "execution_count": 3,
   "id": "cec12317-7b58-4449-b71c-1d4915e071b5",
   "metadata": {},
   "outputs": [
    {
     "name": "stdout",
     "output_type": "stream",
     "text": [
      "admin123@gmail\n"
     ]
    }
   ],
   "source": [
    "print('admin123@gmail')"
   ]
  },
  {
   "cell_type": "code",
   "execution_count": 7,
   "id": "160b7e53-111a-4cb9-9144-65aee933cd5e",
   "metadata": {},
   "outputs": [
    {
     "name": "stdout",
     "output_type": "stream",
     "text": [
      "admin\n",
      "admin\n"
     ]
    }
   ],
   "source": [
    "name = 'admin'\n",
    "\n",
    "print(name)\n",
    "print(name)"
   ]
  },
  {
   "cell_type": "code",
   "execution_count": 10,
   "id": "f19f6a4e-bd1e-48c6-9a5f-ad95fd55355b",
   "metadata": {},
   "outputs": [
    {
     "name": "stdin",
     "output_type": "stream",
     "text": [
      "Enter your name :  Sara\n"
     ]
    },
    {
     "name": "stdout",
     "output_type": "stream",
     "text": [
      "Sara <class 'str'>\n"
     ]
    }
   ],
   "source": [
    "name = input('Enter your name : ')\n",
    "\n",
    "print(name, type(name))"
   ]
  },
  {
   "cell_type": "code",
   "execution_count": 12,
   "id": "567db8f8-a19b-403b-8be3-6993bee4aee7",
   "metadata": {},
   "outputs": [
    {
     "name": "stdin",
     "output_type": "stream",
     "text": [
      "Mark 01 value : 50\n",
      "Mark 02 value :  60\n",
      "Mark 03 value :  70\n"
     ]
    },
    {
     "name": "stdout",
     "output_type": "stream",
     "text": [
      "Total value :  180\n"
     ]
    }
   ],
   "source": [
    "mark1 = int(input('Mark 01 value :'))\n",
    "\n",
    "mark2 = int(input('Mark 02 value : '))\n",
    "\n",
    "mark3 = int(input('Mark 03 value : '))\n",
    "\n",
    "total = mark1 + mark2 + mark3\n",
    "\n",
    "print('Total value : ', total)"
   ]
  },
  {
   "cell_type": "markdown",
   "id": "7e476a53-d543-446a-9722-53ae74ab6558",
   "metadata": {},
   "source": [
    "If, Else\n",
    "--------"
   ]
  },
  {
   "cell_type": "code",
   "execution_count": 17,
   "id": "2755b41e-575a-429d-a95d-33027b414cf8",
   "metadata": {},
   "outputs": [
    {
     "name": "stdout",
     "output_type": "stream",
     "text": [
      "True\n",
      "20 Eligible for vote\n"
     ]
    }
   ],
   "source": [
    "age = 20\n",
    "\n",
    "print(age > 18)\n",
    "\n",
    "if age > 18:\n",
    "    print(age, 'Eligible for vote')"
   ]
  },
  {
   "cell_type": "code",
   "execution_count": 19,
   "id": "45021063-3e21-4759-afbf-e9c9a68c68bb",
   "metadata": {},
   "outputs": [
    {
     "name": "stdout",
     "output_type": "stream",
     "text": [
      "False\n",
      "10 Not Eligible for vote\n"
     ]
    }
   ],
   "source": [
    "age = 10\n",
    "\n",
    "print(age > 18)\n",
    "\n",
    "if age > 18:\n",
    "    print(age, 'Eligible for vote')\n",
    "\n",
    "else:\n",
    "    print(age, 'Not Eligible for vote')"
   ]
  },
  {
   "cell_type": "markdown",
   "id": "ca7ca061-fa1e-46c1-947e-928a472f5094",
   "metadata": {},
   "source": [
    "Elif:\n",
    "-----"
   ]
  },
  {
   "cell_type": "code",
   "execution_count": 22,
   "id": "a15d75ea-1a8c-484b-8386-3822a6857135",
   "metadata": {},
   "outputs": [
    {
     "name": "stdout",
     "output_type": "stream",
     "text": [
      "False\n",
      "True\n",
      "18 Now You Eligible for vote\n"
     ]
    }
   ],
   "source": [
    "age = 18\n",
    "\n",
    "print(age > 18)\n",
    "print(age >= 18)\n",
    "\n",
    "if age > 18:\n",
    "    print(age, 'Eligible for vote')\n",
    "\n",
    "elif (age >= 18):\n",
    "    print(age, 'Now You Eligible for vote')\n",
    "\n",
    "else:\n",
    "    print(age, 'Not Eligible for vote')"
   ]
  },
  {
   "cell_type": "markdown",
   "id": "75fd6389-b180-4d99-8221-11cdf9d41e7d",
   "metadata": {},
   "source": [
    "Loop:\n",
    "-----\n",
    "\n",
    "1. While Loop\n",
    "2. For Loop"
   ]
  },
  {
   "cell_type": "code",
   "execution_count": 23,
   "id": "7b38a822-8fe8-4815-aa4f-358aff7dd927",
   "metadata": {},
   "outputs": [
    {
     "name": "stdout",
     "output_type": "stream",
     "text": [
      "0\n",
      "1\n",
      "2\n",
      "3\n",
      "4\n",
      "5\n",
      "6\n",
      "7\n",
      "8\n",
      "9\n",
      "10\n"
     ]
    }
   ],
   "source": [
    "# While Loop\n",
    "'''\n",
    "While\n",
    "Loop\n",
    "'''\n",
    "\n",
    "i = 0\n",
    "\n",
    "n = 10\n",
    "\n",
    "while i <= n:\n",
    "    print(i)\n",
    "    i = i + 1"
   ]
  },
  {
   "cell_type": "code",
   "execution_count": 24,
   "id": "28bf1320-4532-42a5-8aa5-460e87a74137",
   "metadata": {},
   "outputs": [
    {
     "name": "stdout",
     "output_type": "stream",
     "text": [
      "1  *  2  =  2\n",
      "2  *  2  =  4\n",
      "3  *  2  =  6\n",
      "4  *  2  =  8\n",
      "5  *  2  =  10\n",
      "6  *  2  =  12\n",
      "7  *  2  =  14\n",
      "8  *  2  =  16\n",
      "9  *  2  =  18\n",
      "10  *  2  =  20\n"
     ]
    }
   ],
   "source": [
    "# While Example 01\n",
    "\n",
    "i = 1\n",
    "\n",
    "n = 10\n",
    "\n",
    "while i <= 10:\n",
    "    result = i * 2         # 1 * 2\n",
    "    print(i, ' * ', '2', ' = ', result) # 1 * 2 = 2\n",
    "    i = i + 1"
   ]
  },
  {
   "cell_type": "code",
   "execution_count": null,
   "id": "39d8ad9a-09cb-4641-b05a-faf670cd47b4",
   "metadata": {},
   "outputs": [],
   "source": []
  }
 ],
 "metadata": {
  "kernelspec": {
   "display_name": "Python 3 (ipykernel)",
   "language": "python",
   "name": "python3"
  },
  "language_info": {
   "codemirror_mode": {
    "name": "ipython",
    "version": 3
   },
   "file_extension": ".py",
   "mimetype": "text/x-python",
   "name": "python",
   "nbconvert_exporter": "python",
   "pygments_lexer": "ipython3",
   "version": "3.11.9"
  }
 },
 "nbformat": 4,
 "nbformat_minor": 5
}
