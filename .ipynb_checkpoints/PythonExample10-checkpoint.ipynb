{
 "cells": [
  {
   "cell_type": "markdown",
   "id": "8fff237a-18ed-4d4f-83bb-f87dcf6d98aa",
   "metadata": {},
   "source": [
    "Set Copy:\n",
    "---------"
   ]
  },
  {
   "cell_type": "code",
   "execution_count": 6,
   "id": "3f253d71-52bc-4a5c-8b99-2ba490fc927e",
   "metadata": {},
   "outputs": [
    {
     "name": "stdout",
     "output_type": "stream",
     "text": [
      "set1 :  {25, 'admin'} <class 'set'>\n",
      "set2 :  {25, 'admin'} <class 'set'>\n",
      "After using add :\n",
      "set1 :  {25, 'admin', 9500912258} <class 'set'>\n",
      "set2 :  {25, 'admin', 9500912258} <class 'set'>\n"
     ]
    }
   ],
   "source": [
    "set1 = {'admin', 25}\n",
    "\n",
    "set2 = set1\n",
    "\n",
    "print('set1 : ', set1, type(set1))\n",
    "\n",
    "print('set2 : ', set2, type(set2))\n",
    "\n",
    "#  add\n",
    "\n",
    "set2.add(9500912258)\n",
    "\n",
    "print('After using add :')\n",
    "\n",
    "print('set1 : ', set1, type(set1))\n",
    "\n",
    "print('set2 : ', set2, type(set2))\n"
   ]
  },
  {
   "cell_type": "code",
   "execution_count": 7,
   "id": "2effca29-5793-40ad-9251-c6fb55eba8da",
   "metadata": {},
   "outputs": [
    {
     "name": "stdout",
     "output_type": "stream",
     "text": [
      "set1 :  {25, 'admin'} <class 'set'>\n",
      "set2 :  {25, 'admin'} <class 'set'>\n",
      "After using add :\n",
      "set1 :  {25, 'admin'} <class 'set'>\n",
      "set2 :  {25, 'admin', 9500912258} <class 'set'>\n"
     ]
    }
   ],
   "source": [
    "set1 = {'admin', 25}\n",
    "\n",
    "set2 = set1.copy()\n",
    "\n",
    "print('set1 : ', set1, type(set1))\n",
    "\n",
    "print('set2 : ', set2, type(set2))\n",
    "\n",
    "\n",
    "#  add value\n",
    "\n",
    "set2.add(9500912258)\n",
    "\n",
    "print('After using add :')\n",
    "\n",
    "print('set1 : ', set1, type(set1))\n",
    "\n",
    "print('set2 : ', set2, type(set2))\n"
   ]
  },
  {
   "cell_type": "markdown",
   "id": "b1f81115-d942-4c26-ba95-080858670820",
   "metadata": {},
   "source": [
    "Add two set variables :\n",
    "-----------------------"
   ]
  },
  {
   "cell_type": "code",
   "execution_count": 9,
   "id": "b34d16af-928b-4d44-a33a-2352f39ef048",
   "metadata": {},
   "outputs": [
    {
     "name": "stdout",
     "output_type": "stream",
     "text": [
      "set1 :  {25, 'admin'} <class 'set'>\n",
      "set2 :  {9500912258, 'admin@gmail.com'} <class 'set'>\n",
      "After add two Variables :\n",
      "set1 :  {25, 'admin', 'admin@gmail.com', 9500912258} <class 'set'>\n"
     ]
    }
   ],
   "source": [
    "set1 = {'admin', 25}\n",
    "\n",
    "set2 = {9500912258, 'admin@gmail.com'}\n",
    "\n",
    "print('set1 : ', set1, type(set1))\n",
    "\n",
    "print('set2 : ', set2, type(set2))\n",
    "\n",
    "set1.update(set2)\n",
    "\n",
    "print('After add two Variables :')\n",
    "\n",
    "print('set1 : ', set1, type(set1))\n"
   ]
  },
  {
   "cell_type": "markdown",
   "id": "c09155f4-0184-4e36-a8a2-7f81af503c9e",
   "metadata": {},
   "source": [
    "Remove and Discard values\n",
    "-------------------------"
   ]
  },
  {
   "cell_type": "code",
   "execution_count": 15,
   "id": "2913aec4-262f-4f15-939c-288ed283ed2a",
   "metadata": {},
   "outputs": [
    {
     "name": "stdout",
     "output_type": "stream",
     "text": [
      "{25, 'admin', 'admin@gmail.com', 9500912258}\n",
      "{25, 'admin', 'admin@gmail.com'}\n",
      "{25, 'admin'}\n",
      "{25, 'admin'}\n"
     ]
    },
    {
     "ename": "KeyError",
     "evalue": "'TN'",
     "output_type": "error",
     "traceback": [
      "\u001b[31m---------------------------------------------------------------------------\u001b[39m",
      "\u001b[31mKeyError\u001b[39m                                  Traceback (most recent call last)",
      "\u001b[36mCell\u001b[39m\u001b[36m \u001b[39m\u001b[32mIn[15]\u001b[39m\u001b[32m, line 19\u001b[39m\n\u001b[32m     15\u001b[39m studentDetails.discard(\u001b[33m'\u001b[39m\u001b[33mTN\u001b[39m\u001b[33m'\u001b[39m)\n\u001b[32m     17\u001b[39m \u001b[38;5;28mprint\u001b[39m(studentDetails)\n\u001b[32m---> \u001b[39m\u001b[32m19\u001b[39m \u001b[43mstudentDetails\u001b[49m\u001b[43m.\u001b[49m\u001b[43mremove\u001b[49m\u001b[43m(\u001b[49m\u001b[33;43m'\u001b[39;49m\u001b[33;43mTN\u001b[39;49m\u001b[33;43m'\u001b[39;49m\u001b[43m)\u001b[49m\n\u001b[32m     21\u001b[39m \u001b[38;5;28mprint\u001b[39m(studentDetails)\n",
      "\u001b[31mKeyError\u001b[39m: 'TN'"
     ]
    }
   ],
   "source": [
    "studentDetails = {25, 'admin', 'admin@gmail.com', 9500912258}\n",
    "\n",
    "print(studentDetails)\n",
    "\n",
    "studentDetails.remove(9500912258)\n",
    "\n",
    "print(studentDetails)\n",
    "\n",
    "studentDetails.discard('admin@gmail.com')\n",
    "\n",
    "print(studentDetails)\n",
    "\n",
    "# Difference between remove & discard\n",
    "\n",
    "studentDetails.discard('TN')\n",
    "\n",
    "print(studentDetails)\n",
    "\n",
    "studentDetails.remove('TN') # KeyError: 'TN'\n",
    "\n",
    "print(studentDetails)\n",
    "\n"
   ]
  },
  {
   "cell_type": "markdown",
   "id": "5df9efef-2b8e-4c7b-9a27-b2ec104087bb",
   "metadata": {},
   "source": [
    "Set Operators\n",
    "-------------"
   ]
  },
  {
   "cell_type": "code",
   "execution_count": 24,
   "id": "11d3f448-7ece-4ca5-b2c3-ea123c5a7aae",
   "metadata": {},
   "outputs": [
    {
     "name": "stdout",
     "output_type": "stream",
     "text": [
      "set1 :  {1, 2, 3, 4, 5, 6} <class 'set'>\n",
      "set2 :  {4, 5, 6, 7, 8, 9} <class 'set'>\n",
      "Union :  {1, 2, 3, 4, 5, 6, 7, 8, 9}\n",
      "Intersection :  {4, 5, 6}\n",
      "Symmetric Difference :  {1, 2, 3, 7, 8, 9}\n"
     ]
    }
   ],
   "source": [
    "set1 = {1,2,3,4,5,6,3,2,1}\n",
    "\n",
    "set2 = {7,8,9,7,8,6,4,5}\n",
    "\n",
    "print('set1 : ', set1, type(set1))\n",
    "\n",
    "print('set2 : ', set2, type(set2))\n",
    "\n",
    "# Union\n",
    "\n",
    "result1 = set1.union(set2)\n",
    "\n",
    "print('Union : ', result1)\n",
    "\n",
    "# Intersection\n",
    "\n",
    "result2 = set1.intersection(set2)\n",
    "\n",
    "print('Intersection : ', result2)\n",
    "\n",
    "# Symmetric Difference\n",
    "\n",
    "result3 = set1.symmetric_difference(set2)\n",
    "\n",
    "print('Symmetric Difference : ', result3)"
   ]
  },
  {
   "cell_type": "code",
   "execution_count": null,
   "id": "fd4e5b50-99ba-4cfa-9228-b88a544a3e60",
   "metadata": {},
   "outputs": [],
   "source": []
  }
 ],
 "metadata": {
  "kernelspec": {
   "display_name": "Python 3 (ipykernel)",
   "language": "python",
   "name": "python3"
  },
  "language_info": {
   "codemirror_mode": {
    "name": "ipython",
    "version": 3
   },
   "file_extension": ".py",
   "mimetype": "text/x-python",
   "name": "python",
   "nbconvert_exporter": "python",
   "pygments_lexer": "ipython3",
   "version": "3.11.9"
  }
 },
 "nbformat": 4,
 "nbformat_minor": 5
}
