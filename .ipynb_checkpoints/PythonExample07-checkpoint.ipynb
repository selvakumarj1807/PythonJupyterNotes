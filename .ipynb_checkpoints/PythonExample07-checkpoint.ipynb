{
 "cells": [
  {
   "cell_type": "markdown",
   "id": "d30c61aa-9d59-462e-9be5-e08ae50de48f",
   "metadata": {},
   "source": [
    "List\n",
    "----\n",
    "\n",
    "1. List is a collection of Data type\n",
    "2. Its used for store multiple values and diffrent data type values like index in a single variable.\n",
    "3. Lists are Declare ' [  ] '\n"
   ]
  },
  {
   "cell_type": "code",
   "execution_count": 6,
   "id": "e32d5fd2-b7cd-4771-8bde-fecfe08b4c95",
   "metadata": {},
   "outputs": [
    {
     "name": "stdout",
     "output_type": "stream",
     "text": [
      "[10, 20, 30, 'Sara', 10.5, True, [100, 200, 300]] <class 'list'>\n"
     ]
    }
   ],
   "source": [
    "a = [10, 20, 30, 'Sara', 10.5, True, [100, 200, 300]]\n",
    "\n",
    "print(a, type(a))"
   ]
  },
  {
   "cell_type": "markdown",
   "id": "436f064c-4d9f-46ac-9e33-602877923ad6",
   "metadata": {},
   "source": [
    "Select values by Index\n",
    "----------------------\n",
    "1. index start from 0"
   ]
  },
  {
   "cell_type": "code",
   "execution_count": 9,
   "id": "343ef168-1e3b-45e0-bc19-0b71edef5e79",
   "metadata": {},
   "outputs": [
    {
     "name": "stdout",
     "output_type": "stream",
     "text": [
      "10 <class 'int'>\n",
      "20 <class 'int'>\n",
      "30 <class 'int'>\n",
      "Sara <class 'str'>\n",
      "10.5 <class 'float'>\n",
      "True <class 'bool'>\n",
      "[100, 200, 300] <class 'list'>\n"
     ]
    }
   ],
   "source": [
    "print(a[0], type(a[0]))\n",
    "print(a[1], type(a[1]))\n",
    "print(a[2], type(a[2]))\n",
    "print(a[3], type(a[3]))\n",
    "print(a[4], type(a[4]))\n",
    "print(a[5], type(a[5]))\n",
    "print(a[6], type(a[6]))"
   ]
  },
  {
   "cell_type": "markdown",
   "id": "75eac26f-c07d-4dad-8c8a-e407eb0d6b90",
   "metadata": {},
   "source": [
    "Select value by list of list\n",
    "----------------------------"
   ]
  },
  {
   "cell_type": "code",
   "execution_count": 10,
   "id": "41add0b6-3db6-4421-b074-2963875639c8",
   "metadata": {},
   "outputs": [
    {
     "name": "stdout",
     "output_type": "stream",
     "text": [
      "[100, 200, 300] <class 'list'>\n"
     ]
    }
   ],
   "source": [
    "print(a[6], type(a[6]))"
   ]
  },
  {
   "cell_type": "code",
   "execution_count": 12,
   "id": "84f87a48-5904-4686-b56b-8d47ce516714",
   "metadata": {},
   "outputs": [
    {
     "name": "stdout",
     "output_type": "stream",
     "text": [
      "100 <class 'int'>\n"
     ]
    }
   ],
   "source": [
    "print(a[6][0], type(a[6][0]))"
   ]
  },
  {
   "cell_type": "markdown",
   "id": "a9a3edf4-ae5b-4f59-9e0a-17b37fb82e4b",
   "metadata": {},
   "source": [
    "List Manipulation\n",
    "-----------------\n",
    "\n",
    "syntax\n",
    "------\n",
    "\n",
    "variableName [starting Position : ending Position - 1]\n",
    "\n"
   ]
  },
  {
   "cell_type": "code",
   "execution_count": 14,
   "id": "3b484efb-b608-4cec-a875-aa5789b2ab86",
   "metadata": {},
   "outputs": [
    {
     "name": "stdout",
     "output_type": "stream",
     "text": [
      "[10, 20]\n"
     ]
    }
   ],
   "source": [
    "print(a[0:2])"
   ]
  },
  {
   "cell_type": "code",
   "execution_count": 15,
   "id": "a0ea75e3-0396-4f50-9e29-69b4264e9720",
   "metadata": {},
   "outputs": [
    {
     "name": "stdout",
     "output_type": "stream",
     "text": [
      "[10.5, True, [100, 200, 300]]\n"
     ]
    }
   ],
   "source": [
    "print(a[4:])"
   ]
  },
  {
   "cell_type": "code",
   "execution_count": 16,
   "id": "3bdc6d1b-bb78-4d6e-976c-c897b8abfee4",
   "metadata": {},
   "outputs": [
    {
     "name": "stdout",
     "output_type": "stream",
     "text": [
      "10.5\n"
     ]
    }
   ],
   "source": [
    "print(a[-3])"
   ]
  },
  {
   "cell_type": "code",
   "execution_count": 17,
   "id": "b1e7201e-697a-4de9-a9fb-290843ed306e",
   "metadata": {},
   "outputs": [
    {
     "name": "stdout",
     "output_type": "stream",
     "text": [
      "[30, 'Sara', 10.5]\n"
     ]
    }
   ],
   "source": [
    "print(a[-5:-2])"
   ]
  },
  {
   "cell_type": "markdown",
   "id": "13df846f-23d7-4a37-ab9b-7f1b5bfeee3c",
   "metadata": {},
   "source": [
    "lsit Reverse\n",
    "------------"
   ]
  },
  {
   "cell_type": "code",
   "execution_count": 18,
   "id": "44f59832-d6d6-4d4c-b278-480d78ebc36e",
   "metadata": {},
   "outputs": [
    {
     "name": "stdout",
     "output_type": "stream",
     "text": [
      "[10, 20, 30, 'Sara', 10.5, True, [100, 200, 300]]\n"
     ]
    }
   ],
   "source": [
    "print(a)"
   ]
  },
  {
   "cell_type": "code",
   "execution_count": 19,
   "id": "5f5641fb-f995-472b-b2e9-d9a548b2051c",
   "metadata": {},
   "outputs": [
    {
     "name": "stdout",
     "output_type": "stream",
     "text": [
      "[[100, 200, 300], True, 10.5, 'Sara', 30, 20, 10]\n"
     ]
    }
   ],
   "source": [
    "print(a[::-1])"
   ]
  },
  {
   "cell_type": "code",
   "execution_count": null,
   "id": "ff8e9f19-df0a-48a4-9720-0dfa6e2247eb",
   "metadata": {},
   "outputs": [],
   "source": []
  }
 ],
 "metadata": {
  "kernelspec": {
   "display_name": "Python 3 (ipykernel)",
   "language": "python",
   "name": "python3"
  },
  "language_info": {
   "codemirror_mode": {
    "name": "ipython",
    "version": 3
   },
   "file_extension": ".py",
   "mimetype": "text/x-python",
   "name": "python",
   "nbconvert_exporter": "python",
   "pygments_lexer": "ipython3",
   "version": "3.11.9"
  }
 },
 "nbformat": 4,
 "nbformat_minor": 5
}
