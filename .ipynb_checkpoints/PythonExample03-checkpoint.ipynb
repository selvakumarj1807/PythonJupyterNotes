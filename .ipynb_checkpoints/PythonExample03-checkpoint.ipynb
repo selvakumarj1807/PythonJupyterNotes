{
 "cells": [
  {
   "cell_type": "markdown",
   "id": "71a4af74-d083-47e7-9fa6-570cb6650cc8",
   "metadata": {},
   "source": [
    "Membership Operators\n",
    "--------------------"
   ]
  },
  {
   "cell_type": "code",
   "execution_count": 2,
   "id": "902bcdec-9547-4734-901d-62db0b62f7f7",
   "metadata": {},
   "outputs": [
    {
     "name": "stdout",
     "output_type": "stream",
     "text": [
      "[10, 10.5, 'Admin', True] <class 'list'>\n"
     ]
    }
   ],
   "source": [
    "a = [10, 10.5, 'Admin', True]\n",
    "\n",
    "print(a, type(a))"
   ]
  },
  {
   "cell_type": "code",
   "execution_count": 3,
   "id": "68418bfc-5b01-4152-b37d-14fa1ebfd1c7",
   "metadata": {},
   "outputs": [
    {
     "name": "stdout",
     "output_type": "stream",
     "text": [
      "False\n"
     ]
    }
   ],
   "source": [
    "print(20 in a)"
   ]
  },
  {
   "cell_type": "code",
   "execution_count": 4,
   "id": "621d9595-86e3-4f31-9d41-7c1aa6fc3f59",
   "metadata": {},
   "outputs": [
    {
     "name": "stdout",
     "output_type": "stream",
     "text": [
      "True\n",
      "True\n"
     ]
    }
   ],
   "source": [
    "print(10 in a)\n",
    "\n",
    "print('Admin' in a)"
   ]
  },
  {
   "cell_type": "code",
   "execution_count": 5,
   "id": "a14f26b2-5568-43cd-8360-29a1369e31b7",
   "metadata": {},
   "outputs": [
    {
     "name": "stdout",
     "output_type": "stream",
     "text": [
      "False\n",
      "False\n"
     ]
    }
   ],
   "source": [
    "print(10 not in a)\n",
    "\n",
    "print('Admin' not in a)"
   ]
  },
  {
   "cell_type": "markdown",
   "id": "2884db2f-dd29-4700-9b01-54c3adb7a162",
   "metadata": {},
   "source": [
    "Identity Operators\n",
    "------------------"
   ]
  },
  {
   "cell_type": "code",
   "execution_count": 8,
   "id": "c929fe70-8312-48cc-bf1f-dbfea7841de4",
   "metadata": {},
   "outputs": [
    {
     "name": "stdout",
     "output_type": "stream",
     "text": [
      "140720912561224  -  140720912561224\n",
      "True\n"
     ]
    }
   ],
   "source": [
    "a = 10\n",
    "\n",
    "b = 10\n",
    "\n",
    "print(id(a), ' - ', id(b))\n",
    "\n",
    "print(a is b)"
   ]
  },
  {
   "cell_type": "code",
   "execution_count": 9,
   "id": "5dc40239-325c-4567-a83c-f21b0add2125",
   "metadata": {},
   "outputs": [
    {
     "name": "stdout",
     "output_type": "stream",
     "text": [
      "2553017919936  -  2553043534656\n",
      "False\n"
     ]
    }
   ],
   "source": [
    "a = [10, 10.5, 'Admin', True]\n",
    "\n",
    "b = [10, 10.5, 'Admin', True]\n",
    "\n",
    "print(id(a), ' - ', id(b))\n",
    "\n",
    "print(a is b)"
   ]
  },
  {
   "cell_type": "code",
   "execution_count": 10,
   "id": "d1b1c795-03e9-4226-a8c8-d36c8e6d90f7",
   "metadata": {},
   "outputs": [
    {
     "name": "stdout",
     "output_type": "stream",
     "text": [
      "140720912561224  -  140720912561224\n",
      "False\n"
     ]
    }
   ],
   "source": [
    "a = 10\n",
    "\n",
    "b = 10\n",
    "\n",
    "print(id(a), ' - ', id(b))\n",
    "\n",
    "print(a is not b)"
   ]
  },
  {
   "cell_type": "markdown",
   "id": "2f5f476d-2759-4d39-94ed-3d3a07857ef0",
   "metadata": {},
   "source": [
    "Bitwise Operators\n",
    "-----------------"
   ]
  },
  {
   "cell_type": "code",
   "execution_count": 12,
   "id": "f86c415d-e6f5-4daa-bc5a-ddfaabbe093c",
   "metadata": {},
   "outputs": [
    {
     "data": {
      "text/plain": [
       "'\\n0 = False\\n\\n1 = True\\n\\n#  1010\\n#  0010 &\\n-------\\n   0010\\n'"
      ]
     },
     "execution_count": 12,
     "metadata": {},
     "output_type": "execute_result"
    }
   ],
   "source": [
    "a = 10  #  1010\n",
    "\n",
    "b = 2   #  0010\n",
    "\n",
    "'''\n",
    "0 = False\n",
    "\n",
    "1 = True\n",
    "\n",
    "#  1010         #  1010         #  1010\n",
    "#  0010 &       #  0010 |       #  0010 ^\n",
    "-------         -------        --------\n",
    "   0010            1010            1000\n",
    "'''"
   ]
  },
  {
   "cell_type": "code",
   "execution_count": 20,
   "id": "3bdc3668-14b7-4e56-8f9e-8095dcea3adc",
   "metadata": {},
   "outputs": [
    {
     "name": "stdout",
     "output_type": "stream",
     "text": [
      "Bitwise & (and) Operators :  2\n",
      "Bitwise | (or) Operators :  10\n",
      "Bitwise ^ (xor) Operators :  8\n",
      "Bitwise ~ (not) Operators :  -11\n",
      "Bitwise LeftShift Operators :  40\n",
      "Bitwise LeftShift Operators :  80\n",
      "Bitwise RightSift Operators :  2\n",
      "Bitwise RightSift Operators :  1\n"
     ]
    }
   ],
   "source": [
    "print('Bitwise & (and) Operators : ',a & b) \n",
    "\n",
    "print('Bitwise | (or) Operators : ',a | b) \n",
    "\n",
    "print('Bitwise ^ (xor) Operators : ',a ^ b) \n",
    "\n",
    "print('Bitwise ~ (not) Operators : ', ~a) # ~a = -(a + 1) = -(10 + 1) = -11\n",
    "\n",
    "print('Bitwise LeftShift Operators : ', a << 2) # a << 2 = 10 * (2 * 2) = 10 * 4 = 40\n",
    "\n",
    "print('Bitwise LeftShift Operators : ', a << 3) # a << 2 = 10 * (2 * 2 * 2) = 10 * 8 = 80\n",
    "\n",
    "print('Bitwise RightSift Operators : ', a >> 2) # a << 2 = 10 / (2 * 2) = 10 / 4 = 2\n",
    "\n",
    "print('Bitwise RightSift Operators : ', a >> 3) # a << 2 = 10 / (2 * 2 * 2) = 10 / 8 = 1\n",
    "\n"
   ]
  },
  {
   "cell_type": "code",
   "execution_count": null,
   "id": "008d876f-91a8-40bc-8b97-55aad47c5bd2",
   "metadata": {},
   "outputs": [],
   "source": []
  }
 ],
 "metadata": {
  "kernelspec": {
   "display_name": "Python 3 (ipykernel)",
   "language": "python",
   "name": "python3"
  },
  "language_info": {
   "codemirror_mode": {
    "name": "ipython",
    "version": 3
   },
   "file_extension": ".py",
   "mimetype": "text/x-python",
   "name": "python",
   "nbconvert_exporter": "python",
   "pygments_lexer": "ipython3",
   "version": "3.11.9"
  }
 },
 "nbformat": 4,
 "nbformat_minor": 5
}
