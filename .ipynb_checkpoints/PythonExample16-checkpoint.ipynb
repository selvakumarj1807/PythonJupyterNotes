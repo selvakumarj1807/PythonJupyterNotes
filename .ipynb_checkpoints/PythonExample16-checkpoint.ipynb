{
 "cells": [
  {
   "cell_type": "markdown",
   "id": "654a01c6-83f3-4c65-b3fa-b0e9c8dabc24",
   "metadata": {},
   "source": [
    "Date Time Module:\n",
    "-----------------"
   ]
  },
  {
   "cell_type": "code",
   "execution_count": 1,
   "id": "db4c202b-f42c-4585-a4dd-a4514710310d",
   "metadata": {},
   "outputs": [],
   "source": [
    "import datetime"
   ]
  },
  {
   "cell_type": "markdown",
   "id": "555f9b31-1563-4f97-85b7-8ca860de7138",
   "metadata": {},
   "source": [
    "To Find System Date\n",
    "-------------------"
   ]
  },
  {
   "cell_type": "code",
   "execution_count": 7,
   "id": "672f98d8-e7c3-42eb-ab06-aa878ce08edb",
   "metadata": {},
   "outputs": [
    {
     "name": "stdout",
     "output_type": "stream",
     "text": [
      "Current Date : 2025-05-05 <class 'datetime.date'>\n"
     ]
    }
   ],
   "source": [
    "\n",
    "currentDate = datetime.date.today()\n",
    "\n",
    "print('Current Date :', currentDate, type(currentDate))"
   ]
  },
  {
   "cell_type": "markdown",
   "id": "ee8c6fc5-fff6-46d9-977d-4a92d8ad5f71",
   "metadata": {},
   "source": [
    "To Find System Date and Time\n",
    "----------------------------"
   ]
  },
  {
   "cell_type": "code",
   "execution_count": 6,
   "id": "82ea03fc-f799-43d1-bbf6-e15029abd0c6",
   "metadata": {},
   "outputs": [
    {
     "name": "stdout",
     "output_type": "stream",
     "text": [
      "Current Date & Time : 2025-05-05 11:30:12.625602\n"
     ]
    }
   ],
   "source": [
    "currentDateTime = datetime.datetime.now()\n",
    "\n",
    "print('Current Date & Time :', currentDateTime)"
   ]
  },
  {
   "cell_type": "markdown",
   "id": "83f8a835-c23c-4210-9d74-9efc6d0a4d39",
   "metadata": {},
   "source": [
    "To Split Date & Time\n",
    "--------------------"
   ]
  },
  {
   "cell_type": "code",
   "execution_count": 8,
   "id": "26dd88ac-f87a-4277-84e6-abda14259a40",
   "metadata": {},
   "outputs": [
    {
     "name": "stdout",
     "output_type": "stream",
     "text": [
      "Current Date & Time : 2025-05-05 11:33:06.681892\n",
      "---------------------------------------------------------------------\n",
      "Date :  2025-05-05\n",
      "Time :  11:33:06.681892\n"
     ]
    }
   ],
   "source": [
    "currentDateTime = datetime.datetime.now()\n",
    "\n",
    "print('Current Date & Time :', currentDateTime)\n",
    "\n",
    "print('---------------------------------------------------------------------')\n",
    "\n",
    "print('Date : ', currentDateTime.date())\n",
    "\n",
    "print('Time : ', currentDateTime.time())"
   ]
  },
  {
   "cell_type": "markdown",
   "id": "7211ed2f-c9ba-4834-9d7e-099acccb5831",
   "metadata": {},
   "source": [
    "Declare Customized Date & Time:\n",
    "-------------------------------"
   ]
  },
  {
   "cell_type": "code",
   "execution_count": 10,
   "id": "ab791dd2-8049-4535-b708-b1931a206589",
   "metadata": {},
   "outputs": [
    {
     "name": "stdout",
     "output_type": "stream",
     "text": [
      "Current Date : 2025-12-21 <class 'datetime.date'>\n"
     ]
    }
   ],
   "source": [
    "currentDate = datetime.date(2025,12,21)\n",
    "\n",
    "print('Current Date :', currentDate, type(currentDate))"
   ]
  },
  {
   "cell_type": "code",
   "execution_count": 19,
   "id": "1c17c6ae-3b3c-48e6-be45-1c73a0262b0f",
   "metadata": {},
   "outputs": [
    {
     "name": "stdout",
     "output_type": "stream",
     "text": [
      "Current Date & Time : 2022-12-31 12:46:01\n"
     ]
    }
   ],
   "source": [
    "currentDateTime = datetime.datetime(2022,12,31,12,46,1)\n",
    "\n",
    "print('Current Date & Time :', currentDateTime)\n"
   ]
  },
  {
   "cell_type": "code",
   "execution_count": null,
   "id": "cd36fb5d-b454-418d-a7e0-fbc68c4feca0",
   "metadata": {},
   "outputs": [],
   "source": [
    "\n",
    "'''\n",
    "To Day Task:\n",
    "------------\n",
    "\n",
    "How to split Customized Date & Time\n",
    "\n",
    "Sample Output\n",
    "\n",
    "Your Date & Time : 1999-07-18 12:45;32\n",
    "\n",
    "Date : 1999-07-18\n",
    "\n",
    "Time : 12:45;32\n",
    "''''"
   ]
  },
  {
   "cell_type": "markdown",
   "id": "a6af7763-1673-4519-a389-6a746a33e9ca",
   "metadata": {},
   "source": [
    "Date Time Format Change:\n",
    "------------------------"
   ]
  },
  {
   "cell_type": "code",
   "execution_count": 23,
   "id": "c5040958-ceba-426e-8c2c-585fde05f969",
   "metadata": {},
   "outputs": [
    {
     "name": "stdout",
     "output_type": "stream",
     "text": [
      "Current Date & Time : 2025-05-05 11:45:52.948612\n",
      "----------------------------------------------------------------------\n",
      "Format 01 :  Monday May 05 2025\n",
      "----------------------------------------------------------------------\n",
      "Format 02 :  Monday , 05 / May / 2025\n"
     ]
    }
   ],
   "source": [
    "currentDateTime = datetime.datetime.now()\n",
    "\n",
    "print('Current Date & Time :', currentDateTime)\n",
    "\n",
    "print('----------------------------------------------------------------------')\n",
    "\n",
    "# Format 01\n",
    "\n",
    "format01 = currentDateTime.strftime(\"%A %B %d %Y\")\n",
    "\n",
    "print('Format 01 : ', format01)\n",
    "\n",
    "print('----------------------------------------------------------------------')\n",
    "\n",
    "# Format 02\n",
    "\n",
    "format02 = currentDateTime.strftime(\"%A , %d / %B / %Y\")\n",
    "\n",
    "print('Format 02 : ', format02)"
   ]
  },
  {
   "cell_type": "code",
   "execution_count": null,
   "id": "85f7a962-c8be-4635-9afb-9bb54413afc7",
   "metadata": {},
   "outputs": [],
   "source": [
    "'''\n",
    "ToDay Task\n",
    "----------\n",
    "\n",
    "Question 1:\n",
    "-----------\n",
    "To write the Python code for below output. Using DateTime Module\n",
    "\n",
    "Your DOB : 18/07/1999\n",
    "\n",
    "Your Birth Day: Sunday\n",
    "\n",
    "Question 2:\n",
    "-----------\n",
    "\n",
    "To find Number Of Days, Number of Months, Number Years For below Two Dates\n",
    "date 01 - 18/07/1999\n",
    "dat2 02 - currentDate\n",
    "\n",
    "'''"
   ]
  }
 ],
 "metadata": {
  "kernelspec": {
   "display_name": "Python 3 (ipykernel)",
   "language": "python",
   "name": "python3"
  },
  "language_info": {
   "codemirror_mode": {
    "name": "ipython",
    "version": 3
   },
   "file_extension": ".py",
   "mimetype": "text/x-python",
   "name": "python",
   "nbconvert_exporter": "python",
   "pygments_lexer": "ipython3",
   "version": "3.11.9"
  }
 },
 "nbformat": 4,
 "nbformat_minor": 5
}
