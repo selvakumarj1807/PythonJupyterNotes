{
 "cells": [
  {
   "cell_type": "markdown",
   "id": "0b433700-d9a2-474b-a48d-7fae21b69eae",
   "metadata": {},
   "source": [
    "Functions:\n",
    "----------\n",
    "    1. Function is a block of code. Which only runs when it is called\n",
    "    2. Call the function - functionName()"
   ]
  },
  {
   "cell_type": "code",
   "execution_count": 1,
   "id": "16278dd8-5624-4b08-a15e-16220ed802ce",
   "metadata": {},
   "outputs": [],
   "source": [
    "def functionName():\n",
    "    print('Welcom to Python Function')"
   ]
  },
  {
   "cell_type": "code",
   "execution_count": 3,
   "id": "db1abbb5-235b-4811-bcc8-30461e84207c",
   "metadata": {},
   "outputs": [
    {
     "name": "stdout",
     "output_type": "stream",
     "text": [
      "Welcom to Python Function\n",
      "Welcom to Python Function\n",
      "Welcom to Python Function\n"
     ]
    }
   ],
   "source": [
    "functionName()\n",
    "\n",
    "functionName()\n",
    "\n",
    "functionName()"
   ]
  },
  {
   "cell_type": "markdown",
   "id": "3d731da2-e651-4c3d-a703-80c3515fdc2c",
   "metadata": {},
   "source": [
    "Function Types:\n",
    "---------------\n",
    "    1. No return type With out argument\n",
    "\n",
    "    2. No return type With argument\n",
    "\n",
    "    3. Return type With out argument\n",
    "\n",
    "    4. Return type With argument"
   ]
  },
  {
   "cell_type": "markdown",
   "id": "f07aa37d-edf8-4228-8c60-cd77933be413",
   "metadata": {},
   "source": [
    "# 1. No return type With out argument : \n",
    "---------------------------------------"
   ]
  },
  {
   "cell_type": "code",
   "execution_count": 4,
   "id": "bf2b18e4-8261-4e2f-b962-4ba87f9a2b4f",
   "metadata": {},
   "outputs": [],
   "source": [
    "# 1. No return type With out argument\n",
    "\n",
    "def add():   \n",
    "    a = int(input('Enter a Value 01 : '))\n",
    "\n",
    "    b = int(input('Enter a Value 02 : '))\n",
    "\n",
    "    print(a, ' + ', b, ' = ', a + b)\n",
    "    "
   ]
  },
  {
   "cell_type": "code",
   "execution_count": 5,
   "id": "aecc7e86-6212-4350-8a31-15bfa617cdc1",
   "metadata": {},
   "outputs": [
    {
     "name": "stdin",
     "output_type": "stream",
     "text": [
      "Enter a Value 01 :  20\n",
      "Enter a Value 02 :  10\n"
     ]
    },
    {
     "name": "stdout",
     "output_type": "stream",
     "text": [
      "20  +  10  =  30\n",
      "---------------------\n"
     ]
    },
    {
     "name": "stdin",
     "output_type": "stream",
     "text": [
      "Enter a Value 01 :  30\n",
      "Enter a Value 02 :  25\n"
     ]
    },
    {
     "name": "stdout",
     "output_type": "stream",
     "text": [
      "30  +  25  =  55\n"
     ]
    }
   ],
   "source": [
    "# Call the Function\n",
    "\n",
    "add()\n",
    "\n",
    "print('-----------------------------------------------------------------------')\n",
    "\n",
    "add()"
   ]
  },
  {
   "cell_type": "markdown",
   "id": "57618248-6e79-49f3-a7f6-88b4875fd28b",
   "metadata": {},
   "source": [
    "# 2. No return type With argument\n",
    "---------------------------------"
   ]
  },
  {
   "cell_type": "code",
   "execution_count": 6,
   "id": "ac4ddf2f-aa3c-415c-bc62-9f275f79853f",
   "metadata": {},
   "outputs": [],
   "source": [
    "# 2. No return type With argument\n",
    "\n",
    "def add(a, b):   \n",
    "    print(a, ' + ', b, ' = ', a + b)"
   ]
  },
  {
   "cell_type": "code",
   "execution_count": 7,
   "id": "a3a7927b-1596-4b31-9c5e-efb66b34aedc",
   "metadata": {},
   "outputs": [
    {
     "name": "stdout",
     "output_type": "stream",
     "text": [
      "2  +  5  =  7\n",
      "-------------------------------------------\n",
      "100  +  10  =  110\n",
      "-------------------------------------------\n",
      "50  +  5  =  55\n"
     ]
    }
   ],
   "source": [
    "# Call the function\n",
    "\n",
    "add(2, 5)\n",
    "\n",
    "print('-------------------------------------------')\n",
    "\n",
    "add(100, 10)\n",
    "\n",
    "print('-------------------------------------------')\n",
    "\n",
    "add(50, 5)"
   ]
  },
  {
   "cell_type": "markdown",
   "id": "9f43e727-69bc-48bb-bfd7-2c0570d1f7b6",
   "metadata": {},
   "source": [
    "# 3. Return type With out argument :\n",
    "------------------------------------"
   ]
  },
  {
   "cell_type": "code",
   "execution_count": 8,
   "id": "d71c31c7-d03d-4d94-9c87-6069503b0a0a",
   "metadata": {},
   "outputs": [],
   "source": [
    "# 3. Return type With out argument :\n",
    "\n",
    "def add():   \n",
    "    a = int(input('Enter a Value 01 : '))\n",
    "\n",
    "    b = int(input('Enter a Value 02 : '))\n",
    "\n",
    "    c = a + b\n",
    "\n",
    "    return c\n"
   ]
  },
  {
   "cell_type": "code",
   "execution_count": 10,
   "id": "36cd60a4-d80b-457d-97c8-cefc6ac8b057",
   "metadata": {},
   "outputs": [
    {
     "name": "stdin",
     "output_type": "stream",
     "text": [
      "Enter a Value 01 :  21\n",
      "Enter a Value 02 :  21\n"
     ]
    },
    {
     "name": "stdout",
     "output_type": "stream",
     "text": [
      "a + b =  42\n",
      "-----------------------------------------------------\n"
     ]
    },
    {
     "name": "stdin",
     "output_type": "stream",
     "text": [
      "Enter a Value 01 :  23\n",
      "Enter a Value 02 :  1\n"
     ]
    },
    {
     "name": "stdout",
     "output_type": "stream",
     "text": [
      "a + b =  24\n"
     ]
    }
   ],
   "source": [
    "d = add()\n",
    "\n",
    "print('a + b = ', d)\n",
    "\n",
    "print('-----------------------------------------------------')\n",
    "\n",
    "print('a + b = ', add())"
   ]
  },
  {
   "cell_type": "markdown",
   "id": "d9f575e5-b11b-4b52-9a04-eab8d1d52b5c",
   "metadata": {},
   "source": [
    "# 4. Return type With argument :\n",
    "--------------------------------"
   ]
  },
  {
   "cell_type": "code",
   "execution_count": 11,
   "id": "71619263-0e17-410f-91b4-6a27a3329fc2",
   "metadata": {},
   "outputs": [],
   "source": [
    "# 4. Return type With argument\n",
    "\n",
    "def add(a, b):\n",
    "    c = a + b\n",
    "    return c"
   ]
  },
  {
   "cell_type": "code",
   "execution_count": 13,
   "id": "ae81f4b7-aa88-413e-a1e7-0e775b8c029d",
   "metadata": {},
   "outputs": [
    {
     "name": "stdout",
     "output_type": "stream",
     "text": [
      "a + b =  29\n",
      "-------------------------------------------\n",
      "a + b =  22\n"
     ]
    }
   ],
   "source": [
    "d = add(21, 8)\n",
    "\n",
    "print('a + b = ', d)\n",
    "\n",
    "print('-------------------------------------------')\n",
    "\n",
    "print('a + b = ', add(10, 12))"
   ]
  },
  {
   "cell_type": "code",
   "execution_count": null,
   "id": "2e18c1c5-2afc-469d-ae34-45c5fd313071",
   "metadata": {},
   "outputs": [],
   "source": [
    "\n",
    "'''\n",
    "ToDay Task\n",
    "----------\n",
    "\n",
    "To write the python code for below output\n",
    "\n",
    "2  +  5  =  7\n",
    "-------------------------------------------\n",
    "100  +  10  =  110\n",
    "-------------------------------------------\n",
    "50  +  5  =  55\n",
    "\n",
    "\n",
    "Using 4. Return type With Argument\n",
    "\n",
    "'''"
   ]
  }
 ],
 "metadata": {
  "kernelspec": {
   "display_name": "Python 3 (ipykernel)",
   "language": "python",
   "name": "python3"
  },
  "language_info": {
   "codemirror_mode": {
    "name": "ipython",
    "version": 3
   },
   "file_extension": ".py",
   "mimetype": "text/x-python",
   "name": "python",
   "nbconvert_exporter": "python",
   "pygments_lexer": "ipython3",
   "version": "3.11.9"
  }
 },
 "nbformat": 4,
 "nbformat_minor": 5
}
