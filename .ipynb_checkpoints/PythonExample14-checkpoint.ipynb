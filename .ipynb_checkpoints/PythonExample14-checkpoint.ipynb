{
 "cells": [
  {
   "cell_type": "markdown",
   "id": "170e218a-22e1-466f-ac5c-ff4170e7556b",
   "metadata": {},
   "source": [
    "Arbitrary Argument Function :\n",
    "-----------------------------"
   ]
  },
  {
   "cell_type": "code",
   "execution_count": 11,
   "id": "7113475b-8e9a-461c-93a6-91e2ef7ee83e",
   "metadata": {},
   "outputs": [],
   "source": [
    "def ageValues(*age):\n",
    "    print(age, type(age))\n",
    "\n",
    "    print('-------------------------')\n",
    "\n",
    "    for i in age:\n",
    "        print(i)"
   ]
  },
  {
   "cell_type": "code",
   "execution_count": 12,
   "id": "717f5abd-ec61-4205-bfb0-fb148ed59fe7",
   "metadata": {},
   "outputs": [
    {
     "name": "stdout",
     "output_type": "stream",
     "text": [
      "(20, 25, 19, 39, 30) <class 'tuple'>\n",
      "-------------------------\n",
      "20\n",
      "25\n",
      "19\n",
      "39\n",
      "30\n"
     ]
    }
   ],
   "source": [
    "ageValues(20, 25, 19, 39, 30)"
   ]
  },
  {
   "cell_type": "code",
   "execution_count": 13,
   "id": "20663bef-141c-47d9-9d74-0134b84d4f69",
   "metadata": {},
   "outputs": [
    {
     "data": {
      "text/plain": [
       "'\\nToDay Task\\n\\nageValues(20, 25, 19, 39, 30)\\n\\n'"
      ]
     },
     "execution_count": 13,
     "metadata": {},
     "output_type": "execute_result"
    }
   ],
   "source": [
    "'''\n",
    "ToDay Task\n",
    "\n",
    "--Call the function\n",
    "ageValues(20, 25, 19, 39, 30, 16)\n",
    "\n",
    "To write the python function for below output using Arbitrary argument function\n",
    "\n",
    "20 is 18+\n",
    "\n",
    "25 is 18+\n",
    "\n",
    "19 is 18+\n",
    "\n",
    "39 is 18+\n",
    "\n",
    "30 is 18+\n",
    "\n",
    "16 is 18-\n",
    "\n",
    "'''"
   ]
  },
  {
   "cell_type": "markdown",
   "id": "653cc00b-48bc-409a-88e2-e229ce9ab086",
   "metadata": {},
   "source": [
    "Key Word Argument Function:\n",
    "---------------------------"
   ]
  },
  {
   "cell_type": "code",
   "execution_count": 15,
   "id": "6f3855f6-3035-4cca-b62c-7bdfcf6dde97",
   "metadata": {},
   "outputs": [],
   "source": [
    "def details(name, age):\n",
    "    print(name, 'your age is', age)\n",
    "    "
   ]
  },
  {
   "cell_type": "code",
   "execution_count": 18,
   "id": "703f8ed5-5058-4396-9221-bda9a27c5f1e",
   "metadata": {},
   "outputs": [
    {
     "name": "stdout",
     "output_type": "stream",
     "text": [
      "admin your age is 25\n"
     ]
    }
   ],
   "source": [
    "details(age = 25, name ='admin')"
   ]
  },
  {
   "cell_type": "markdown",
   "id": "b965c988-0752-4c80-9841-035686933916",
   "metadata": {},
   "source": [
    "Key word Arbitrary Argument Function\n",
    "------------------------------------"
   ]
  },
  {
   "cell_type": "code",
   "execution_count": 26,
   "id": "5f248ec7-beae-4dd9-b95a-0d81dfd13b59",
   "metadata": {},
   "outputs": [],
   "source": [
    "def details(**detail):\n",
    "    print(detail, type(detail))\n",
    "    "
   ]
  },
  {
   "cell_type": "code",
   "execution_count": 27,
   "id": "b65dbdd3-5989-4e4c-8a19-9447080c5399",
   "metadata": {},
   "outputs": [
    {
     "name": "stdout",
     "output_type": "stream",
     "text": [
      "{'age': 25, 'name': 'admin', 'mobile': 9500912258} <class 'dict'>\n"
     ]
    }
   ],
   "source": [
    "details(age = 25, name ='admin', mobile = 9500912258)"
   ]
  },
  {
   "cell_type": "markdown",
   "id": "87ff3a2a-dbf1-4e3b-99d9-f36b329672ab",
   "metadata": {},
   "source": [
    "Default Parameter Function:\n",
    "---------------------------"
   ]
  },
  {
   "cell_type": "code",
   "execution_count": 7,
   "id": "72ca56c1-9e95-4fbd-88e6-aa142f1f3ac3",
   "metadata": {},
   "outputs": [],
   "source": [
    "def details(name, age, state = 'TN'):\n",
    "    print(name, 'your age is', age, ' - ', state)\n",
    "    "
   ]
  },
  {
   "cell_type": "code",
   "execution_count": 9,
   "id": "77925978-52c2-4f18-a758-a1b0f454c455",
   "metadata": {},
   "outputs": [
    {
     "name": "stdout",
     "output_type": "stream",
     "text": [
      "admin your age is 25  -  TamilNadu\n",
      "----------------------------------------------------------------\n",
      "Sara your age is 22  -  Kerala\n",
      "----------------------------------------------------------------\n",
      "Sara Dev your age is 18  -  TN\n"
     ]
    }
   ],
   "source": [
    "details('admin', 25, 'TamilNadu')\n",
    "\n",
    "print('----------------------------------------------------------------')\n",
    "\n",
    "details('Sara', 22, 'Kerala')\n",
    "\n",
    "print('----------------------------------------------------------------')\n",
    "\n",
    "details('Sara Dev', 18)"
   ]
  },
  {
   "cell_type": "markdown",
   "id": "47114313-2645-4363-b153-658c31808cb2",
   "metadata": {},
   "source": [
    "Pass the List Values in Function Argument :\n",
    "-------------------------------------------"
   ]
  },
  {
   "cell_type": "code",
   "execution_count": 13,
   "id": "973529c0-2ad8-41be-8c4a-9aab391fe6ef",
   "metadata": {},
   "outputs": [],
   "source": [
    "def ageValues(age):\n",
    "    print(age, type(age))\n",
    "\n",
    "    print('-------------------------')\n",
    "\n",
    "    for i in age:\n",
    "        print(i)"
   ]
  },
  {
   "cell_type": "code",
   "execution_count": 14,
   "id": "b1666bb5-ef23-4a8c-a879-e003b356980a",
   "metadata": {},
   "outputs": [
    {
     "name": "stdout",
     "output_type": "stream",
     "text": [
      "[20, 25, 19, 39, 30] <class 'list'>\n",
      "-------------------------\n",
      "20\n",
      "25\n",
      "19\n",
      "39\n",
      "30\n"
     ]
    }
   ],
   "source": [
    "ageValues([20, 25, 19, 39, 30])"
   ]
  },
  {
   "cell_type": "code",
   "execution_count": 15,
   "id": "ca7383b2-bd7c-4a84-b6fa-67126026f6d0",
   "metadata": {},
   "outputs": [],
   "source": [
    "def markValues(markList):\n",
    "    print(sum(markList))"
   ]
  },
  {
   "cell_type": "code",
   "execution_count": 17,
   "id": "3df57278-ec2c-4478-900e-4b01bb64f2be",
   "metadata": {},
   "outputs": [
    {
     "name": "stdout",
     "output_type": "stream",
     "text": [
      "370\n",
      "345\n"
     ]
    }
   ],
   "source": [
    "markValues([90, 70, 80, 50, 80])\n",
    "\n",
    "markValues([50, 78, 85, 50, 82])"
   ]
  },
  {
   "cell_type": "markdown",
   "id": "cd4ad707-2ae9-4384-9d68-f4b32bf7f7d4",
   "metadata": {},
   "source": [
    "Lambda Function\n",
    "---------------"
   ]
  },
  {
   "cell_type": "code",
   "execution_count": 22,
   "id": "465e9f6d-3f8f-4cdc-b115-eff5922e05ad",
   "metadata": {},
   "outputs": [
    {
     "name": "stdout",
     "output_type": "stream",
     "text": [
      "your age is 26\n",
      "-----------------------------------------------------------\n",
      "your age is 25\n"
     ]
    }
   ],
   "source": [
    "BOY = lambda dob: 2025 - dob\n",
    "\n",
    "print('your age is', BOY(1999))\n",
    "\n",
    "print('-----------------------------------------------------------')\n",
    "\n",
    "print('your age is', BOY(2000))"
   ]
  },
  {
   "cell_type": "code",
   "execution_count": 24,
   "id": "9bd7da2f-0cea-4441-a266-a89288036ca7",
   "metadata": {},
   "outputs": [
    {
     "name": "stdout",
     "output_type": "stream",
     "text": [
      "60\n"
     ]
    }
   ],
   "source": [
    "sum = lambda a, b, c: a + b + c\n",
    "\n",
    "print(sum(20, 10, 30))"
   ]
  },
  {
   "cell_type": "code",
   "execution_count": null,
   "id": "77cfbf19-ca25-4d6c-a312-32cf759ffd3f",
   "metadata": {},
   "outputs": [],
   "source": []
  }
 ],
 "metadata": {
  "kernelspec": {
   "display_name": "Python 3 (ipykernel)",
   "language": "python",
   "name": "python3"
  },
  "language_info": {
   "codemirror_mode": {
    "name": "ipython",
    "version": 3
   },
   "file_extension": ".py",
   "mimetype": "text/x-python",
   "name": "python",
   "nbconvert_exporter": "python",
   "pygments_lexer": "ipython3",
   "version": "3.11.9"
  }
 },
 "nbformat": 4,
 "nbformat_minor": 5
}
