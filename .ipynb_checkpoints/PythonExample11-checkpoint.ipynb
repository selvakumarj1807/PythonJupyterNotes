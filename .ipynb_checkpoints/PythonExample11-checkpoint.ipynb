{
 "cells": [
  {
   "cell_type": "markdown",
   "id": "39c4499e-9366-4e57-8f46-733f2af424e9",
   "metadata": {},
   "source": [
    "Dictionary :\n",
    "------------\n",
    "\n",
    "        1. Dictionary is a collection of Data type\n",
    "        2. Its used for store multiple values and diffrent data type values but not like index in a single variable.\n",
    "        3. Dictionary are Declare ' {key: value} '\n",
    "        4. Dictionary is used for remove Duplicate Records"
   ]
  },
  {
   "cell_type": "code",
   "execution_count": 2,
   "id": "fbc9ac30-6366-43a1-850b-d8f7c5d2f513",
   "metadata": {},
   "outputs": [
    {
     "name": "stdout",
     "output_type": "stream",
     "text": [
      "{'name': 'Admin', 'age': 25} <class 'dict'>\n"
     ]
    }
   ],
   "source": [
    "user = {'name': 'Admin', 'age': 25}\n",
    "\n",
    "print(user, type(user))"
   ]
  },
  {
   "cell_type": "markdown",
   "id": "b7a96816-45a1-4439-b4d7-a8c5ffc91d6a",
   "metadata": {},
   "source": [
    "To get a single value\n",
    "---------------------"
   ]
  },
  {
   "cell_type": "code",
   "execution_count": 5,
   "id": "3d348e41-5ca7-4aee-891c-8a2c0bc02b23",
   "metadata": {},
   "outputs": [
    {
     "name": "stdout",
     "output_type": "stream",
     "text": [
      "Admin\n",
      "25\n"
     ]
    }
   ],
   "source": [
    "print(user['name'])\n",
    "\n",
    "print(user.get('age'))"
   ]
  },
  {
   "cell_type": "code",
   "execution_count": 7,
   "id": "c5500a7d-017b-459f-8c83-95c14185dd6f",
   "metadata": {},
   "outputs": [
    {
     "name": "stdout",
     "output_type": "stream",
     "text": [
      "{'name': 'Admin', 'age': 25}\n",
      "Tamil Nadu\n"
     ]
    },
    {
     "ename": "KeyError",
     "evalue": "'state'",
     "output_type": "error",
     "traceback": [
      "\u001b[1;31m---------------------------------------------------------------------------\u001b[0m",
      "\u001b[1;31mKeyError\u001b[0m                                  Traceback (most recent call last)",
      "Cell \u001b[1;32mIn[7], line 6\u001b[0m\n\u001b[0;32m      2\u001b[0m \u001b[38;5;28mprint\u001b[39m(user)\n\u001b[0;32m      4\u001b[0m \u001b[38;5;28mprint\u001b[39m(user\u001b[38;5;241m.\u001b[39mget(\u001b[38;5;124m'\u001b[39m\u001b[38;5;124mstate\u001b[39m\u001b[38;5;124m'\u001b[39m, \u001b[38;5;124m'\u001b[39m\u001b[38;5;124mTamil Nadu\u001b[39m\u001b[38;5;124m'\u001b[39m))\n\u001b[1;32m----> 6\u001b[0m \u001b[38;5;28mprint\u001b[39m(\u001b[43muser\u001b[49m\u001b[43m[\u001b[49m\u001b[38;5;124;43m'\u001b[39;49m\u001b[38;5;124;43mstate\u001b[39;49m\u001b[38;5;124;43m'\u001b[39;49m\u001b[43m]\u001b[49m) \u001b[38;5;66;03m# KeyError: 'state'\u001b[39;00m\n",
      "\u001b[1;31mKeyError\u001b[0m: 'state'"
     ]
    }
   ],
   "source": [
    "# Difference Detween two types\n",
    "print(user)\n",
    "\n",
    "print(user.get('state', 'Tamil Nadu')) # Declare Default values for undefined keys\n",
    "\n",
    "print(user['state']) # KeyError: 'state'\n"
   ]
  },
  {
   "cell_type": "code",
   "execution_count": 13,
   "id": "082eaa83-57cc-4aef-8746-fe09bfefff8b",
   "metadata": {},
   "outputs": [
    {
     "name": "stdout",
     "output_type": "stream",
     "text": [
      "dict_keys(['name', 'age'])\n",
      "dict_values(['Admin', 25])\n",
      "dict_items([('name', 'Admin'), ('age', 25)])\n",
      "dict_values(['Admin', 25]) <class 'dict_values'>\n"
     ]
    }
   ],
   "source": [
    "# Get Key , Values, items\n",
    "\n",
    "print(user.keys())\n",
    "\n",
    "print(user.values())\n",
    "\n",
    "print(user.items())\n",
    "\n",
    "items = user.items()\n",
    "\n",
    "print(items, type(items))"
   ]
  },
  {
   "cell_type": "markdown",
   "id": "936368c3-6046-4510-84da-c3f1d35b8342",
   "metadata": {},
   "source": [
    "For loop in Dictionary\n",
    "----------------------"
   ]
  },
  {
   "cell_type": "code",
   "execution_count": 16,
   "id": "3642d1cf-aa77-4fff-aee8-ee83bb7e63e2",
   "metadata": {},
   "outputs": [
    {
     "name": "stdout",
     "output_type": "stream",
     "text": [
      "{'name': 'Admin', 'age': 25}\n",
      "-----------------\n",
      "\n",
      "name  -  Admin\n",
      "age  -  25\n"
     ]
    }
   ],
   "source": [
    "print(user)\n",
    "\n",
    "print('-----------------')\n",
    "print('')\n",
    "\n",
    "for i in user:\n",
    "    print(i, ' - ', user[i])"
   ]
  },
  {
   "cell_type": "markdown",
   "id": "b875d57f-2c2a-4495-80f3-d06a1eaf87ca",
   "metadata": {},
   "source": [
    "Dictionary Values change\n",
    "------------------------"
   ]
  },
  {
   "cell_type": "code",
   "execution_count": 19,
   "id": "714eb292-48fb-4607-a2a9-da83c0426652",
   "metadata": {},
   "outputs": [
    {
     "name": "stdout",
     "output_type": "stream",
     "text": [
      "{'name': 'Admin', 'age': 25}\n",
      "-----------------\n",
      "\n",
      "{'name': 'Sara', 'age': 25}\n"
     ]
    }
   ],
   "source": [
    "user = {'name': 'Admin', 'age': 25}\n",
    "\n",
    "print(user)\n",
    "\n",
    "print('-----------------')\n",
    "print('')\n",
    "\n",
    "user['name'] = 'Sara'\n",
    "\n",
    "print(user)"
   ]
  },
  {
   "cell_type": "markdown",
   "id": "29981fc3-f9fe-4aca-a966-d0068de20067",
   "metadata": {},
   "source": [
    "Values Add in dictionary\n",
    "------------------------"
   ]
  },
  {
   "cell_type": "code",
   "execution_count": 27,
   "id": "932b3f6d-8056-4947-bb38-896f391236a7",
   "metadata": {},
   "outputs": [
    {
     "name": "stdout",
     "output_type": "stream",
     "text": [
      "{'name': 'Admin', 'age': 25}\n",
      "-----------------\n",
      "\n",
      "{'name': 'Admin', 'age': 25, 'mobile': 9500912258, 'state': 'TN'}\n"
     ]
    }
   ],
   "source": [
    "user = {'name': 'Admin', 'age': 25}\n",
    "\n",
    "print(user)\n",
    "\n",
    "print('-----------------')\n",
    "print('')\n",
    "\n",
    "userDetails = {'mobile': 9500912258, 'state': 'TN'}\n",
    "\n",
    "user.update(userDetails)\n",
    "\n",
    "print(user)"
   ]
  },
  {
   "cell_type": "markdown",
   "id": "72bddd72-7538-4a14-892a-2b8f05b31c84",
   "metadata": {},
   "source": [
    "Remove Dictionary Values\n",
    "------------------------"
   ]
  },
  {
   "cell_type": "code",
   "execution_count": 1,
   "id": "272c20fc-b04f-4040-b762-31721f184de7",
   "metadata": {},
   "outputs": [
    {
     "name": "stdout",
     "output_type": "stream",
     "text": [
      "{'name': 'Admin', 'age': 25}\n"
     ]
    }
   ],
   "source": [
    "user = {'name': 'Admin', 'age': 25}\n",
    "\n",
    "print(user)"
   ]
  },
  {
   "cell_type": "code",
   "execution_count": 29,
   "id": "db6b64a6-6056-4f7c-894a-84bd3eeeb2e5",
   "metadata": {},
   "outputs": [
    {
     "name": "stdout",
     "output_type": "stream",
     "text": [
      "{'name': 'Admin'}\n"
     ]
    }
   ],
   "source": [
    "user.pop('age')\n",
    "\n",
    "print(user)"
   ]
  },
  {
   "cell_type": "markdown",
   "id": "f121fe01-1771-402b-830e-48f3bd8ed84a",
   "metadata": {},
   "source": [
    "Declare Multiple Users in Dictionary\n",
    "------------------------------------"
   ]
  },
  {
   "cell_type": "code",
   "execution_count": 2,
   "id": "b6925f85-386c-4bb9-bf6d-92ec214939c5",
   "metadata": {},
   "outputs": [
    {
     "name": "stdout",
     "output_type": "stream",
     "text": [
      "{'user1': {'name': 'Admin', 'age': 25}, 'user2': {'name': 'Sara', 'age': 23}}\n"
     ]
    }
   ],
   "source": [
    "users = {\n",
    "    \"user1\": {'name': 'Admin', 'age': 25},\n",
    "    \"user2\": {'name': 'Sara', 'age': 23}\n",
    "}\n",
    "\n",
    "print(users)"
   ]
  },
  {
   "cell_type": "code",
   "execution_count": 5,
   "id": "97c372b1-097d-4bd1-95c2-3e09984f0471",
   "metadata": {},
   "outputs": [
    {
     "name": "stdout",
     "output_type": "stream",
     "text": [
      "User1 :  {'name': 'Admin', 'age': 25}\n"
     ]
    }
   ],
   "source": [
    "# To Find Single User\n",
    "\n",
    "print('User1 : ', users['user1'])"
   ]
  },
  {
   "cell_type": "code",
   "execution_count": 7,
   "id": "82d540bb-052e-476e-afd6-ec24e9d01021",
   "metadata": {},
   "outputs": [
    {
     "name": "stdout",
     "output_type": "stream",
     "text": [
      "User1 Name :  Admin\n",
      "User2 Name :  Sara\n"
     ]
    }
   ],
   "source": [
    "# To Find Single User Name\n",
    "\n",
    "print('User1 Name : ', users['user1']['name'])\n",
    "\n",
    "print('User2 Name : ', users['user2']['name'])"
   ]
  },
  {
   "cell_type": "code",
   "execution_count": null,
   "id": "8a2f19dc-ab66-4ded-92fd-00c45f83e4bd",
   "metadata": {},
   "outputs": [],
   "source": [
    "\n",
    "'''\n",
    "ToDay Task\n",
    "----------\n",
    "\n",
    "To Write the Python code for\n",
    "\n",
    "User1 Name :  Admin - 25\n",
    "User2 Name :  Sara - 23\n",
    "\n",
    "these output using for loop\n",
    "\n",
    "'''"
   ]
  }
 ],
 "metadata": {
  "kernelspec": {
   "display_name": "Python 3 (ipykernel)",
   "language": "python",
   "name": "python3"
  },
  "language_info": {
   "codemirror_mode": {
    "name": "ipython",
    "version": 3
   },
   "file_extension": ".py",
   "mimetype": "text/x-python",
   "name": "python",
   "nbconvert_exporter": "python",
   "pygments_lexer": "ipython3",
   "version": "3.11.9"
  }
 },
 "nbformat": 4,
 "nbformat_minor": 5
}
