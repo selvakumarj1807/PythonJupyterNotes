{
 "cells": [
  {
   "cell_type": "markdown",
   "id": "065f36ea-8d4f-4c4d-b312-fada5e44ac22",
   "metadata": {},
   "source": [
    "List Functions:\n",
    "---------------"
   ]
  },
  {
   "cell_type": "code",
   "execution_count": 2,
   "id": "0a4e554a-caf2-4066-8bd3-662bc7e8d508",
   "metadata": {},
   "outputs": [
    {
     "name": "stdout",
     "output_type": "stream",
     "text": [
      "[10, 30, 15, 20, 40, 35, 50, 45, 50] <class 'list'>\n"
     ]
    }
   ],
   "source": [
    "a = [10,30,15,20,40,35,50,45,50]\n",
    "\n",
    "print(a, type(a))"
   ]
  },
  {
   "cell_type": "code",
   "execution_count": 20,
   "id": "f6a45a43-2fda-4c8f-bea7-5975b80e288b",
   "metadata": {},
   "outputs": [
    {
     "name": "stdout",
     "output_type": "stream",
     "text": [
      "Minimum values of a variable :  10\n",
      "Maximum values of a variable :  50\n",
      "Sum values of a variable :  195\n",
      "Length values of a variable :  6\n",
      "Count (50) values of a variable :  1\n",
      "Find variable values :  2\n"
     ]
    }
   ],
   "source": [
    "print('Minimum values of a variable : ', min(a))\n",
    "\n",
    "print('Maximum values of a variable : ', max(a))\n",
    "\n",
    "print('Sum values of a variable : ', sum(a))\n",
    "\n",
    "print('Length values of a variable : ', len(a))\n",
    "\n",
    "print('Count (50) values of a variable : ', a.count(50))\n",
    "\n",
    "print('Find Index Position of variable values : ', a.index(40))"
   ]
  },
  {
   "cell_type": "markdown",
   "id": "ff2a06e3-5424-4dc4-aa35-779a4917cb03",
   "metadata": {},
   "source": [
    "Delete Values:\n",
    "--------------"
   ]
  },
  {
   "cell_type": "code",
   "execution_count": 18,
   "id": "f012ad5c-a606-4511-b663-940b177cb7f8",
   "metadata": {},
   "outputs": [
    {
     "name": "stdout",
     "output_type": "stream",
     "text": [
      "[10, 30, 15, 20, 40, 35, 50, 45, 50]\n",
      "[10, 30, 15, 20, 40, 35, 50, 45]\n",
      "Delete values by Index Position : [10, 15, 20, 40, 35, 50, 45]\n",
      "Delete values by variable value : [10, 15, 40, 35, 50, 45]\n"
     ]
    }
   ],
   "source": [
    "a = [10,30,15,20,40,35,50,45,50]\n",
    "\n",
    "print(a)\n",
    "\n",
    "a.pop()\n",
    "\n",
    "print(a)\n",
    "\n",
    "a.pop(1)\n",
    "\n",
    "print('Delete values by Index Position :', a)\n",
    "\n",
    "a.remove(20)\n",
    "\n",
    "print('Delete values by variable value :', a)"
   ]
  },
  {
   "cell_type": "markdown",
   "id": "52704ba7-4191-4873-9ed4-cb7ac23ea3de",
   "metadata": {},
   "source": [
    "Insert Values:\n",
    "--------------"
   ]
  },
  {
   "cell_type": "code",
   "execution_count": 27,
   "id": "2d884d15-8596-4d3c-96eb-1007d4df130b",
   "metadata": {},
   "outputs": [
    {
     "name": "stdout",
     "output_type": "stream",
     "text": [
      "[10, 'admin', 25] <class 'list'>\n",
      "admin\n",
      "[10, 'Sara', 25]\n",
      "[10, 'Sara', 25, 9500912258]\n",
      "['sara@gmail.com', 'Chemistry'] <class 'list'>\n",
      "[10, 'Sara', 25, 9500912258, 'sara@gmail.com', 'Chemistry']\n",
      "[10, 'Sara', 'admin', 25, 9500912258, 'sara@gmail.com', 'Chemistry']\n"
     ]
    }
   ],
   "source": [
    "a = [10, 'admin', 25]\n",
    "\n",
    "print(a, type(a))\n",
    "\n",
    "print(a[1])\n",
    "\n",
    "a[1] = 'Sara' # Assign value by index position \n",
    "\n",
    "print(a)\n",
    "\n",
    "a.append(9500912258) # Add values\n",
    "\n",
    "print(a)\n",
    "\n",
    "b = ['sara@gmail.com', 'Chemistry']\n",
    "\n",
    "print(b, type(b))\n",
    "\n",
    "a.extend(b) # add two list variable in a single variable\n",
    "\n",
    "print(a)\n",
    "\n",
    "a.insert(2, 'admin') # add values in a seperate index position\n",
    "\n",
    "print(a)"
   ]
  },
  {
   "cell_type": "markdown",
   "id": "b66059f5-e780-4f63-aeab-f28efec46d2d",
   "metadata": {},
   "source": [
    "Sorting:\n",
    "-------"
   ]
  },
  {
   "cell_type": "code",
   "execution_count": 31,
   "id": "08dd4c48-9162-4f03-957a-c4ac4bb1e750",
   "metadata": {},
   "outputs": [
    {
     "name": "stdout",
     "output_type": "stream",
     "text": [
      "[12, 50, 20, 25, 32, 40, 10, 24]\n",
      "[10, 12, 20, 24, 25, 32, 40, 50]\n",
      "[50, 40, 32, 25, 24, 20, 12, 10]\n"
     ]
    }
   ],
   "source": [
    "age = [12,50,20,25,32,40,10,24]\n",
    "\n",
    "print(age)\n",
    "\n",
    "age.sort() # Order by minimum to maximum\n",
    "\n",
    "print(age)\n",
    "\n",
    "age.sort(reverse=True) # order by maximum to minimum\n",
    "\n",
    "print(age)"
   ]
  },
  {
   "cell_type": "code",
   "execution_count": 39,
   "id": "85255321-ca62-483a-b61c-25338a34ab31",
   "metadata": {},
   "outputs": [
    {
     "name": "stdout",
     "output_type": "stream",
     "text": [
      "['aa', 'cccc', 'bbbbbb', 'd', 'eee']\n",
      "['aa', 'bbbbbb', 'cccc', 'd', 'eee']\n",
      "['eee', 'd', 'cccc', 'bbbbbb', 'aa']\n",
      "['d', 'aa', 'eee', 'cccc', 'bbbbbb']\n",
      "['bbbbbb', 'cccc', 'eee', 'aa', 'd']\n"
     ]
    }
   ],
   "source": [
    "name = ['aa', 'cccc', 'bbbbbb', 'd', 'eee']\n",
    "\n",
    "print(name)\n",
    "\n",
    "name.sort()\n",
    "\n",
    "print(name)\n",
    "\n",
    "name.sort(reverse=True)\n",
    "\n",
    "print(name)\n",
    "\n",
    "name.sort(key=len) # Order by length values\n",
    "\n",
    "print(name)\n",
    "\n",
    "name.sort(key=len, reverse=True) # Order by length values Reverse\n",
    "\n",
    "print(name)\n",
    "\n"
   ]
  },
  {
   "cell_type": "code",
   "execution_count": null,
   "id": "54213b15-1fc3-4e40-b8c8-879b4168c297",
   "metadata": {},
   "outputs": [],
   "source": [
    "'''\n",
    "ToDay Task\n",
    "----------\n",
    "\n",
    "age = [10,20,40,30,20,50,60,45,25,25,30,20]\n",
    "\n",
    "1. To delete a Duplicate age values\n",
    "2. To find a Duplicate values\n",
    "3. To find a Duplicate values Index Position\n",
    "'''"
   ]
  },
  {
   "cell_type": "code",
   "execution_count": 40,
   "id": "b430ad3b-8185-46ff-a0e0-2262847570a7",
   "metadata": {},
   "outputs": [
    {
     "name": "stdout",
     "output_type": "stream",
     "text": [
      "[10, 'admin', 25, 'sara@gmail.com', 'Chemistry']\n"
     ]
    }
   ],
   "source": [
    "a = [10, 'admin', 25, 'sara@gmail.com', 'Chemistry']\n",
    "\n",
    "print(a)"
   ]
  },
  {
   "cell_type": "code",
   "execution_count": 41,
   "id": "6ae96094-17e3-40d9-9625-3d66a964a5a2",
   "metadata": {},
   "outputs": [
    {
     "name": "stdout",
     "output_type": "stream",
     "text": [
      "10\n",
      "admin\n",
      "25\n",
      "sara@gmail.com\n",
      "Chemistry\n"
     ]
    }
   ],
   "source": [
    "for i in a:\n",
    "    print(i)"
   ]
  },
  {
   "cell_type": "code",
   "execution_count": 43,
   "id": "e925cd06-5087-48f4-a837-eac306413f10",
   "metadata": {},
   "outputs": [
    {
     "name": "stdout",
     "output_type": "stream",
     "text": [
      "no\n"
     ]
    }
   ],
   "source": [
    "if 'admin' in a:\n",
    "    print('yes')\n",
    "else:\n",
    "    print('no')"
   ]
  },
  {
   "cell_type": "code",
   "execution_count": null,
   "id": "4faf5e9d-7188-4b3a-9257-bfa8ad0c34be",
   "metadata": {},
   "outputs": [],
   "source": []
  }
 ],
 "metadata": {
  "kernelspec": {
   "display_name": "Python 3 (ipykernel)",
   "language": "python",
   "name": "python3"
  },
  "language_info": {
   "codemirror_mode": {
    "name": "ipython",
    "version": 3
   },
   "file_extension": ".py",
   "mimetype": "text/x-python",
   "name": "python",
   "nbconvert_exporter": "python",
   "pygments_lexer": "ipython3",
   "version": "3.11.9"
  }
 },
 "nbformat": 4,
 "nbformat_minor": 5
}
