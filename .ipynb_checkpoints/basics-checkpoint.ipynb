{
 "cells": [
  {
   "cell_type": "markdown",
   "id": "64ac04f6-94fa-4416-856c-774559af21f0",
   "metadata": {},
   "source": [
    "Python Basics\n",
    "-------------"
   ]
  },
  {
   "cell_type": "markdown",
   "id": "6bc59295-c917-4eac-a680-576b0ccef34c",
   "metadata": {},
   "source": [
    "Data Types & Variable\n",
    "---------------------"
   ]
  },
  {
   "cell_type": "code",
   "execution_count": 5,
   "id": "a24e2546-1c12-4c8b-a5d9-9b8165d8684a",
   "metadata": {},
   "outputs": [
    {
     "name": "stdout",
     "output_type": "stream",
     "text": [
      "10 <class 'int'>\n",
      "10.5 <class 'float'>\n",
      "admin@gmail.com <class 'str'>\n",
      "True <class 'bool'>\n"
     ]
    }
   ],
   "source": [
    "# Variables\n",
    "\n",
    "a = 10\n",
    "\n",
    "b = 10.5\n",
    "\n",
    "c = 'admin@gmail.com'\n",
    "\n",
    "d = True\n",
    "\n",
    "# Data Types\n",
    "'''\n",
    "int - 0 to 9\n",
    "float - 10.5,,,,,,(Decimal values or . values)\n",
    "string(str) - a to z, A to Z, Special Characters(!,@,#,$,%,^,&,*)\n",
    "boolean(bool) - True, False\n",
    "'''\n",
    "\n",
    "print(a, type(a))\n",
    "\n",
    "print(b, type(b))\n",
    "\n",
    "print(c, type(c))\n",
    "\n",
    "print(d, type(d))"
   ]
  },
  {
   "cell_type": "code",
   "execution_count": 10,
   "id": "0ba0168d-6532-4557-9587-2524fb6961c4",
   "metadata": {},
   "outputs": [
    {
     "name": "stdout",
     "output_type": "stream",
     "text": [
      "Proofreading service and writing assistant. Get professional proofreading service online. We Provide High-Quality Academic English Editing & Proofreading Services. Subscribe For Updates. High-Quality Services.\n",
      "\n",
      "Proofreading service and writing assistant. Get professional proofreading service online.\n",
      "We Provide High-Quality Academic English Editing & Proofreading Services. Subscribe For Updates.\n",
      "High-Quality Services.\n"
     ]
    }
   ],
   "source": [
    "# Single Line Comment\n",
    "\n",
    "'''\n",
    "Multi \n",
    "Line\n",
    "Comment\n",
    "'''\n",
    "\n",
    "a = 'Proofreading service and writing assistant. Get professional proofreading service online. We Provide High-Quality Academic English Editing & Proofreading Services. Subscribe For Updates. High-Quality Services.'\n",
    "\n",
    "print(a)\n",
    "\n",
    "print('')\n",
    "\n",
    "a = '''Proofreading service and writing assistant. Get professional proofreading service online.\n",
    "We Provide High-Quality Academic English Editing & Proofreading Services. Subscribe For Updates.\n",
    "High-Quality Services.'''\n",
    "\n",
    "print(a)"
   ]
  },
  {
   "cell_type": "markdown",
   "id": "7a3ebb73-097a-4492-90fa-8a5ac10ae37e",
   "metadata": {},
   "source": [
    "If & Else\n",
    "---------\n",
    "\n",
    "Using Python Input"
   ]
  },
  {
   "cell_type": "code",
   "execution_count": 17,
   "id": "bb76b054-15f5-4aeb-8688-413aff4a7a00",
   "metadata": {},
   "outputs": [
    {
     "name": "stdin",
     "output_type": "stream",
     "text": [
      "Enter your age :  12\n"
     ]
    },
    {
     "name": "stdout",
     "output_type": "stream",
     "text": [
      "False\n",
      "\n",
      "12 Not Eligible for vote\n"
     ]
    }
   ],
   "source": [
    "age = int(input('Enter your age : '))\n",
    "\n",
    "print(age >= 18)\n",
    "\n",
    "print('')\n",
    "\n",
    "if age >= 18:\n",
    "    print(age, 'Eligible for vote')\n",
    "\n",
    "else:\n",
    "    print(age, 'Not Eligible for vote')"
   ]
  },
  {
   "cell_type": "markdown",
   "id": "fd204a43-9e54-48af-b24d-6f2cfc24633f",
   "metadata": {},
   "source": [
    "Elif & Nested If & Logical Operators\n",
    "------------------------------------"
   ]
  },
  {
   "cell_type": "code",
   "execution_count": 25,
   "id": "35082946-23b1-47e6-b292-ba0072734af3",
   "metadata": {},
   "outputs": [
    {
     "name": "stdin",
     "output_type": "stream",
     "text": [
      "Enter mark1 :  70\n",
      "Enter mark2 :  80\n",
      "Enter mark3 :  80\n"
     ]
    },
    {
     "name": "stdout",
     "output_type": "stream",
     "text": [
      "True\n",
      "\n",
      "Pass\n",
      "Total 230\n",
      "Average 76.66666666666667\n",
      "Average 76.66666666666667 Grade C+\n"
     ]
    }
   ],
   "source": [
    "mark1 = int(input('Enter mark1 : '))\n",
    "mark2 = int(input('Enter mark2 : '))\n",
    "mark3 = int(input('Enter mark3 : '))\n",
    "\n",
    "total = mark1 + mark2 + mark3\n",
    "\n",
    "average = total / 3\n",
    "\n",
    "print(mark1 >= 35 and mark2 >= 35 and mark3 >= 35)\n",
    "\n",
    "print('')\n",
    "\n",
    "if mark1 >= 35 and mark2 >= 35 and mark3 >= 35:\n",
    "    print('Pass')\n",
    "\n",
    "    print('Total', total)\n",
    "\n",
    "    print('Average', average)\n",
    "\n",
    "    if average >= 90 and average <= 100:\n",
    "        print('Average', average, 'Grade A+')\n",
    "\n",
    "    elif average >= 80 and average <= 90:\n",
    "        print('Average', average, 'Grade B+')\n",
    "\n",
    "    elif average >= 70 and average <= 80:\n",
    "        print('Average', average, 'Grade C+')\n",
    "\n",
    "    else:\n",
    "        print('Average', average, 'Grade D')\n",
    "\n",
    "else:\n",
    "    print('Fail')"
   ]
  },
  {
   "cell_type": "markdown",
   "id": "e1a061bc-18a3-4772-a476-221c5fba286d",
   "metadata": {},
   "source": [
    "While Loop\n",
    "----------"
   ]
  },
  {
   "cell_type": "code",
   "execution_count": 26,
   "id": "4b025102-c3fc-4c7a-85b4-7fac26e3fae2",
   "metadata": {},
   "outputs": [
    {
     "name": "stdout",
     "output_type": "stream",
     "text": [
      "0\n",
      "1\n",
      "2\n",
      "3\n",
      "4\n",
      "5\n",
      "6\n",
      "7\n",
      "8\n",
      "9\n",
      "10\n"
     ]
    }
   ],
   "source": [
    "i = 0\n",
    "\n",
    "n = 10\n",
    "\n",
    "while i <= n:\n",
    "    print(i)\n",
    "    i = i + 1\n",
    "    "
   ]
  },
  {
   "cell_type": "code",
   "execution_count": 27,
   "id": "93d29b87-9d88-49df-89fd-75ee599d0383",
   "metadata": {},
   "outputs": [
    {
     "name": "stdout",
     "output_type": "stream",
     "text": [
      "0\n",
      "2\n",
      "4\n",
      "6\n",
      "8\n",
      "10\n"
     ]
    }
   ],
   "source": [
    "# To Find Even Numbers\n",
    "\n",
    "i = 0\n",
    "\n",
    "n = 10\n",
    "\n",
    "while i <= n:\n",
    "    print(i)\n",
    "    i = i + 2\n",
    "    "
   ]
  },
  {
   "cell_type": "code",
   "execution_count": 28,
   "id": "0fd38e2d-453b-4728-b737-a5f23bca1d9c",
   "metadata": {},
   "outputs": [
    {
     "name": "stdout",
     "output_type": "stream",
     "text": [
      "1\n",
      "3\n",
      "5\n",
      "7\n",
      "9\n"
     ]
    }
   ],
   "source": [
    "# To Find Even Numbers\n",
    "\n",
    "i = 1\n",
    "\n",
    "n = 10\n",
    "\n",
    "while i <= n:\n",
    "    print(i)\n",
    "    i = i + 2"
   ]
  },
  {
   "cell_type": "code",
   "execution_count": 30,
   "id": "b28667a5-f871-41a2-8db3-6adbff6b1e48",
   "metadata": {},
   "outputs": [
    {
     "name": "stdout",
     "output_type": "stream",
     "text": [
      "1  *  2  =  2\n",
      "2  *  2  =  4\n",
      "3  *  2  =  6\n",
      "4  *  2  =  8\n",
      "5  *  2  =  10\n",
      "6  *  2  =  12\n",
      "7  *  2  =  14\n",
      "8  *  2  =  16\n",
      "9  *  2  =  18\n",
      "10  *  2  =  20\n"
     ]
    }
   ],
   "source": [
    "# Table\n",
    "\n",
    "i = 1\n",
    "\n",
    "n = 10\n",
    "\n",
    "table = 2\n",
    "\n",
    "while i <= n:\n",
    "    result = i * table\n",
    "    print(i, ' * ', table, ' = ', result) # 1 * 2 = 2\n",
    "    i = i + 1"
   ]
  },
  {
   "cell_type": "markdown",
   "id": "24dcab96-3f59-40be-9a23-783a78e1caf0",
   "metadata": {},
   "source": [
    "For Loop\n",
    "--------"
   ]
  },
  {
   "cell_type": "code",
   "execution_count": 31,
   "id": "31da6d1f-3bd9-4f02-a558-ddd5e7b0677b",
   "metadata": {},
   "outputs": [
    {
     "name": "stdout",
     "output_type": "stream",
     "text": [
      "0\n",
      "1\n",
      "2\n",
      "3\n",
      "4\n",
      "5\n",
      "6\n",
      "7\n",
      "8\n",
      "9\n"
     ]
    }
   ],
   "source": [
    "'''\n",
    "1. Default value Intial is 0\n",
    "2. Default value Increment 1\n",
    "'''\n",
    "\n",
    "for i in range(10):\n",
    "    print(i)"
   ]
  },
  {
   "cell_type": "code",
   "execution_count": 32,
   "id": "48c9ec20-ff71-4594-a0a3-a6c151a85225",
   "metadata": {},
   "outputs": [
    {
     "name": "stdout",
     "output_type": "stream",
     "text": [
      "0\n",
      "2\n",
      "4\n",
      "6\n",
      "8\n"
     ]
    }
   ],
   "source": [
    "# To Find Even Number\n",
    "\n",
    "for i in range(0,10,2):\n",
    "    print(i)"
   ]
  },
  {
   "cell_type": "code",
   "execution_count": 33,
   "id": "6e350431-769b-4002-b42c-6d0cf7a56708",
   "metadata": {},
   "outputs": [
    {
     "name": "stdout",
     "output_type": "stream",
     "text": [
      "1\n",
      "3\n",
      "5\n",
      "7\n",
      "9\n"
     ]
    }
   ],
   "source": [
    "# To Find Odd Number\n",
    "\n",
    "for i in range(1,10,2):\n",
    "    print(i)"
   ]
  },
  {
   "cell_type": "code",
   "execution_count": 35,
   "id": "36450dfb-c0d1-423a-a539-cb9578f849c7",
   "metadata": {},
   "outputs": [
    {
     "name": "stdin",
     "output_type": "stream",
     "text": [
      "Enter your age :  30\n"
     ]
    },
    {
     "name": "stdout",
     "output_type": "stream",
     "text": [
      "True\n",
      "\n",
      "30 Eligible for vote\n",
      "------------------------------\n",
      "\n"
     ]
    },
    {
     "name": "stdin",
     "output_type": "stream",
     "text": [
      "Enter your age :  10\n"
     ]
    },
    {
     "name": "stdout",
     "output_type": "stream",
     "text": [
      "False\n",
      "\n",
      "10 Not Eligible for vote\n",
      "------------------------------\n",
      "\n"
     ]
    },
    {
     "name": "stdin",
     "output_type": "stream",
     "text": [
      "Enter your age :  40\n"
     ]
    },
    {
     "name": "stdout",
     "output_type": "stream",
     "text": [
      "True\n",
      "\n",
      "40 Eligible for vote\n",
      "------------------------------\n",
      "\n"
     ]
    }
   ],
   "source": [
    "for i in range(3):\n",
    "    age = int(input('Enter your age : '))\n",
    "\n",
    "    print(age >= 18)\n",
    "    \n",
    "    print('')\n",
    "    \n",
    "    if age >= 18:\n",
    "        print(age, 'Eligible for vote')\n",
    "    \n",
    "    else:\n",
    "        print(age, 'Not Eligible for vote')\n",
    "\n",
    "    print('------------------------------')\n",
    "    print('')\n"
   ]
  },
  {
   "cell_type": "code",
   "execution_count": null,
   "id": "48ab2ed2-40d5-4919-8bf7-74768a3f60cd",
   "metadata": {},
   "outputs": [],
   "source": []
  }
 ],
 "metadata": {
  "kernelspec": {
   "display_name": "Python 3 (ipykernel)",
   "language": "python",
   "name": "python3"
  },
  "language_info": {
   "codemirror_mode": {
    "name": "ipython",
    "version": 3
   },
   "file_extension": ".py",
   "mimetype": "text/x-python",
   "name": "python",
   "nbconvert_exporter": "python",
   "pygments_lexer": "ipython3",
   "version": "3.11.9"
  }
 },
 "nbformat": 4,
 "nbformat_minor": 5
}
