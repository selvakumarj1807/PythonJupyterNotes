{
 "cells": [
  {
   "cell_type": "markdown",
   "id": "2c767dca-9b11-4baf-bc62-40a883de8b3f",
   "metadata": {},
   "source": [
    "While:\n",
    "------"
   ]
  },
  {
   "cell_type": "code",
   "execution_count": 1,
   "id": "8023067e-ec43-4583-9181-345dd2d95b39",
   "metadata": {},
   "outputs": [
    {
     "name": "stdout",
     "output_type": "stream",
     "text": [
      "0\n",
      "1\n",
      "2\n",
      "3\n",
      "4\n",
      "5\n",
      "6\n",
      "7\n",
      "8\n",
      "9\n",
      "10\n"
     ]
    }
   ],
   "source": [
    "i = 0\n",
    "\n",
    "n = 10\n",
    "\n",
    "while i <= n:\n",
    "    print(i)\n",
    "\n",
    "    i = i + 1"
   ]
  },
  {
   "cell_type": "markdown",
   "id": "35bd233b-1647-4356-87cc-3e599baec448",
   "metadata": {},
   "source": [
    "Break in While Loop\n",
    "-------------------"
   ]
  },
  {
   "cell_type": "code",
   "execution_count": 2,
   "id": "25380713-97bf-4a22-af98-6d0b293eb505",
   "metadata": {},
   "outputs": [
    {
     "name": "stdout",
     "output_type": "stream",
     "text": [
      "0\n",
      "1\n",
      "2\n",
      "3\n",
      "4\n",
      "5\n"
     ]
    }
   ],
   "source": [
    "i = 0\n",
    "\n",
    "n = 10\n",
    "\n",
    "while i <= n:\n",
    "    print(i)\n",
    "\n",
    "    if i == 5:\n",
    "        break\n",
    "        print('Break Worked')\n",
    "\n",
    "    i = i + 1"
   ]
  },
  {
   "cell_type": "markdown",
   "id": "0d42499e-c9a0-4b05-8e6e-37883106692c",
   "metadata": {},
   "source": [
    "Pass in While Loop\n",
    "------------------"
   ]
  },
  {
   "cell_type": "code",
   "execution_count": 3,
   "id": "228a2b1d-120a-48d6-9a3f-01f1662c23e9",
   "metadata": {},
   "outputs": [
    {
     "name": "stdout",
     "output_type": "stream",
     "text": [
      "0\n",
      "1\n",
      "2\n",
      "3\n",
      "4\n",
      "5\n",
      "Pass Worked\n",
      "6\n",
      "7\n",
      "8\n",
      "9\n",
      "10\n"
     ]
    }
   ],
   "source": [
    "i = 0\n",
    "\n",
    "n = 10\n",
    "\n",
    "while i <= n:\n",
    "    print(i)\n",
    "\n",
    "    if i == 5:\n",
    "        pass\n",
    "        print('Pass Worked')\n",
    "\n",
    "    i = i + 1"
   ]
  },
  {
   "cell_type": "markdown",
   "id": "46d6d0e2-d7d3-4020-9f5a-609e58b31db6",
   "metadata": {},
   "source": [
    "Continue in While Loop\n",
    "----------------------"
   ]
  },
  {
   "cell_type": "code",
   "execution_count": 4,
   "id": "9c7193ed-d338-4aca-b5e5-07fd40025caf",
   "metadata": {},
   "outputs": [
    {
     "name": "stdout",
     "output_type": "stream",
     "text": [
      "0\n",
      "1\n",
      "2\n",
      "3\n",
      "4\n",
      "5\n",
      "6\n",
      "7\n",
      "8\n",
      "9\n",
      "10\n"
     ]
    }
   ],
   "source": [
    "i = 0 # Value Initial\n",
    "\n",
    "n = 10\n",
    "\n",
    "while i <= n: # Conditional Checking\n",
    "    print(i)\n",
    "\n",
    "    if i == 5:\n",
    "        i = i + 1\n",
    "        continue\n",
    "        print('Continue Worked')\n",
    "\n",
    "    i = i + 1 # Value increment"
   ]
  },
  {
   "cell_type": "markdown",
   "id": "772eea49-08d9-4ca9-9a78-14009f744591",
   "metadata": {},
   "source": [
    "For Loop\n",
    "--------"
   ]
  },
  {
   "cell_type": "code",
   "execution_count": 5,
   "id": "a96a5251-a080-46ab-ac3e-9c2710e3ef26",
   "metadata": {},
   "outputs": [
    {
     "name": "stdout",
     "output_type": "stream",
     "text": [
      "0\n",
      "1\n",
      "2\n",
      "3\n",
      "4\n",
      "5\n",
      "6\n",
      "7\n",
      "8\n",
      "9\n"
     ]
    }
   ],
   "source": [
    "for i in range(10):\n",
    "    print(i)"
   ]
  },
  {
   "cell_type": "code",
   "execution_count": 6,
   "id": "22864b84-cd2b-4020-a363-d021553ae866",
   "metadata": {},
   "outputs": [
    {
     "name": "stdout",
     "output_type": "stream",
     "text": [
      "1\n",
      "3\n",
      "5\n",
      "7\n",
      "9\n"
     ]
    }
   ],
   "source": [
    "for i in range(1,10,2):\n",
    "    print(i)"
   ]
  },
  {
   "cell_type": "code",
   "execution_count": 7,
   "id": "501574f5-c3bf-4ff0-8dc3-e0345b098638",
   "metadata": {},
   "outputs": [
    {
     "name": "stdout",
     "output_type": "stream",
     "text": [
      "0\n",
      "2\n",
      "4\n",
      "6\n",
      "8\n"
     ]
    }
   ],
   "source": [
    "for i in range(0,10,2):\n",
    "    print(i)"
   ]
  },
  {
   "cell_type": "code",
   "execution_count": 9,
   "id": "e8701bfb-eeca-4812-a8fc-31b2c05e7709",
   "metadata": {},
   "outputs": [
    {
     "name": "stdin",
     "output_type": "stream",
     "text": [
      "Enter your name :  admin\n",
      "Enter your age :  21\n"
     ]
    },
    {
     "name": "stdout",
     "output_type": "stream",
     "text": [
      "admin age is 21\n"
     ]
    },
    {
     "name": "stdin",
     "output_type": "stream",
     "text": [
      "Enter your name :  sara\n",
      "Enter your age :  21\n"
     ]
    },
    {
     "name": "stdout",
     "output_type": "stream",
     "text": [
      "sara age is 21\n"
     ]
    }
   ],
   "source": [
    "for i in range(2):\n",
    "    name = input('Enter your name : ')\n",
    "\n",
    "    age = int(input('Enter your age : '))\n",
    "\n",
    "    print(name, 'age is', age)"
   ]
  },
  {
   "cell_type": "code",
   "execution_count": null,
   "id": "f0c633a2-447f-434c-9596-41b9f11928f0",
   "metadata": {},
   "outputs": [],
   "source": []
  }
 ],
 "metadata": {
  "kernelspec": {
   "display_name": "Python 3 (ipykernel)",
   "language": "python",
   "name": "python3"
  },
  "language_info": {
   "codemirror_mode": {
    "name": "ipython",
    "version": 3
   },
   "file_extension": ".py",
   "mimetype": "text/x-python",
   "name": "python",
   "nbconvert_exporter": "python",
   "pygments_lexer": "ipython3",
   "version": "3.11.9"
  }
 },
 "nbformat": 4,
 "nbformat_minor": 5
}
