{
 "cells": [
  {
   "cell_type": "markdown",
   "id": "21f01ee4-9d9a-4b94-a5a7-c0a5b966725b",
   "metadata": {},
   "source": [
    "Create CSV Files\n",
    "----------------"
   ]
  },
  {
   "cell_type": "code",
   "execution_count": 1,
   "id": "6a0e7e15-2172-4e8e-a696-6dec82baea72",
   "metadata": {},
   "outputs": [],
   "source": [
    "import pandas as pd"
   ]
  },
  {
   "cell_type": "code",
   "execution_count": 2,
   "id": "8d9a8523-138a-4316-afdb-97b6e7ad785c",
   "metadata": {},
   "outputs": [
    {
     "name": "stdout",
     "output_type": "stream",
     "text": [
      "{'day': ['1/1/2017', '1/2/2017', '1/3/2017', '1/4/2017', '1/5/2017', '1/6/2017'], 'temperature': [32, 35, 28, 24, 32, 31], 'windspeed': [6, 7, 2, 7, 4, 2], 'event': ['Rain', 'Sunny', 'Snow', 'Snow', 'Rain', 'Sunny']} <class 'dict'>\n"
     ]
    }
   ],
   "source": [
    "# Define the data\n",
    "\n",
    "weather_data = {\n",
    "    'day': ['1/1/2017','1/2/2017','1/3/2017','1/4/2017','1/5/2017','1/6/2017'],\n",
    "    'temperature': [32,35,28,24,32,31],\n",
    "    'windspeed': [6,7,2,7,4,2],\n",
    "    'event': ['Rain', 'Sunny', 'Snow', 'Snow', 'Rain', 'Sunny']\n",
    "}\n",
    "\n",
    "\n",
    "print(weather_data, type(weather_data))"
   ]
  },
  {
   "cell_type": "markdown",
   "id": "6071ae5b-6e02-43ca-94ce-78735665186f",
   "metadata": {},
   "source": [
    "# Create DataFrame\n",
    "\n",
    "df = pd.DataFrame(weather_data)\n",
    "\n",
    "print('-----------------------------------------------------')\n",
    "\n",
    "df"
   ]
  },
  {
   "cell_type": "code",
   "execution_count": 4,
   "id": "820a5322-bce0-40a7-bb5e-30adeee5490e",
   "metadata": {},
   "outputs": [
    {
     "name": "stdout",
     "output_type": "stream",
     "text": [
      "CSV file created successfully.\n"
     ]
    }
   ],
   "source": [
    "# DataFrame values to CSV file(Comma seperated file)\n",
    "\n",
    "df.to_csv('weather_data.csv', index=False)\n",
    "\n",
    "print(\"CSV file created successfully.\")"
   ]
  },
  {
   "cell_type": "markdown",
   "id": "d6d11142-4a77-4df3-a43f-ec84c000c263",
   "metadata": {},
   "source": [
    "Create Microsoft Excel File\n",
    "---------------------------"
   ]
  },
  {
   "cell_type": "markdown",
   "id": "3ab0638a-1c19-4409-97e0-6db6cb503677",
   "metadata": {},
   "source": [
    "Write two dataframes to two separate sheets in excel\n",
    "----------------------------------------------------"
   ]
  },
  {
   "cell_type": "code",
   "execution_count": 6,
   "id": "060befe8-767c-4ac9-9c55-2c9808337983",
   "metadata": {},
   "outputs": [],
   "source": [
    "# Create df_stocks, df_weather DataFrame\n",
    "\n",
    "df_stocks = pd.DataFrame({\n",
    "    'tickers': ['GOOGL', 'WMT', 'MSFT'],\n",
    "    'price': [845, 65, 64 ],\n",
    "    'pe': [30.37, 14.26, 30.97],\n",
    "    'eps': [27.82, 4.61, 2.12]\n",
    "})\n",
    "\n",
    "df_weather =  pd.DataFrame({\n",
    "    'day': ['1/1/2017','1/2/2017','1/3/2017'],\n",
    "    'temperature': [32,35,28],\n",
    "    'event': ['Rain', 'Sunny', 'Snow']\n",
    "})"
   ]
  },
  {
   "cell_type": "code",
   "execution_count": 7,
   "id": "5b7e6e89-d3d0-4d99-ba8a-41011938bef8",
   "metadata": {},
   "outputs": [
    {
     "data": {
      "text/html": [
       "<div>\n",
       "<style scoped>\n",
       "    .dataframe tbody tr th:only-of-type {\n",
       "        vertical-align: middle;\n",
       "    }\n",
       "\n",
       "    .dataframe tbody tr th {\n",
       "        vertical-align: top;\n",
       "    }\n",
       "\n",
       "    .dataframe thead th {\n",
       "        text-align: right;\n",
       "    }\n",
       "</style>\n",
       "<table border=\"1\" class=\"dataframe\">\n",
       "  <thead>\n",
       "    <tr style=\"text-align: right;\">\n",
       "      <th></th>\n",
       "      <th>tickers</th>\n",
       "      <th>price</th>\n",
       "      <th>pe</th>\n",
       "      <th>eps</th>\n",
       "    </tr>\n",
       "  </thead>\n",
       "  <tbody>\n",
       "    <tr>\n",
       "      <th>0</th>\n",
       "      <td>GOOGL</td>\n",
       "      <td>845</td>\n",
       "      <td>30.37</td>\n",
       "      <td>27.82</td>\n",
       "    </tr>\n",
       "    <tr>\n",
       "      <th>1</th>\n",
       "      <td>WMT</td>\n",
       "      <td>65</td>\n",
       "      <td>14.26</td>\n",
       "      <td>4.61</td>\n",
       "    </tr>\n",
       "    <tr>\n",
       "      <th>2</th>\n",
       "      <td>MSFT</td>\n",
       "      <td>64</td>\n",
       "      <td>30.97</td>\n",
       "      <td>2.12</td>\n",
       "    </tr>\n",
       "  </tbody>\n",
       "</table>\n",
       "</div>"
      ],
      "text/plain": [
       "  tickers  price     pe    eps\n",
       "0   GOOGL    845  30.37  27.82\n",
       "1     WMT     65  14.26   4.61\n",
       "2    MSFT     64  30.97   2.12"
      ]
     },
     "execution_count": 7,
     "metadata": {},
     "output_type": "execute_result"
    }
   ],
   "source": [
    "df_stocks"
   ]
  },
  {
   "cell_type": "code",
   "execution_count": 8,
   "id": "b3023ea0-17b5-4406-8d7b-8289a7e6b87b",
   "metadata": {},
   "outputs": [
    {
     "data": {
      "text/html": [
       "<div>\n",
       "<style scoped>\n",
       "    .dataframe tbody tr th:only-of-type {\n",
       "        vertical-align: middle;\n",
       "    }\n",
       "\n",
       "    .dataframe tbody tr th {\n",
       "        vertical-align: top;\n",
       "    }\n",
       "\n",
       "    .dataframe thead th {\n",
       "        text-align: right;\n",
       "    }\n",
       "</style>\n",
       "<table border=\"1\" class=\"dataframe\">\n",
       "  <thead>\n",
       "    <tr style=\"text-align: right;\">\n",
       "      <th></th>\n",
       "      <th>day</th>\n",
       "      <th>temperature</th>\n",
       "      <th>event</th>\n",
       "    </tr>\n",
       "  </thead>\n",
       "  <tbody>\n",
       "    <tr>\n",
       "      <th>0</th>\n",
       "      <td>1/1/2017</td>\n",
       "      <td>32</td>\n",
       "      <td>Rain</td>\n",
       "    </tr>\n",
       "    <tr>\n",
       "      <th>1</th>\n",
       "      <td>1/2/2017</td>\n",
       "      <td>35</td>\n",
       "      <td>Sunny</td>\n",
       "    </tr>\n",
       "    <tr>\n",
       "      <th>2</th>\n",
       "      <td>1/3/2017</td>\n",
       "      <td>28</td>\n",
       "      <td>Snow</td>\n",
       "    </tr>\n",
       "  </tbody>\n",
       "</table>\n",
       "</div>"
      ],
      "text/plain": [
       "        day  temperature  event\n",
       "0  1/1/2017           32   Rain\n",
       "1  1/2/2017           35  Sunny\n",
       "2  1/3/2017           28   Snow"
      ]
     },
     "execution_count": 8,
     "metadata": {},
     "output_type": "execute_result"
    }
   ],
   "source": [
    "df_weather"
   ]
  },
  {
   "cell_type": "markdown",
   "id": "a58e1eea-1bce-425d-bcd0-258d7586941d",
   "metadata": {},
   "source": [
    "# Create Excel File\n",
    "'''\n",
    "If have a No module error (openpyxl) then run command in Command Prompt(CMD)\n",
    "\n",
    "pip install openpyxl\n",
    "\n",
    "'''\n",
    "\n",
    "with pd.ExcelWriter('stocks_weather.xlsx') as writer:\n",
    "    df_stocks.to_excel(writer, sheet_name=\"stocks\")\n",
    "    df_weather.to_excel(writer, sheet_name=\"weather\")\n",
    "\n",
    "print('Excel File Created Successfully!')"
   ]
  },
  {
   "cell_type": "markdown",
   "id": "8921a5da-c35b-40d1-9bc3-fa7e10631f71",
   "metadata": {},
   "source": [
    "Read Csv File:\n",
    "--------------"
   ]
  },
  {
   "cell_type": "code",
   "execution_count": 12,
   "id": "94725d8b-9d09-401e-8df8-2b5c36593b75",
   "metadata": {},
   "outputs": [
    {
     "data": {
      "text/html": [
       "<div>\n",
       "<style scoped>\n",
       "    .dataframe tbody tr th:only-of-type {\n",
       "        vertical-align: middle;\n",
       "    }\n",
       "\n",
       "    .dataframe tbody tr th {\n",
       "        vertical-align: top;\n",
       "    }\n",
       "\n",
       "    .dataframe thead th {\n",
       "        text-align: right;\n",
       "    }\n",
       "</style>\n",
       "<table border=\"1\" class=\"dataframe\">\n",
       "  <thead>\n",
       "    <tr style=\"text-align: right;\">\n",
       "      <th></th>\n",
       "      <th>day</th>\n",
       "      <th>temperature</th>\n",
       "      <th>windspeed</th>\n",
       "      <th>event</th>\n",
       "    </tr>\n",
       "  </thead>\n",
       "  <tbody>\n",
       "    <tr>\n",
       "      <th>0</th>\n",
       "      <td>1/1/2017</td>\n",
       "      <td>32</td>\n",
       "      <td>6</td>\n",
       "      <td>Rain</td>\n",
       "    </tr>\n",
       "    <tr>\n",
       "      <th>1</th>\n",
       "      <td>1/2/2017</td>\n",
       "      <td>35</td>\n",
       "      <td>7</td>\n",
       "      <td>Sunny</td>\n",
       "    </tr>\n",
       "    <tr>\n",
       "      <th>2</th>\n",
       "      <td>1/3/2017</td>\n",
       "      <td>28</td>\n",
       "      <td>2</td>\n",
       "      <td>Snow</td>\n",
       "    </tr>\n",
       "    <tr>\n",
       "      <th>3</th>\n",
       "      <td>1/4/2017</td>\n",
       "      <td>24</td>\n",
       "      <td>7</td>\n",
       "      <td>Snow</td>\n",
       "    </tr>\n",
       "    <tr>\n",
       "      <th>4</th>\n",
       "      <td>1/5/2017</td>\n",
       "      <td>32</td>\n",
       "      <td>4</td>\n",
       "      <td>Rain</td>\n",
       "    </tr>\n",
       "    <tr>\n",
       "      <th>5</th>\n",
       "      <td>1/6/2017</td>\n",
       "      <td>31</td>\n",
       "      <td>2</td>\n",
       "      <td>Sunny</td>\n",
       "    </tr>\n",
       "  </tbody>\n",
       "</table>\n",
       "</div>"
      ],
      "text/plain": [
       "        day  temperature  windspeed  event\n",
       "0  1/1/2017           32          6   Rain\n",
       "1  1/2/2017           35          7  Sunny\n",
       "2  1/3/2017           28          2   Snow\n",
       "3  1/4/2017           24          7   Snow\n",
       "4  1/5/2017           32          4   Rain\n",
       "5  1/6/2017           31          2  Sunny"
      ]
     },
     "execution_count": 12,
     "metadata": {},
     "output_type": "execute_result"
    }
   ],
   "source": [
    "df = pd.read_csv(\"weather_data.csv\")\n",
    "\n",
    "df"
   ]
  },
  {
   "cell_type": "markdown",
   "id": "9a0b71ee-c243-450f-9f1f-1ddb8927ac9b",
   "metadata": {},
   "source": [
    "Read Excel File\n",
    "---------------"
   ]
  },
  {
   "cell_type": "code",
   "execution_count": 15,
   "id": "699e0033-43dd-427c-b024-fda756721061",
   "metadata": {},
   "outputs": [
    {
     "data": {
      "text/html": [
       "<div>\n",
       "<style scoped>\n",
       "    .dataframe tbody tr th:only-of-type {\n",
       "        vertical-align: middle;\n",
       "    }\n",
       "\n",
       "    .dataframe tbody tr th {\n",
       "        vertical-align: top;\n",
       "    }\n",
       "\n",
       "    .dataframe thead th {\n",
       "        text-align: right;\n",
       "    }\n",
       "</style>\n",
       "<table border=\"1\" class=\"dataframe\">\n",
       "  <thead>\n",
       "    <tr style=\"text-align: right;\">\n",
       "      <th></th>\n",
       "      <th>Unnamed: 0</th>\n",
       "      <th>tickers</th>\n",
       "      <th>price</th>\n",
       "      <th>pe</th>\n",
       "      <th>eps</th>\n",
       "    </tr>\n",
       "  </thead>\n",
       "  <tbody>\n",
       "    <tr>\n",
       "      <th>0</th>\n",
       "      <td>0</td>\n",
       "      <td>GOOGL</td>\n",
       "      <td>845</td>\n",
       "      <td>30.37</td>\n",
       "      <td>27.82</td>\n",
       "    </tr>\n",
       "    <tr>\n",
       "      <th>1</th>\n",
       "      <td>1</td>\n",
       "      <td>WMT</td>\n",
       "      <td>65</td>\n",
       "      <td>14.26</td>\n",
       "      <td>4.61</td>\n",
       "    </tr>\n",
       "    <tr>\n",
       "      <th>2</th>\n",
       "      <td>2</td>\n",
       "      <td>MSFT</td>\n",
       "      <td>64</td>\n",
       "      <td>30.97</td>\n",
       "      <td>2.12</td>\n",
       "    </tr>\n",
       "  </tbody>\n",
       "</table>\n",
       "</div>"
      ],
      "text/plain": [
       "   Unnamed: 0 tickers  price     pe    eps\n",
       "0           0   GOOGL    845  30.37  27.82\n",
       "1           1     WMT     65  14.26   4.61\n",
       "2           2    MSFT     64  30.97   2.12"
      ]
     },
     "execution_count": 15,
     "metadata": {},
     "output_type": "execute_result"
    }
   ],
   "source": [
    "# stock_data.xlsx File import on directory. then run the command\n",
    "\n",
    "# Read Excel file for stocks Sheet\n",
    "\n",
    "df = pd.read_excel(\"stocks_weather.xlsx\",\"stocks\")\n",
    "\n",
    "df"
   ]
  },
  {
   "cell_type": "code",
   "execution_count": 16,
   "id": "e3799b92-4bca-4c22-bb78-3106e36cf1bf",
   "metadata": {},
   "outputs": [
    {
     "data": {
      "text/html": [
       "<div>\n",
       "<style scoped>\n",
       "    .dataframe tbody tr th:only-of-type {\n",
       "        vertical-align: middle;\n",
       "    }\n",
       "\n",
       "    .dataframe tbody tr th {\n",
       "        vertical-align: top;\n",
       "    }\n",
       "\n",
       "    .dataframe thead th {\n",
       "        text-align: right;\n",
       "    }\n",
       "</style>\n",
       "<table border=\"1\" class=\"dataframe\">\n",
       "  <thead>\n",
       "    <tr style=\"text-align: right;\">\n",
       "      <th></th>\n",
       "      <th>Unnamed: 0</th>\n",
       "      <th>day</th>\n",
       "      <th>temperature</th>\n",
       "      <th>event</th>\n",
       "    </tr>\n",
       "  </thead>\n",
       "  <tbody>\n",
       "    <tr>\n",
       "      <th>0</th>\n",
       "      <td>0</td>\n",
       "      <td>1/1/2017</td>\n",
       "      <td>32</td>\n",
       "      <td>Rain</td>\n",
       "    </tr>\n",
       "    <tr>\n",
       "      <th>1</th>\n",
       "      <td>1</td>\n",
       "      <td>1/2/2017</td>\n",
       "      <td>35</td>\n",
       "      <td>Sunny</td>\n",
       "    </tr>\n",
       "    <tr>\n",
       "      <th>2</th>\n",
       "      <td>2</td>\n",
       "      <td>1/3/2017</td>\n",
       "      <td>28</td>\n",
       "      <td>Snow</td>\n",
       "    </tr>\n",
       "  </tbody>\n",
       "</table>\n",
       "</div>"
      ],
      "text/plain": [
       "   Unnamed: 0       day  temperature  event\n",
       "0           0  1/1/2017           32   Rain\n",
       "1           1  1/2/2017           35  Sunny\n",
       "2           2  1/3/2017           28   Snow"
      ]
     },
     "execution_count": 16,
     "metadata": {},
     "output_type": "execute_result"
    }
   ],
   "source": [
    "# Read Excel file for weather Sheet\n",
    "\n",
    "df = pd.read_excel(\"stocks_weather.xlsx\",\"weather\")\n",
    "\n",
    "df"
   ]
  },
  {
   "cell_type": "code",
   "execution_count": null,
   "id": "6ecd5715-6408-44cb-8717-c72dc5cfc61b",
   "metadata": {},
   "outputs": [],
   "source": []
  }
 ],
 "metadata": {
  "kernelspec": {
   "display_name": "Python 3 (ipykernel)",
   "language": "python",
   "name": "python3"
  },
  "language_info": {
   "codemirror_mode": {
    "name": "ipython",
    "version": 3
   },
   "file_extension": ".py",
   "mimetype": "text/x-python",
   "name": "python",
   "nbconvert_exporter": "python",
   "pygments_lexer": "ipython3",
   "version": "3.13.2"
  }
 },
 "nbformat": 4,
 "nbformat_minor": 5
}
