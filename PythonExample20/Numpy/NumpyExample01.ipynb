{
 "cells": [
  {
   "cell_type": "markdown",
   "id": "e8e51293-9f7a-4d0f-acfe-4b21fd90d32d",
   "metadata": {},
   "source": [
    "What is NumPy?\n",
    "--------------\n",
    "1. NumPy stands for Numerical Python.\n",
    "2. NumPy is a Python library used for working with arrays.\n",
    "3. It also has functions for working in domain of linear algebra, fourier transform, and matrices.\n",
    "    \n",
    "Why Use NumPy?\n",
    "--------------\n",
    "1. In Python we have lists that serve the purpose of arrays, but they are slow to process.\n",
    "2. NumPy aims to provide an array object that is up to 50x faster than traditional Python lists.\n",
    "3. The array object in NumPy is called ndarray\n",
    "\n",
    "Why is NumPy Faster Than Lists?\n",
    "-------------------------------\n",
    "1. NumPy arrays are stored at one continuous place in memory unlike lists, so processes can access and manipulate them very efficiently."
   ]
  },
  {
   "cell_type": "code",
   "execution_count": 2,
   "id": "6d7e73c3-0b08-4acd-88a5-b0aaee00222b",
   "metadata": {},
   "outputs": [],
   "source": [
    "import numpy"
   ]
  },
  {
   "cell_type": "code",
   "execution_count": 4,
   "id": "1108e852-f37b-4525-934f-656c980fed42",
   "metadata": {},
   "outputs": [
    {
     "name": "stdout",
     "output_type": "stream",
     "text": [
      "[10, 20, 30, 40] <class 'list'>\n",
      "----------------------------------------------------------------------\n",
      "[10 20 30 40] <class 'numpy.ndarray'>\n"
     ]
    }
   ],
   "source": [
    "# Convert List to Single Dimention Array\n",
    "\n",
    "list01 = [10, 20, 30, 40]\n",
    "\n",
    "print(list01, type(list01))\n",
    "\n",
    "print('----------------------------------------------------------------------')\n",
    "\n",
    "numpyList01 = numpy.array(list01)\n",
    "\n",
    "print(numpyList01, type(numpyList01))\n"
   ]
  },
  {
   "cell_type": "code",
   "execution_count": 5,
   "id": "806be5fc-c11d-45bd-8e0a-4e5c9b2d05fb",
   "metadata": {},
   "outputs": [
    {
     "name": "stdout",
     "output_type": "stream",
     "text": [
      "[[10, 20], [30, 40]] <class 'list'>\n",
      "----------------------------------------------------------------------\n",
      "[[10 20]\n",
      " [30 40]] <class 'numpy.ndarray'>\n"
     ]
    }
   ],
   "source": [
    "# Convert List to Two Dimention Array\n",
    "\n",
    "list01 = [[10, 20], [30, 40]]\n",
    "\n",
    "print(list01, type(list01))\n",
    "\n",
    "print('----------------------------------------------------------------------')\n",
    "\n",
    "numpyList01 = numpy.array(list01)\n",
    "\n",
    "print(numpyList01, type(numpyList01))\n"
   ]
  },
  {
   "cell_type": "code",
   "execution_count": 13,
   "id": "f5480d39-96e6-4226-8bb6-b49617965af5",
   "metadata": {},
   "outputs": [
    {
     "name": "stdout",
     "output_type": "stream",
     "text": [
      "[[10, 20], [30, 40], [50, 60]] <class 'list'>\n",
      "----------------------------------------------------------------------\n",
      "[[10 20]\n",
      " [30 40]\n",
      " [50 60]] <class 'numpy.ndarray'>\n"
     ]
    }
   ],
   "source": [
    "# Convert List to Multi Dimention Array\n",
    "\n",
    "list01 = [[10, 20], [30, 40], [50, 60]]\n",
    "\n",
    "print(list01, type(list01))\n",
    "\n",
    "print('----------------------------------------------------------------------')\n",
    "\n",
    "numpyList01 = numpy.array(list01)\n",
    "\n",
    "print(numpyList01, type(numpyList01))"
   ]
  },
  {
   "cell_type": "markdown",
   "id": "27fd94fe-dd6e-474e-b64e-368c3b59746f",
   "metadata": {},
   "source": [
    "Arange :\n",
    "--------\n",
    "1. Return evenly spaced values within a given interval."
   ]
  },
  {
   "cell_type": "code",
   "execution_count": 12,
   "id": "61fd9dd9-6776-4b46-b85c-941d38b07a52",
   "metadata": {},
   "outputs": [],
   "source": [
    "import numpy as np"
   ]
  },
  {
   "cell_type": "code",
   "execution_count": 15,
   "id": "034a6f2f-6732-4845-8517-489949b7d023",
   "metadata": {},
   "outputs": [
    {
     "name": "stdout",
     "output_type": "stream",
     "text": [
      "[0 1 2 3 4 5 6 7 8 9] <class 'numpy.ndarray'>\n"
     ]
    }
   ],
   "source": [
    "a = np.arange(0,10)\n",
    "\n",
    "print(a, type(a))"
   ]
  },
  {
   "cell_type": "code",
   "execution_count": 16,
   "id": "47d56af1-3d79-4ee2-a696-74ae89cfe209",
   "metadata": {},
   "outputs": [
    {
     "name": "stdout",
     "output_type": "stream",
     "text": [
      "[1 2 3 4 5 6 7 8 9] <class 'numpy.ndarray'>\n"
     ]
    }
   ],
   "source": [
    "a = np.arange(1,10)\n",
    "\n",
    "print(a, type(a))"
   ]
  },
  {
   "cell_type": "code",
   "execution_count": 17,
   "id": "f296f512-6c38-4dab-9d1c-d3325167aefa",
   "metadata": {},
   "outputs": [
    {
     "name": "stdout",
     "output_type": "stream",
     "text": [
      "[1 3 5 7 9] <class 'numpy.ndarray'>\n"
     ]
    }
   ],
   "source": [
    "a = np.arange(1,10,2)\n",
    "\n",
    "print(a, type(a))"
   ]
  },
  {
   "cell_type": "code",
   "execution_count": 18,
   "id": "18b5a098-d2b5-4886-b958-a8a2778e2f1a",
   "metadata": {},
   "outputs": [
    {
     "name": "stdout",
     "output_type": "stream",
     "text": [
      "[0 2 4 6 8] <class 'numpy.ndarray'>\n"
     ]
    }
   ],
   "source": [
    "a = np.arange(0,10,2)\n",
    "\n",
    "print(a, type(a))"
   ]
  },
  {
   "cell_type": "code",
   "execution_count": 19,
   "id": "699ec538-d9e6-46b6-8dc3-4b8bf838588b",
   "metadata": {},
   "outputs": [
    {
     "name": "stdout",
     "output_type": "stream",
     "text": [
      "[10  9  8  7  6  5  4  3  2  1] <class 'numpy.ndarray'>\n"
     ]
    }
   ],
   "source": [
    "a = np.arange(10, 0, -1)\n",
    "\n",
    "print(a, type(a))"
   ]
  },
  {
   "cell_type": "markdown",
   "id": "4ad6b43d-61a7-488d-9f13-444a3889183d",
   "metadata": {},
   "source": [
    "Linspace :\n",
    "----------\n",
    "1. Return evenly spaced numbers over a specified interval."
   ]
  },
  {
   "cell_type": "code",
   "execution_count": 23,
   "id": "65f70879-54be-426a-82bc-46f57838ec4f",
   "metadata": {},
   "outputs": [
    {
     "data": {
      "text/plain": [
       "array([0, 3, 6, 9])"
      ]
     },
     "execution_count": 23,
     "metadata": {},
     "output_type": "execute_result"
    }
   ],
   "source": [
    "np.arange(0,10,3)"
   ]
  },
  {
   "cell_type": "code",
   "execution_count": 24,
   "id": "6b6b5e07-a29a-4f5e-bb22-ce4dc78a6da4",
   "metadata": {},
   "outputs": [
    {
     "data": {
      "text/plain": [
       "array([ 0.,  5., 10.])"
      ]
     },
     "execution_count": 24,
     "metadata": {},
     "output_type": "execute_result"
    }
   ],
   "source": [
    "np.linspace(0,10,3)"
   ]
  },
  {
   "cell_type": "code",
   "execution_count": 27,
   "id": "037c0c9b-9aae-4040-be56-10f598e775e9",
   "metadata": {},
   "outputs": [
    {
     "name": "stdout",
     "output_type": "stream",
     "text": [
      "[ 0 12 25 37 50]\n"
     ]
    }
   ],
   "source": [
    "a = np.linspace(0,50,5, dtype=int,)\n",
    "\n",
    "print(a)"
   ]
  },
  {
   "cell_type": "markdown",
   "id": "ae4ee1b2-a8cd-4cce-a437-b5158413cf44",
   "metadata": {},
   "source": [
    "Random :\n",
    "--------\n",
    "Numpy also has lots of ways to create random number arrays:"
   ]
  },
  {
   "cell_type": "markdown",
   "id": "da708992-d09c-4f29-82cb-3dddccc3d4e1",
   "metadata": {},
   "source": [
    "Randint :\n",
    "---------\n",
    "Return random integers from low (inclusive) to high (exclusive)."
   ]
  },
  {
   "cell_type": "code",
   "execution_count": 30,
   "id": "aa6cfafc-bbf0-4187-8a12-e94e1f9dc1ed",
   "metadata": {},
   "outputs": [
    {
     "data": {
      "text/plain": [
       "76"
      ]
     },
     "execution_count": 30,
     "metadata": {},
     "output_type": "execute_result"
    }
   ],
   "source": [
    "np.random.randint(1,100)"
   ]
  },
  {
   "cell_type": "code",
   "execution_count": 32,
   "id": "4e35298e-3576-4a9b-98ff-d0c60e79be8a",
   "metadata": {},
   "outputs": [
    {
     "name": "stdout",
     "output_type": "stream",
     "text": [
      "[67 28 97  2 77 21 72 47  5  5]\n"
     ]
    }
   ],
   "source": [
    "a = np.random.randint(1,100,10)\n",
    "\n",
    "print(a)"
   ]
  },
  {
   "cell_type": "markdown",
   "id": "3bf61019-0b45-40d7-9840-e55862fcff85",
   "metadata": {},
   "source": [
    "Array Attributes and Methods\n",
    "----------------------------"
   ]
  },
  {
   "cell_type": "code",
   "execution_count": 39,
   "id": "9f8f557e-7549-4dcd-bb90-05a1d976570c",
   "metadata": {},
   "outputs": [
    {
     "name": "stdout",
     "output_type": "stream",
     "text": [
      "[ 0  1  2  3  4  5  6  7  8  9 10 11 12 13 14 15 16 17 18 19 20 21 22 23\n",
      " 24]\n",
      "-----------------------------------------------\n",
      "[16 41 27  9 15 31  5  6 12]\n"
     ]
    }
   ],
   "source": [
    "arr = np.arange(25)\n",
    "\n",
    "randarr = np.random.randint(0,50,9)\n",
    "\n",
    "print(arr)\n",
    "\n",
    "print('-----------------------------------------------')\n",
    "\n",
    "print(randarr)"
   ]
  },
  {
   "cell_type": "markdown",
   "id": "3d55bf1b-c12f-4ef1-b68e-a51e36b4998b",
   "metadata": {},
   "source": [
    "01 Reshape :\n",
    "------------\n",
    "\n",
    "Returns an array containing the same data with a new shape."
   ]
  },
  {
   "cell_type": "code",
   "execution_count": 35,
   "id": "6a59702e-39d4-47c4-a33d-9ca3bd90e663",
   "metadata": {},
   "outputs": [
    {
     "data": {
      "text/plain": [
       "array([[ 0,  1,  2,  3,  4],\n",
       "       [ 5,  6,  7,  8,  9],\n",
       "       [10, 11, 12, 13, 14],\n",
       "       [15, 16, 17, 18, 19],\n",
       "       [20, 21, 22, 23, 24]])"
      ]
     },
     "execution_count": 35,
     "metadata": {},
     "output_type": "execute_result"
    }
   ],
   "source": [
    "arr.reshape(5,5)"
   ]
  },
  {
   "cell_type": "code",
   "execution_count": 40,
   "id": "0c6d0e16-428e-491f-8aff-946779de0e34",
   "metadata": {},
   "outputs": [
    {
     "data": {
      "text/plain": [
       "array([[16, 41, 27],\n",
       "       [ 9, 15, 31],\n",
       "       [ 5,  6, 12]], dtype=int32)"
      ]
     },
     "execution_count": 40,
     "metadata": {},
     "output_type": "execute_result"
    }
   ],
   "source": [
    "randarr.reshape(3, 3)"
   ]
  },
  {
   "cell_type": "code",
   "execution_count": null,
   "id": "cccaff52-2963-40a2-b5fa-9cfcb6f31f77",
   "metadata": {},
   "outputs": [],
   "source": []
  }
 ],
 "metadata": {
  "kernelspec": {
   "display_name": "Python 3 (ipykernel)",
   "language": "python",
   "name": "python3"
  },
  "language_info": {
   "codemirror_mode": {
    "name": "ipython",
    "version": 3
   },
   "file_extension": ".py",
   "mimetype": "text/x-python",
   "name": "python",
   "nbconvert_exporter": "python",
   "pygments_lexer": "ipython3",
   "version": "3.13.2"
  }
 },
 "nbformat": 4,
 "nbformat_minor": 5
}
