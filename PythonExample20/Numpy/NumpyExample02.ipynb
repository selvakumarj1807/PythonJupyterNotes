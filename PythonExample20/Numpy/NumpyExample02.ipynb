{
 "cells": [
  {
   "cell_type": "markdown",
   "id": "3eb2f02a-3d89-46da-b583-ddc3610f3e9a",
   "metadata": {},
   "source": [
    "Shape:\n",
    "------\n",
    "Shape is an attribute that arrays have (not a method):"
   ]
  },
  {
   "cell_type": "code",
   "execution_count": 1,
   "id": "6b9d84a3-6c92-4d3c-9efa-eea5dbb94e02",
   "metadata": {},
   "outputs": [],
   "source": [
    "import numpy"
   ]
  },
  {
   "cell_type": "code",
   "execution_count": 2,
   "id": "9d1beb07-24a1-4593-b502-3824dc5a7fd0",
   "metadata": {},
   "outputs": [
    {
     "name": "stdout",
     "output_type": "stream",
     "text": [
      "[[10, 20], [30, 40], [50, 60]] <class 'list'>\n",
      "----------------------------------------------------------------------\n",
      "[[10 20]\n",
      " [30 40]\n",
      " [50 60]] <class 'numpy.ndarray'>\n"
     ]
    }
   ],
   "source": [
    "list01 = [[10, 20], [30, 40], [50, 60]]\n",
    "\n",
    "print(list01, type(list01))\n",
    "\n",
    "print('----------------------------------------------------------------------')\n",
    "\n",
    "numpyList01 = numpy.array(list01)\n",
    "\n",
    "print(numpyList01, type(numpyList01))"
   ]
  },
  {
   "cell_type": "code",
   "execution_count": 3,
   "id": "bf4b0711-51f8-4aee-97b1-1f6495d84bfe",
   "metadata": {},
   "outputs": [
    {
     "data": {
      "text/plain": [
       "(3, 2)"
      ]
     },
     "execution_count": 3,
     "metadata": {},
     "output_type": "execute_result"
    }
   ],
   "source": [
    "'''\n",
    "(3, 2) = (number of rows, number of columns)\n",
    "'''\n",
    "\n",
    "numpyList01.shape"
   ]
  },
  {
   "cell_type": "code",
   "execution_count": 6,
   "id": "4988cbe0-5dd5-40ec-8480-860a8bd52565",
   "metadata": {},
   "outputs": [
    {
     "name": "stdout",
     "output_type": "stream",
     "text": [
      "[[10 20]\n",
      " [30 40]\n",
      " [50 60]]\n",
      "----------------------------------------------------------------------\n",
      "[[10 20 30]\n",
      " [40 50 60]]\n"
     ]
    }
   ],
   "source": [
    "print(numpyList01)\n",
    "\n",
    "print('----------------------------------------------------------------------')\n",
    "\n",
    "ex01 = numpyList01.reshape(2, 3)\n",
    "\n",
    "print(ex01)"
   ]
  },
  {
   "cell_type": "markdown",
   "id": "3f8ed75a-0a77-450c-9f67-aa3fada963f8",
   "metadata": {},
   "source": [
    "max,min,argmax,argmin\n",
    "---------------------\n",
    "\n",
    "These are useful methods for finding max or min values. Or to find their index locations using argmin or argmax"
   ]
  },
  {
   "cell_type": "code",
   "execution_count": 8,
   "id": "b62e387f-baa4-4bdc-a654-806136f5337d",
   "metadata": {},
   "outputs": [
    {
     "name": "stdout",
     "output_type": "stream",
     "text": [
      "[48 11 14 39 15  7 25 48  5 39]\n"
     ]
    }
   ],
   "source": [
    "ranarr = numpy.random.randint(0,50,10)\n",
    "\n",
    "print(ranarr)"
   ]
  },
  {
   "cell_type": "code",
   "execution_count": 11,
   "id": "fbfcae9b-10e0-41ee-a7b6-76c7c34ff90f",
   "metadata": {},
   "outputs": [
    {
     "name": "stdout",
     "output_type": "stream",
     "text": [
      "48\n"
     ]
    }
   ],
   "source": [
    "# To find the Maximum value \n",
    "\n",
    "print(ranarr.max())"
   ]
  },
  {
   "cell_type": "code",
   "execution_count": 12,
   "id": "67e9991d-5477-4dcc-b1f1-79cbeb777c58",
   "metadata": {},
   "outputs": [
    {
     "name": "stdout",
     "output_type": "stream",
     "text": [
      "5\n"
     ]
    }
   ],
   "source": [
    "# To find the Minimum value \n",
    "\n",
    "minValue = ranarr.min()\n",
    "\n",
    "print(minValue)"
   ]
  },
  {
   "cell_type": "code",
   "execution_count": 13,
   "id": "ceebc57b-dd0e-4a17-9885-8a3e6e921b0e",
   "metadata": {},
   "outputs": [
    {
     "name": "stdout",
     "output_type": "stream",
     "text": [
      "0\n"
     ]
    }
   ],
   "source": [
    "# To find the Maximum value position\n",
    "\n",
    "print(ranarr.argmax())"
   ]
  },
  {
   "cell_type": "code",
   "execution_count": 14,
   "id": "49efe22e-363c-4081-aa5e-8bb10d79e2af",
   "metadata": {},
   "outputs": [
    {
     "name": "stdout",
     "output_type": "stream",
     "text": [
      "8\n"
     ]
    }
   ],
   "source": [
    "# To find the Minimum value position\n",
    "\n",
    "print(ranarr.argmin())"
   ]
  },
  {
   "cell_type": "markdown",
   "id": "06e50e8e-1381-4da1-8c73-6f3e8041ef9a",
   "metadata": {},
   "source": [
    "NumPy Indexing and Selection :\n",
    "------------------------------"
   ]
  },
  {
   "cell_type": "code",
   "execution_count": 29,
   "id": "a8e5c7bc-a6d6-4e2a-88fc-e5c1ee0f94a4",
   "metadata": {},
   "outputs": [
    {
     "name": "stdout",
     "output_type": "stream",
     "text": [
      "[ 10  20  30  40  50  60  70  80  90 100]\n"
     ]
    }
   ],
   "source": [
    "#Creating sample array\n",
    "\n",
    "arr = numpy.array([10,20,30,40,50,60,70,80,90,100])\n",
    "\n",
    "print(arr)"
   ]
  },
  {
   "cell_type": "code",
   "execution_count": 20,
   "id": "5f8dd07a-be33-45ef-8fdb-185e0efba81a",
   "metadata": {},
   "outputs": [
    {
     "name": "stdout",
     "output_type": "stream",
     "text": [
      "90\n"
     ]
    }
   ],
   "source": [
    "#Get a value at an index\n",
    "\n",
    "print(arr[8])"
   ]
  },
  {
   "cell_type": "code",
   "execution_count": 21,
   "id": "20e613e6-166a-46eb-9b60-da7bedcbd251",
   "metadata": {},
   "outputs": [
    {
     "data": {
      "text/plain": [
       "array([20, 30, 40, 50])"
      ]
     },
     "execution_count": 21,
     "metadata": {},
     "output_type": "execute_result"
    }
   ],
   "source": [
    "#Get values in a range\n",
    "\n",
    "arr[1:5]"
   ]
  },
  {
   "cell_type": "code",
   "execution_count": 30,
   "id": "7c385d8f-78a4-4a6f-8b16-d9ffa117f99d",
   "metadata": {},
   "outputs": [
    {
     "data": {
      "text/plain": [
       "array([200, 200, 200, 200, 200,  60,  70,  80,  90, 100])"
      ]
     },
     "execution_count": 30,
     "metadata": {},
     "output_type": "execute_result"
    }
   ],
   "source": [
    "#Setting a value with index range (Broadcasting)\n",
    "\n",
    "arr[0:5] = 200\n",
    "\n",
    "#Show\n",
    "arr"
   ]
  },
  {
   "cell_type": "markdown",
   "id": "ba9c79fa-dab5-4bb4-a0e0-811c8136b337",
   "metadata": {},
   "source": [
    "Now note the changes also occur in our original array! :\n",
    "--------------------------------------------------------"
   ]
  },
  {
   "cell_type": "code",
   "execution_count": 31,
   "id": "5235219d-da02-4b22-bebe-5682389c46ee",
   "metadata": {},
   "outputs": [
    {
     "name": "stdout",
     "output_type": "stream",
     "text": [
      "[200 200 200 200 200  60  70  80  90 100]\n"
     ]
    }
   ],
   "source": [
    "print(arr)"
   ]
  },
  {
   "cell_type": "markdown",
   "id": "51adf6ab-67b6-4f3d-a98c-9f09d6bfc604",
   "metadata": {},
   "source": [
    "Data is not copied, it's a view of the original array! This avoids memory problems! :\n",
    "-------------------------------------------------------------------------------------\n",
    "    In NumPy, when you slice or subset an array, it doesn’t create a new array but instead creates a \"view\" of the original data. \n",
    "    This means that if you modify the view, it will also affect the original array, avoiding extra memory usage."
   ]
  },
  {
   "cell_type": "code",
   "execution_count": 27,
   "id": "3e883771-1eb7-4111-82bf-eac57a8d38ac",
   "metadata": {},
   "outputs": [
    {
     "name": "stdout",
     "output_type": "stream",
     "text": [
      "[200 200 200 200 200  60  70  80  90 100]\n"
     ]
    }
   ],
   "source": [
    "#To get a copy, need to be explicit\n",
    "\n",
    "arr_copy = arr.copy()\n",
    "\n",
    "print(arr_copy)"
   ]
  },
  {
   "cell_type": "code",
   "execution_count": 32,
   "id": "34f13deb-3a70-4944-8565-6853a99fdc9a",
   "metadata": {},
   "outputs": [
    {
     "data": {
      "text/plain": [
       "array([200, 200, 250, 250, 250,  60,  70,  80,  90, 100])"
      ]
     },
     "execution_count": 32,
     "metadata": {},
     "output_type": "execute_result"
    }
   ],
   "source": [
    "arr_copy[2:5] = 250\n",
    "\n",
    "#Show\n",
    "arr_copy"
   ]
  },
  {
   "cell_type": "code",
   "execution_count": 33,
   "id": "4e600888-1fda-464e-8b7d-bfefed83f53e",
   "metadata": {},
   "outputs": [
    {
     "name": "stdout",
     "output_type": "stream",
     "text": [
      "[200 200 200 200 200  60  70  80  90 100]\n"
     ]
    }
   ],
   "source": [
    "print(arr)"
   ]
  },
  {
   "cell_type": "markdown",
   "id": "e24185a5-b951-45d0-85a1-a88443e7c769",
   "metadata": {},
   "source": [
    "Indexing and slicing a multi Dimention array (matrices) :\n",
    "---------------------------------------------------------\n",
    "    The general format is arr_2d[row][col] or arr_2d[row,col]. I recommend usually using the comma notation for clarity."
   ]
  },
  {
   "cell_type": "code",
   "execution_count": 35,
   "id": "2922e97b-e45a-4a07-9d18-5b768f846583",
   "metadata": {},
   "outputs": [
    {
     "data": {
      "text/plain": [
       "array([[ 5, 10, 15],\n",
       "       [20, 25, 30],\n",
       "       [35, 40, 45]])"
      ]
     },
     "execution_count": 35,
     "metadata": {},
     "output_type": "execute_result"
    }
   ],
   "source": [
    "arr_2d = numpy.array(([5,10,15],[20,25,30],[35,40,45]))\n",
    "\n",
    "#Show\n",
    "arr_2d"
   ]
  },
  {
   "cell_type": "code",
   "execution_count": 36,
   "id": "281b3b99-eac8-439c-93ee-593b06abc4f1",
   "metadata": {},
   "outputs": [
    {
     "data": {
      "text/plain": [
       "array([20, 25, 30])"
      ]
     },
     "execution_count": 36,
     "metadata": {},
     "output_type": "execute_result"
    }
   ],
   "source": [
    "#Indexing row\n",
    "\n",
    "arr_2d[1]"
   ]
  },
  {
   "cell_type": "code",
   "execution_count": 47,
   "id": "cffff82d-dd00-4909-9b0a-3a258dd83a58",
   "metadata": {},
   "outputs": [
    {
     "name": "stdout",
     "output_type": "stream",
     "text": [
      "[ 5 20 35]\n"
     ]
    }
   ],
   "source": [
    "#Indexing Column\n",
    "\n",
    "print(arr_2d[0:3,0])"
   ]
  },
  {
   "cell_type": "code",
   "execution_count": 48,
   "id": "3ba2181c-8603-465f-a5f7-6bd10ab9a4e5",
   "metadata": {},
   "outputs": [
    {
     "name": "stdout",
     "output_type": "stream",
     "text": [
      "10\n"
     ]
    }
   ],
   "source": [
    "# Get a Single value\n",
    "\n",
    "print(arr_2d[0][1])"
   ]
  },
  {
   "cell_type": "code",
   "execution_count": null,
   "id": "274de935-929d-44fe-b1e6-af85cf9a389f",
   "metadata": {},
   "outputs": [],
   "source": []
  }
 ],
 "metadata": {
  "kernelspec": {
   "display_name": "Python 3 (ipykernel)",
   "language": "python",
   "name": "python3"
  },
  "language_info": {
   "codemirror_mode": {
    "name": "ipython",
    "version": 3
   },
   "file_extension": ".py",
   "mimetype": "text/x-python",
   "name": "python",
   "nbconvert_exporter": "python",
   "pygments_lexer": "ipython3",
   "version": "3.13.2"
  }
 },
 "nbformat": 4,
 "nbformat_minor": 5
}
