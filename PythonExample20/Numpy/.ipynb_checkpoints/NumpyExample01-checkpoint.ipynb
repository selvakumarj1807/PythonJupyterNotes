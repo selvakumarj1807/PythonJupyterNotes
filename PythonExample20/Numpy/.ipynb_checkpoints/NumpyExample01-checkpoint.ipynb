{
 "cells": [
  {
   "cell_type": "markdown",
   "id": "e8e51293-9f7a-4d0f-acfe-4b21fd90d32d",
   "metadata": {},
   "source": [
    "What is NumPy?\n",
    "--------------\n",
    "1. NumPy stands for Numerical Python.\n",
    "2. NumPy is a Python library used for working with arrays.\n",
    "3. It also has functions for working in domain of linear algebra, fourier transform, and matrices.\n",
    "    \n",
    "Why Use NumPy?\n",
    "--------------\n",
    "1. In Python we have lists that serve the purpose of arrays, but they are slow to process.\n",
    "2. NumPy aims to provide an array object that is up to 50x faster than traditional Python lists.\n",
    "3. The array object in NumPy is called ndarray\n",
    "\n",
    "Why is NumPy Faster Than Lists?\n",
    "-------------------------------\n",
    "1. NumPy arrays are stored at one continuous place in memory unlike lists, so processes can access and manipulate them very efficiently."
   ]
  },
  {
   "cell_type": "code",
   "execution_count": 7,
   "id": "6d7e73c3-0b08-4acd-88a5-b0aaee00222b",
   "metadata": {},
   "outputs": [],
   "source": [
    "import numpy"
   ]
  },
  {
   "cell_type": "code",
   "execution_count": 11,
   "id": "1108e852-f37b-4525-934f-656c980fed42",
   "metadata": {},
   "outputs": [
    {
     "name": "stdout",
     "output_type": "stream",
     "text": [
      "[10, 20, 30, 40] <class 'list'>\n",
      "----------------------------------------------------------------------\n",
      "[10 20 30 40] <class 'numpy.ndarray'>\n"
     ]
    }
   ],
   "source": [
    "# Convert List to Single Dimention Array\n",
    "\n",
    "list01 = [10, 20, 30, 40]\n",
    "\n",
    "print(list01, type(list01))\n",
    "\n",
    "print('----------------------------------------------------------------------')\n",
    "\n",
    "numpyList01 = numpy.array(list01)\n",
    "\n",
    "print(numpyList01, type(numpyList01))\n"
   ]
  },
  {
   "cell_type": "code",
   "execution_count": 12,
   "id": "806be5fc-c11d-45bd-8e0a-4e5c9b2d05fb",
   "metadata": {},
   "outputs": [
    {
     "name": "stdout",
     "output_type": "stream",
     "text": [
      "[[10, 20], [30, 40]] <class 'list'>\n",
      "----------------------------------------------------------------------\n",
      "[[10 20]\n",
      " [30 40]] <class 'numpy.ndarray'>\n"
     ]
    }
   ],
   "source": [
    "# Convert List to Two Dimention Array\n",
    "\n",
    "list01 = [[10, 20], [30, 40]]\n",
    "\n",
    "print(list01, type(list01))\n",
    "\n",
    "print('----------------------------------------------------------------------')\n",
    "\n",
    "numpyList01 = numpy.array(list01)\n",
    "\n",
    "print(numpyList01, type(numpyList01))\n"
   ]
  },
  {
   "cell_type": "code",
   "execution_count": 13,
   "id": "f5480d39-96e6-4226-8bb6-b49617965af5",
   "metadata": {},
   "outputs": [
    {
     "name": "stdout",
     "output_type": "stream",
     "text": [
      "[[10, 20], [30, 40], [50, 60]] <class 'list'>\n",
      "----------------------------------------------------------------------\n",
      "[[10 20]\n",
      " [30 40]\n",
      " [50 60]] <class 'numpy.ndarray'>\n"
     ]
    }
   ],
   "source": [
    "# Convert List to Multi Dimention Array\n",
    "\n",
    "list01 = [[10, 20], [30, 40], [50, 60]]\n",
    "\n",
    "print(list01, type(list01))\n",
    "\n",
    "print('----------------------------------------------------------------------')\n",
    "\n",
    "numpyList01 = numpy.array(list01)\n",
    "\n",
    "print(numpyList01, type(numpyList01))"
   ]
  },
  {
   "cell_type": "code",
   "execution_count": null,
   "id": "dc3d5c05-c1ac-441a-8eb0-43deb93545c9",
   "metadata": {},
   "outputs": [],
   "source": []
  }
 ],
 "metadata": {
  "kernelspec": {
   "display_name": "Python 3 (ipykernel)",
   "language": "python",
   "name": "python3"
  },
  "language_info": {
   "codemirror_mode": {
    "name": "ipython",
    "version": 3
   },
   "file_extension": ".py",
   "mimetype": "text/x-python",
   "name": "python",
   "nbconvert_exporter": "python",
   "pygments_lexer": "ipython3",
   "version": "3.13.2"
  }
 },
 "nbformat": 4,
 "nbformat_minor": 5
}
