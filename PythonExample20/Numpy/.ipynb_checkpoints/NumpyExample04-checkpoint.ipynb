{
 "cells": [
  {
   "cell_type": "markdown",
   "id": "5003db1c-c4e5-49a5-ad65-59df812a9fda",
   "metadata": {},
   "source": [
    "NumPy Operations\n",
    "----------------\n",
    "Arithmetic\n",
    "----------\n",
    "\n",
    "You can easily perform array with array arithmetic, or scalar with array arithmetic. "
   ]
  },
  {
   "cell_type": "code",
   "execution_count": 1,
   "id": "ba01a866-ca21-4c9d-88ae-1afd9f237ba4",
   "metadata": {},
   "outputs": [
    {
     "data": {
      "text/plain": [
       "array([0, 1, 2, 3, 4, 5, 6, 7, 8, 9])"
      ]
     },
     "execution_count": 1,
     "metadata": {},
     "output_type": "execute_result"
    }
   ],
   "source": [
    "import numpy as np\n",
    "\n",
    "arr = np.arange(0,10)\n",
    "\n",
    "arr"
   ]
  },
  {
   "cell_type": "code",
   "execution_count": 2,
   "id": "037009bf-96d1-4d82-a8d3-c48ebabfed16",
   "metadata": {},
   "outputs": [
    {
     "data": {
      "text/plain": [
       "array([ 0,  2,  4,  6,  8, 10, 12, 14, 16, 18])"
      ]
     },
     "execution_count": 2,
     "metadata": {},
     "output_type": "execute_result"
    }
   ],
   "source": [
    "arr + arr"
   ]
  },
  {
   "cell_type": "code",
   "execution_count": 3,
   "id": "3c436931-9b51-4187-8c18-cc59ce2ebb35",
   "metadata": {},
   "outputs": [
    {
     "data": {
      "text/plain": [
       "array([0, 0, 0, 0, 0, 0, 0, 0, 0, 0])"
      ]
     },
     "execution_count": 3,
     "metadata": {},
     "output_type": "execute_result"
    }
   ],
   "source": [
    "arr - arr"
   ]
  },
  {
   "cell_type": "code",
   "execution_count": 4,
   "id": "ddaa755e-3d58-4c32-9f44-69baf62b025a",
   "metadata": {},
   "outputs": [
    {
     "data": {
      "text/plain": [
       "array([ 0,  1,  4,  9, 16, 25, 36, 49, 64, 81])"
      ]
     },
     "execution_count": 4,
     "metadata": {},
     "output_type": "execute_result"
    }
   ],
   "source": [
    "arr * arr"
   ]
  },
  {
   "cell_type": "code",
   "execution_count": 5,
   "id": "ff9fcdbb-dc19-472d-80d0-48d97063c5da",
   "metadata": {},
   "outputs": [
    {
     "name": "stderr",
     "output_type": "stream",
     "text": [
      "C:\\Users\\Dell 7490\\AppData\\Local\\Temp\\ipykernel_21280\\3001117470.py:1: RuntimeWarning: invalid value encountered in divide\n",
      "  arr / arr\n"
     ]
    },
    {
     "data": {
      "text/plain": [
       "array([nan,  1.,  1.,  1.,  1.,  1.,  1.,  1.,  1.,  1.])"
      ]
     },
     "execution_count": 5,
     "metadata": {},
     "output_type": "execute_result"
    }
   ],
   "source": [
    "arr / arr"
   ]
  },
  {
   "cell_type": "code",
   "execution_count": 6,
   "id": "5f513c70-0d6f-4470-8eee-5eb094156999",
   "metadata": {},
   "outputs": [
    {
     "name": "stderr",
     "output_type": "stream",
     "text": [
      "C:\\Users\\Dell 7490\\AppData\\Local\\Temp\\ipykernel_21280\\376544773.py:1: RuntimeWarning: divide by zero encountered in floor_divide\n",
      "  arr // arr\n"
     ]
    },
    {
     "data": {
      "text/plain": [
       "array([0, 1, 1, 1, 1, 1, 1, 1, 1, 1])"
      ]
     },
     "execution_count": 6,
     "metadata": {},
     "output_type": "execute_result"
    }
   ],
   "source": [
    "arr // arr"
   ]
  },
  {
   "cell_type": "code",
   "execution_count": 7,
   "id": "59aa9f1c-d2d1-4812-8f76-90218e073399",
   "metadata": {},
   "outputs": [
    {
     "data": {
      "text/plain": [
       "array([        1,         1,         4,        27,       256,      3125,\n",
       "           46656,    823543,  16777216, 387420489])"
      ]
     },
     "execution_count": 7,
     "metadata": {},
     "output_type": "execute_result"
    }
   ],
   "source": [
    "arr ** arr"
   ]
  },
  {
   "cell_type": "markdown",
   "id": "34fd86e6-3dfd-4464-b6da-49208ef9004c",
   "metadata": {},
   "source": [
    "Python Numpy Read and Write Text Files\n",
    "--------------------------------------"
   ]
  },
  {
   "cell_type": "code",
   "execution_count": 8,
   "id": "aff4605b-59d6-477a-8b82-02cc76e8f6e2",
   "metadata": {},
   "outputs": [],
   "source": [
    "x = np.array([[1,2,3],\n",
    "              [4,5,6],\n",
    "              [7,8,9]], np.int32)"
   ]
  },
  {
   "cell_type": "code",
   "execution_count": 9,
   "id": "598eb0b8-96c4-452f-ab4c-9c7cf11f8bcd",
   "metadata": {},
   "outputs": [],
   "source": [
    "np.savetxt(\"test.txt\", x)"
   ]
  },
  {
   "cell_type": "code",
   "execution_count": 10,
   "id": "cc2d5682-b44f-451f-96a2-7e8afaa1ce66",
   "metadata": {},
   "outputs": [
    {
     "name": "stdout",
     "output_type": "stream",
     "text": [
      "[[1. 2. 3.]\n",
      " [4. 5. 6.]\n",
      " [7. 8. 9.]]\n"
     ]
    }
   ],
   "source": [
    "y = np.loadtxt('test.txt')\n",
    "\n",
    "print(y)"
   ]
  }
 ],
 "metadata": {
  "kernelspec": {
   "display_name": "Python 3 (ipykernel)",
   "language": "python",
   "name": "python3"
  },
  "language_info": {
   "codemirror_mode": {
    "name": "ipython",
    "version": 3
   },
   "file_extension": ".py",
   "mimetype": "text/x-python",
   "name": "python",
   "nbconvert_exporter": "python",
   "pygments_lexer": "ipython3",
   "version": "3.13.2"
  }
 },
 "nbformat": 4,
 "nbformat_minor": 5
}
