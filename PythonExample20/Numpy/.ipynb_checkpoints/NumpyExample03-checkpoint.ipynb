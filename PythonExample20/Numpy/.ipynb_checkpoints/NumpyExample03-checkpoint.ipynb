{
 "cells": [
  {
   "cell_type": "markdown",
   "id": "c681ec7d-2b2b-42df-87f3-f662bf8605e3",
   "metadata": {},
   "source": [
    "Broadcasting :\n",
    "--------------\n",
    "    The term broadcasting describes how NumPy treats arrays with different shapes during arithmetic operations."
   ]
  },
  {
   "cell_type": "code",
   "execution_count": 1,
   "id": "b5b70298-127d-46ce-9de5-f12e9bc0a5fd",
   "metadata": {},
   "outputs": [],
   "source": [
    "import numpy as np"
   ]
  },
  {
   "cell_type": "code",
   "execution_count": 2,
   "id": "29a13ba8-58b6-45da-bf6e-6f0190dfaafd",
   "metadata": {},
   "outputs": [
    {
     "name": "stdout",
     "output_type": "stream",
     "text": [
      "-----------------------------------------------\n",
      "[1 2 3 4]\n",
      "-----------------------------------------------\n",
      "[2 4 6 8]\n"
     ]
    }
   ],
   "source": [
    "# Creating a NumPy array\n",
    "arr = np.array([1, 2, 3, 4])\n",
    "\n",
    "print('-----------------------------------------------')\n",
    "\n",
    "print(arr)\n",
    "\n",
    "print('-----------------------------------------------')\n",
    "\n",
    "print(arr * 2)  # Output: [2 4 6 8]"
   ]
  },
  {
   "cell_type": "code",
   "execution_count": 3,
   "id": "c5c19259-c296-40ee-afe6-edd129840ce1",
   "metadata": {
    "scrolled": true
   },
   "outputs": [
    {
     "name": "stdout",
     "output_type": "stream",
     "text": [
      "[2 4 6]\n"
     ]
    }
   ],
   "source": [
    "arr1 = np.array([1, 2, 3])\n",
    "arr2 = np.array([1, 2, 3])\n",
    "\n",
    "# Broadcasting occurs here, aligning arr1 to match arr2's dimensions\n",
    "result = arr1 + arr2\n",
    "print(result)"
   ]
  },
  {
   "cell_type": "code",
   "execution_count": 4,
   "id": "ad7faa3d-6e12-4167-8ff6-116a279321b8",
   "metadata": {},
   "outputs": [
    {
     "name": "stdout",
     "output_type": "stream",
     "text": [
      "-----------------------------------------------\n",
      "[1 2 3]\n",
      "[[1]\n",
      " [2]\n",
      " [3]]\n",
      "-----------------------------------------------\n",
      "[[2 3 4]\n",
      " [3 4 5]\n",
      " [4 5 6]]\n"
     ]
    }
   ],
   "source": [
    "arr1 = np.array([1, 2, 3])\n",
    "arr2 = np.array([[1], [2], [3]])\n",
    "\n",
    "print('-----------------------------------------------')\n",
    "print(arr1)\n",
    "\n",
    "print(arr2)\n",
    "print('-----------------------------------------------')\n",
    "\n",
    "# Broadcasting occurs here, aligning arr1 to match arr2's dimensions\n",
    "result = arr1 + arr2\n",
    "print(result)"
   ]
  },
  {
   "cell_type": "code",
   "execution_count": 5,
   "id": "0ed4c0d7-1a66-40b7-a020-41017e232d0e",
   "metadata": {},
   "outputs": [
    {
     "name": "stdout",
     "output_type": "stream",
     "text": [
      "-----------------------------------------------\n",
      "[[1 2]\n",
      " [3 4]\n",
      " [5 6]]\n",
      "-----------------------------------------------\n",
      "[ 9 12]\n",
      "[ 3  7 11]\n"
     ]
    }
   ],
   "source": [
    "arr = np.array([[1, 2], [3, 4], [5, 6]])\n",
    "\n",
    "print('-----------------------------------------------')\n",
    "\n",
    "print(arr)\n",
    "\n",
    "print('-----------------------------------------------')\n",
    "\n",
    "print(np.sum(arr, axis=0))  # Sum along columns\n",
    "print(np.sum(arr, axis=1))  # Sum along rows"
   ]
  },
  {
   "cell_type": "markdown",
   "id": "e793505b-7be6-4481-880d-7a1f0504ae75",
   "metadata": {},
   "source": [
    "Selection\n",
    "---------\n",
    "    Let's briefly go over how to use brackets for selection based off of comparison operators."
   ]
  },
  {
   "cell_type": "code",
   "execution_count": 6,
   "id": "5a890d92-ee2f-48b7-b327-cc46b821c944",
   "metadata": {},
   "outputs": [
    {
     "name": "stdout",
     "output_type": "stream",
     "text": [
      "[ 10  20  30  40  50  60  70  80  90 100]\n"
     ]
    }
   ],
   "source": [
    "arr = np.array([10,20,30,40,50,60,70,80,90,100])\n",
    "\n",
    "print(arr)"
   ]
  },
  {
   "cell_type": "code",
   "execution_count": 7,
   "id": "4f42e7c5-19de-4a1d-877e-a3b7d9530424",
   "metadata": {},
   "outputs": [
    {
     "data": {
      "text/plain": [
       "array([False, False, False, False,  True,  True,  True,  True,  True,\n",
       "        True])"
      ]
     },
     "execution_count": 7,
     "metadata": {},
     "output_type": "execute_result"
    }
   ],
   "source": [
    "arr > 40"
   ]
  },
  {
   "cell_type": "code",
   "execution_count": 8,
   "id": "408e370d-ab73-426b-b868-7b1960805244",
   "metadata": {},
   "outputs": [
    {
     "name": "stdout",
     "output_type": "stream",
     "text": [
      "[False False False False  True  True  True  True  True  True]\n"
     ]
    }
   ],
   "source": [
    "bool_arr = arr > 40\n",
    "\n",
    "print(bool_arr)"
   ]
  },
  {
   "cell_type": "code",
   "execution_count": 9,
   "id": "a33ccefe-b181-4fd4-b73d-3bdac42bd4fd",
   "metadata": {},
   "outputs": [
    {
     "data": {
      "text/plain": [
       "array([ 50,  60,  70,  80,  90, 100])"
      ]
     },
     "execution_count": 9,
     "metadata": {},
     "output_type": "execute_result"
    }
   ],
   "source": [
    "arr[bool_arr]"
   ]
  },
  {
   "cell_type": "code",
   "execution_count": null,
   "id": "12c04ffe-8dce-4649-ab9e-b1ea9d40c11f",
   "metadata": {},
   "outputs": [],
   "source": []
  },
  {
   "cell_type": "code",
   "execution_count": null,
   "id": "c4b94aa5-113c-4784-9a84-630199107ca0",
   "metadata": {},
   "outputs": [],
   "source": []
  }
 ],
 "metadata": {
  "kernelspec": {
   "display_name": "Python 3 (ipykernel)",
   "language": "python",
   "name": "python3"
  },
  "language_info": {
   "codemirror_mode": {
    "name": "ipython",
    "version": 3
   },
   "file_extension": ".py",
   "mimetype": "text/x-python",
   "name": "python",
   "nbconvert_exporter": "python",
   "pygments_lexer": "ipython3",
   "version": "3.13.2"
  }
 },
 "nbformat": 4,
 "nbformat_minor": 5
}
