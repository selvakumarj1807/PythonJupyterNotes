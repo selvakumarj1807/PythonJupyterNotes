{
 "cells": [
  {
   "cell_type": "code",
   "execution_count": 1,
   "id": "22c18b30-901e-4276-903e-acff53df1cc6",
   "metadata": {},
   "outputs": [
    {
     "name": "stdout",
     "output_type": "stream",
     "text": [
      "---------------------------------------\n"
     ]
    }
   ],
   "source": [
    "import package"
   ]
  },
  {
   "cell_type": "code",
   "execution_count": 2,
   "id": "e420e30a-600a-4d51-af0c-d38b352d7da9",
   "metadata": {},
   "outputs": [
    {
     "name": "stdout",
     "output_type": "stream",
     "text": [
      "Company Name :  Skill Fort\n",
      "Website :  skillfort.com\n"
     ]
    }
   ],
   "source": [
    "print('Company Name : ', package.companyName)\n",
    "\n",
    "print('Website : ', package.website)"
   ]
  },
  {
   "cell_type": "code",
   "execution_count": 3,
   "id": "9a7c731a-85eb-45c6-9723-7459a31c9b25",
   "metadata": {},
   "outputs": [
    {
     "name": "stdin",
     "output_type": "stream",
     "text": [
      "Enter a value 01:  50\n",
      "Enter a value 02:  55\n"
     ]
    },
    {
     "name": "stdout",
     "output_type": "stream",
     "text": [
      "50 + 55 = 105\n"
     ]
    }
   ],
   "source": [
    "package.add()"
   ]
  },
  {
   "cell_type": "code",
   "execution_count": null,
   "id": "24755dad-2df4-45ad-9ea5-a7cd0eb7372e",
   "metadata": {},
   "outputs": [],
   "source": []
  }
 ],
 "metadata": {
  "kernelspec": {
   "display_name": "Python 3 (ipykernel)",
   "language": "python",
   "name": "python3"
  },
  "language_info": {
   "codemirror_mode": {
    "name": "ipython",
    "version": 3
   },
   "file_extension": ".py",
   "mimetype": "text/x-python",
   "name": "python",
   "nbconvert_exporter": "python",
   "pygments_lexer": "ipython3",
   "version": "3.11.9"
  }
 },
 "nbformat": 4,
 "nbformat_minor": 5
}
