{
 "cells": [
  {
   "cell_type": "markdown",
   "id": "fee2e547-2c8f-4384-9aee-9f421cf78f0c",
   "metadata": {},
   "source": [
    "Operators:\n",
    "----------"
   ]
  },
  {
   "cell_type": "markdown",
   "id": "f46f3940-f63d-424a-9f46-e46516c72544",
   "metadata": {},
   "source": [
    "Arithmatic Operators:\n",
    "---------------------"
   ]
  },
  {
   "cell_type": "code",
   "execution_count": 9,
   "id": "7c07ffa6-a2f9-4fd8-964c-af147404bcb1",
   "metadata": {},
   "outputs": [
    {
     "name": "stdout",
     "output_type": "stream",
     "text": [
      "Addition :  15\n",
      "Subtraction :  5\n",
      "Multiplication :  50\n",
      "Division :  2.0\n",
      "Modulas :  0\n",
      "Floor Division :  2\n",
      "Exponeniation :  100000\n"
     ]
    }
   ],
   "source": [
    "a = 10\n",
    "\n",
    "b = 5\n",
    "\n",
    "c = a + b\n",
    "\n",
    "print('Addition : ', c)\n",
    "\n",
    "print('Subtraction : ', a - b)\n",
    "\n",
    "print('Multiplication : ', a * b)\n",
    "\n",
    "print('Division : ', a / b)\n",
    "\n",
    "print('Modulas : ', a % b)\n",
    "\n",
    "print('Floor Division : ', a // b)\n",
    "\n",
    "print('Exponeniation : ', a ** b) # 10(base value) ** 5(power value) --> 10 * 10 * 10 * 10 * 10"
   ]
  },
  {
   "cell_type": "markdown",
   "id": "981e1189-f828-4d67-b9ff-7de07f56b29f",
   "metadata": {},
   "source": [
    "Arithmatic Assignment Operators\n",
    "-------------------------------"
   ]
  },
  {
   "cell_type": "code",
   "execution_count": 17,
   "id": "5afe4eaa-d5e0-47db-9fda-9ad2d57a4b63",
   "metadata": {},
   "outputs": [
    {
     "name": "stdout",
     "output_type": "stream",
     "text": [
      "10\n",
      "11\n",
      "\n",
      "10\n",
      "9\n",
      "\n",
      "10\n",
      "20\n",
      "\n",
      "10\n",
      "5.0\n",
      "\n",
      "10\n",
      "0\n",
      "\n",
      "10\n",
      "100\n",
      "\n",
      "10\n",
      "5\n",
      "\n"
     ]
    }
   ],
   "source": [
    "a = 10\n",
    "print(a)\n",
    "a += 1 # a = a + 1 --> a = 10 + 1\n",
    "print(a)\n",
    "print('')\n",
    "\n",
    "a = 10\n",
    "print(a)\n",
    "a -= 1 # a = a - 1 --> a = 10 - 1\n",
    "print(a)\n",
    "print('')\n",
    "\n",
    "a = 10\n",
    "print(a)\n",
    "a *= 2 # a = a * 2 --> a = 10 * 2\n",
    "print(a)\n",
    "print('')\n",
    "\n",
    "a = 10\n",
    "print(a)\n",
    "a /= 2 # a = a / 2 --> a = 10 / 2\n",
    "print(a)\n",
    "print('')\n",
    "\n",
    "a = 10\n",
    "print(a)\n",
    "a %= 2 # a = a % 2 --> a = 10 % 2\n",
    "print(a)\n",
    "print('')\n",
    "\n",
    "a = 10\n",
    "print(a)\n",
    "a **= 2 # a = a ** 2 --> a = 10 ** 2\n",
    "print(a)\n",
    "print('')\n",
    "\n",
    "a = 10\n",
    "print(a)\n",
    "a //= 2 # a = a // 2 --> a = 10 // 2\n",
    "print(a)\n",
    "print('')"
   ]
  },
  {
   "cell_type": "markdown",
   "id": "6b2c1c8a-3e3d-44d6-96e6-a4eba0a3d441",
   "metadata": {},
   "source": [
    "Comparition Operators Or Relational Operators\n",
    "---------------------------------------------"
   ]
  },
  {
   "cell_type": "code",
   "execution_count": 24,
   "id": "1e8000cb-4220-4080-b6e1-7d0b51348bca",
   "metadata": {},
   "outputs": [
    {
     "name": "stdout",
     "output_type": "stream",
     "text": [
      "False\n",
      "False\n",
      "\n",
      "True\n",
      "True\n",
      "\n",
      "False\n",
      "True\n",
      "\n",
      "True\n",
      "False\n",
      "\n",
      "True\n",
      "\n",
      "False\n",
      "\n"
     ]
    }
   ],
   "source": [
    "a = 18\n",
    "print(a < 18) # a < 18 --> 18 < 18\n",
    "print(20 < 18) # 20 < 18 --> 20 < 18\n",
    "print('')\n",
    "\n",
    "a = 18\n",
    "print(a <= 18) # a <= 18 --> 18 <= 18\n",
    "print(12 <= 18) # 12 <= 18 --> 12 <= 18\n",
    "print('')\n",
    "\n",
    "a = 18\n",
    "print(a > 18) # a > 18 --> 18 > 18\n",
    "print(20 > 18) # 20 > 18 --> 20 > 18\n",
    "print('')\n",
    "\n",
    "a = 18\n",
    "print(a >= 18) # a >= 18 --> 18 >= 18\n",
    "print(12 >= 18) # 12 >= 18 --> 12 >= 18\n",
    "print('')\n",
    "\n",
    "a = 20\n",
    "print(a == 20) # a == 20 --> 20 == 20\n",
    "print('')\n",
    "\n",
    "a = 20\n",
    "print(a != 20) # a != 20 --> 20 != 20\n",
    "print('')"
   ]
  },
  {
   "cell_type": "markdown",
   "id": "4d8fffad-b93a-4ebc-9c1e-c06970749726",
   "metadata": {},
   "source": [
    "IF and Else\n",
    "-----------"
   ]
  },
  {
   "cell_type": "code",
   "execution_count": 26,
   "id": "bd89eee9-d0e1-4d29-b0b4-9d5c02552fd9",
   "metadata": {},
   "outputs": [
    {
     "name": "stdout",
     "output_type": "stream",
     "text": [
      "True\n",
      "\n",
      "20 So you are eligible for vote\n"
     ]
    }
   ],
   "source": [
    "\n",
    "age = 20\n",
    "\n",
    "print(age >= 18)\n",
    "print('')\n",
    "\n",
    "if age >= 18:\n",
    "    print(age, 'So you are eligible for vote')"
   ]
  },
  {
   "cell_type": "code",
   "execution_count": 28,
   "id": "4162fafa-3bf9-4871-bd61-f664e75451cd",
   "metadata": {},
   "outputs": [
    {
     "name": "stdout",
     "output_type": "stream",
     "text": [
      "False\n",
      "\n",
      "10 So you are not eligible for vote\n"
     ]
    }
   ],
   "source": [
    "age = 10\n",
    "\n",
    "print(age >= 18)\n",
    "print('')\n",
    "\n",
    "if age >= 18:\n",
    "    print(age, 'So you are eligible for vote')\n",
    "else:\n",
    "    print(age, 'So you are not eligible for vote')"
   ]
  },
  {
   "cell_type": "markdown",
   "id": "36a88313-e043-4a68-8ae4-4c751d949eb9",
   "metadata": {},
   "source": [
    "Elif\n",
    "----"
   ]
  },
  {
   "cell_type": "code",
   "execution_count": 34,
   "id": "6d8ebc56-1682-490c-812b-31f4107d6ec8",
   "metadata": {},
   "outputs": [
    {
     "name": "stdout",
     "output_type": "stream",
     "text": [
      "False\n",
      "\n",
      "True\n",
      "\n",
      "18 So you are eligible for vote In This Year\n"
     ]
    }
   ],
   "source": [
    "age = 18\n",
    "\n",
    "print(age > 18)\n",
    "print('')\n",
    "\n",
    "print(age >= 18)\n",
    "print('')\n",
    "\n",
    "if age > 18:\n",
    "    print(age, 'So you are eligible for vote')\n",
    "elif age >= 18:\n",
    "    print(age, 'So you are eligible for vote In This Year')\n",
    "else:\n",
    "    print(age, 'So you are not eligible for vote')"
   ]
  },
  {
   "cell_type": "markdown",
   "id": "f6e4437e-e153-426a-aab4-a36024eff8a8",
   "metadata": {},
   "source": [
    "Logical Operators:\n",
    "------------------"
   ]
  },
  {
   "cell_type": "code",
   "execution_count": 39,
   "id": "f7b13d36-79fc-4ac9-9e3e-bbc4c03b0251",
   "metadata": {},
   "outputs": [
    {
     "name": "stdout",
     "output_type": "stream",
     "text": [
      "True\n",
      "False\n",
      "False\n",
      "\n",
      "True\n",
      "False\n",
      "True\n",
      "\n",
      "True\n",
      "False\n",
      "False\n",
      "\n"
     ]
    }
   ],
   "source": [
    "# Logical And Operators\n",
    "\n",
    "userName = 'admin'\n",
    "\n",
    "password = 'admin'\n",
    "\n",
    "print(userName == 'admin')\n",
    "\n",
    "print(userName == 'Admin')\n",
    "\n",
    "print(userName == 'admin' and userName == 'Admin') # (userName == 'admin' and userName == 'Admin') -- (True and False) --> False\n",
    "print('')\n",
    "\n",
    "\n",
    "# Logical Or Operators\n",
    "\n",
    "userName = 'admin'\n",
    "\n",
    "password = 'admin'\n",
    "\n",
    "print(userName == 'admin')\n",
    "\n",
    "print(userName == 'Admin')\n",
    "\n",
    "print(userName == 'admin' or userName == 'Admin') # (userName == 'admin' or userName == 'Admin') -- (True or False) --> True\n",
    "print('')\n",
    "\n",
    "\n",
    "# Logical Not Operators\n",
    "\n",
    "userName = 'admin'\n",
    "\n",
    "password = 'admin'\n",
    "\n",
    "print(userName == 'admin')\n",
    "\n",
    "print(userName == 'Admin')\n",
    "\n",
    "print(not(userName == 'admin' or userName == 'Admin')) \n",
    "# not((userName == 'admin' or userName == 'Admin')) -- not(True or False) --> not(True) --> False\n",
    "print('')"
   ]
  },
  {
   "cell_type": "markdown",
   "id": "ca8a7cec-a118-47a1-9425-e0d0f1b33229",
   "metadata": {},
   "source": [
    "ToDay Task\n",
    "----------\n",
    "\n",
    "1. To write the code for\n",
    "    \n",
    "    (True and False) = False\n",
    "   \n",
    "    (True or False) = True\n",
    "   \n",
    "    not((True and False)) = True\n",
    "\n",
    "    "
   ]
  },
  {
   "cell_type": "code",
   "execution_count": null,
   "id": "6f61c36c-ce6e-46e3-aefc-c1dd226947eb",
   "metadata": {},
   "outputs": [],
   "source": []
  }
 ],
 "metadata": {
  "kernelspec": {
   "display_name": "Python 3 (ipykernel)",
   "language": "python",
   "name": "python3"
  },
  "language_info": {
   "codemirror_mode": {
    "name": "ipython",
    "version": 3
   },
   "file_extension": ".py",
   "mimetype": "text/x-python",
   "name": "python",
   "nbconvert_exporter": "python",
   "pygments_lexer": "ipython3",
   "version": "3.11.9"
  }
 },
 "nbformat": 4,
 "nbformat_minor": 5
}
