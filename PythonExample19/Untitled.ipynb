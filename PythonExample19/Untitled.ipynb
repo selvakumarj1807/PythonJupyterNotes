{
 "cells": [
  {
   "cell_type": "markdown",
   "id": "751d5d26-e5ae-407f-b2d8-078cdb8bc62e",
   "metadata": {},
   "source": [
    "Inheritance:\n",
    "------------\n",
    "\n",
    "1. Single Inheritance\n",
    "2. Multiple Inhersitance\n",
    "3. Multilevel Inheritance\n",
    "4. Diomand Problem"
   ]
  },
  {
   "cell_type": "markdown",
   "id": "35249813-e3cb-46ce-9f3d-056341758532",
   "metadata": {},
   "source": [
    "# 1. Single Inheritance\n",
    "-----------------------"
   ]
  },
  {
   "cell_type": "code",
   "execution_count": 7,
   "id": "fa26e39a-4a88-439e-ad60-e976cbb6be74",
   "metadata": {},
   "outputs": [],
   "source": [
    "class Company:\n",
    "    companyName = 'xyz'\n",
    "    website = 'xyz.in'\n",
    "\n",
    "class Employee(Company):\n",
    "    employeeName = 'Sara'\n",
    "    age = 26"
   ]
  },
  {
   "cell_type": "code",
   "execution_count": 8,
   "id": "42663a82-708f-40c2-83d5-a4a21afb2b20",
   "metadata": {},
   "outputs": [],
   "source": [
    "empObject_01 = Employee()"
   ]
  },
  {
   "cell_type": "code",
   "execution_count": 10,
   "id": "6aefa99c-4eb3-462f-b60c-9c8814e8dbd8",
   "metadata": {},
   "outputs": [
    {
     "name": "stdout",
     "output_type": "stream",
     "text": [
      "Sara  age is  26\n",
      "----------------------------------------------------------------------------\n",
      "xyz  -  xyz.in\n"
     ]
    }
   ],
   "source": [
    "print(empObject_01.employeeName, ' age is ', empObject_01.age)\n",
    "\n",
    "print('----------------------------------------------------------------------------')\n",
    "\n",
    "print(empObject_01.companyName, ' - ', empObject_01.website)\n"
   ]
  },
  {
   "cell_type": "markdown",
   "id": "fe0b9e0c-8800-4890-9dfa-65a7a8b2b43f",
   "metadata": {},
   "source": [
    "# 2. Multiple Inhersitance\n",
    "--------------------------"
   ]
  },
  {
   "cell_type": "code",
   "execution_count": 13,
   "id": "691eb312-9390-4d87-b7a9-838795f7152d",
   "metadata": {},
   "outputs": [],
   "source": [
    "class Company:\n",
    "    companyName = 'xyz'\n",
    "    website = 'xyz.in'\n",
    "    \n",
    "class Department:\n",
    "    departmentName = 'Techbical Team'\n",
    "    \n",
    "class Employee(Company, Department):\n",
    "    employeeName = 'Sara'\n",
    "    age = 26"
   ]
  },
  {
   "cell_type": "code",
   "execution_count": 14,
   "id": "2462b785-f101-4a92-802c-578b7b221c10",
   "metadata": {},
   "outputs": [],
   "source": [
    "empObject_01 = Employee()"
   ]
  },
  {
   "cell_type": "code",
   "execution_count": 15,
   "id": "3dbaf377-8522-422e-82c0-c1fd3d29c5ae",
   "metadata": {},
   "outputs": [
    {
     "name": "stdout",
     "output_type": "stream",
     "text": [
      "Sara  age is  26\n",
      "----------------------------------------------------------------------------\n",
      "xyz  -  xyz.in\n",
      "----------------------------------------------------------------------------\n",
      "Techbical Team\n"
     ]
    }
   ],
   "source": [
    "print(empObject_01.employeeName, ' age is ', empObject_01.age)\n",
    "\n",
    "print('----------------------------------------------------------------------------')\n",
    "\n",
    "print(empObject_01.companyName, ' - ', empObject_01.website)\n",
    "\n",
    "print('----------------------------------------------------------------------------')\n",
    "\n",
    "print(empObject_01.departmentName)\n"
   ]
  },
  {
   "cell_type": "code",
   "execution_count": null,
   "id": "b26f546d-64a3-4a7d-9c22-0e62ab2ca3a9",
   "metadata": {},
   "outputs": [],
   "source": []
  }
 ],
 "metadata": {
  "kernelspec": {
   "display_name": "Python 3 (ipykernel)",
   "language": "python",
   "name": "python3"
  },
  "language_info": {
   "codemirror_mode": {
    "name": "ipython",
    "version": 3
   },
   "file_extension": ".py",
   "mimetype": "text/x-python",
   "name": "python",
   "nbconvert_exporter": "python",
   "pygments_lexer": "ipython3",
   "version": "3.11.9"
  }
 },
 "nbformat": 4,
 "nbformat_minor": 5
}
