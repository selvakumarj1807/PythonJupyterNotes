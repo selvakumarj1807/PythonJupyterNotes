{
 "cells": [
  {
   "cell_type": "markdown",
   "id": "6a7d6512-2158-4e63-913b-162b6a96ff52",
   "metadata": {},
   "source": [
    "Create Class\n",
    "------------"
   ]
  },
  {
   "cell_type": "code",
   "execution_count": 6,
   "id": "66b96ab5-6741-4017-9ed9-eca2a6f5300c",
   "metadata": {},
   "outputs": [
    {
     "name": "stdout",
     "output_type": "stream",
     "text": [
      "----------------------------------------\n",
      "10 <class 'int'>\n",
      "<class '__main__.car'> <class 'type'>\n",
      "----------------------------------------\n",
      "<__main__.car object at 0x00000154223A29D0> <class '__main__.car'>\n",
      "<__main__.car object at 0x00000154223A2950> <class '__main__.car'>\n",
      "True\n",
      "False\n",
      "True\n"
     ]
    }
   ],
   "source": [
    "class car:\n",
    "    pass\n",
    "\n",
    "print('----------------------------------------')\n",
    "\n",
    "a = 10\n",
    "\n",
    "print(a, type(a))\n",
    "\n",
    "print(car, type(car))\n",
    "\n",
    "print('----------------------------------------')\n",
    "\n",
    "# Object Creation for Class car\n",
    "\n",
    "honda = car()\n",
    "\n",
    "swift = car()\n",
    "\n",
    "print(honda, type(honda))\n",
    "\n",
    "print(swift, type(swift))\n",
    "\n",
    "# Check the object is create for separate classes\n",
    "'''\n",
    "Syntax:\n",
    "-------\n",
    "print(isinstance(Object Name, Class Name))\n",
    "'''\n",
    "print(isinstance(a, int))\n",
    "\n",
    "print(isinstance(swift, int))\n",
    "\n",
    "print(isinstance(swift, car))"
   ]
  },
  {
   "cell_type": "markdown",
   "id": "817b2d53-e69d-4434-b47c-51a45069d6ec",
   "metadata": {},
   "source": [
    "Class Variable Declaration\n",
    "--------------------------"
   ]
  },
  {
   "cell_type": "code",
   "execution_count": 9,
   "id": "4dd485e5-f6fa-4b5e-b618-c68ee8cf864c",
   "metadata": {},
   "outputs": [],
   "source": [
    "class student:\n",
    "    name = 'Developer'\n",
    "    age = 25"
   ]
  },
  {
   "cell_type": "markdown",
   "id": "5a03a440-6d07-4808-928c-e31271a5f75f",
   "metadata": {},
   "source": [
    "Call the Varible values from the Class\n",
    "--------------------------------------\n",
    "\n",
    "1. getattribute method\n",
    "2. Dot ( . ) Notation"
   ]
  },
  {
   "cell_type": "code",
   "execution_count": 10,
   "id": "d67ff468-971b-4d6f-862d-7ebb1c319152",
   "metadata": {},
   "outputs": [
    {
     "name": "stdout",
     "output_type": "stream",
     "text": [
      "Developer\n"
     ]
    }
   ],
   "source": [
    "# Get Attribute Method\n",
    "\n",
    "print(getattr(student, 'name'))"
   ]
  },
  {
   "cell_type": "code",
   "execution_count": 11,
   "id": "af176788-73d2-4b34-861a-b1654710abb6",
   "metadata": {},
   "outputs": [
    {
     "name": "stdout",
     "output_type": "stream",
     "text": [
      "25\n"
     ]
    }
   ],
   "source": [
    "# Dot Notation\n",
    "\n",
    "print(student.age)"
   ]
  },
  {
   "cell_type": "code",
   "execution_count": 13,
   "id": "268bdbda-fb7b-49ef-8239-907f8cc73ae6",
   "metadata": {},
   "outputs": [
    {
     "name": "stdout",
     "output_type": "stream",
     "text": [
      "TN\n"
     ]
    }
   ],
   "source": [
    "# Difference Between Both methods\n",
    "\n",
    "# Get Attribute Method\n",
    "\n",
    "print(getattr(student, 'state', 'TN'))\n",
    "\n",
    "# Dot Notation have not this type(cannot print not declared Variables)"
   ]
  },
  {
   "cell_type": "markdown",
   "id": "3aa98d5e-24c0-480a-a90e-6c295b05cbe0",
   "metadata": {},
   "source": [
    "To Find the variables and Functions from Class\n",
    "----------------------------------------------"
   ]
  },
  {
   "cell_type": "code",
   "execution_count": 15,
   "id": "03da66f1-2ef5-4c45-9754-a41bda411a43",
   "metadata": {},
   "outputs": [
    {
     "name": "stdout",
     "output_type": "stream",
     "text": [
      "{'__module__': '__main__', 'name': 'Developer', 'age': 25, '__dict__': <attribute '__dict__' of 'student' objects>, '__weakref__': <attribute '__weakref__' of 'student' objects>, '__doc__': None}\n"
     ]
    }
   ],
   "source": [
    "print(student.__dict__)"
   ]
  },
  {
   "cell_type": "markdown",
   "id": "e2aa05fe-2b0b-4859-a7c7-51f2651ecd2e",
   "metadata": {},
   "source": [
    "Class Variable Declaration\n",
    "--------------------------"
   ]
  },
  {
   "cell_type": "code",
   "execution_count": 1,
   "id": "5c96488b-4637-46ff-beb0-171b8a563df9",
   "metadata": {},
   "outputs": [],
   "source": [
    "class student:\n",
    "    name = 'Developer'\n",
    "    age = 25"
   ]
  },
  {
   "cell_type": "code",
   "execution_count": 3,
   "id": "5bd99198-7a21-44d6-9766-444cf6f8f3fc",
   "metadata": {},
   "outputs": [
    {
     "name": "stdout",
     "output_type": "stream",
     "text": [
      "Developer\n",
      "25\n"
     ]
    }
   ],
   "source": [
    "# Call class variable\n",
    "print(getattr(student, 'name'))\n",
    "\n",
    "print(student.age)"
   ]
  },
  {
   "cell_type": "markdown",
   "id": "44902d76-ac75-4ebc-b190-a7a19fac2b75",
   "metadata": {},
   "source": [
    "Change the Class Variable values\n",
    "--------------------------------"
   ]
  },
  {
   "cell_type": "code",
   "execution_count": 5,
   "id": "79ab38ea-d60c-4a9a-b111-6b6fb3bb5e40",
   "metadata": {},
   "outputs": [
    {
     "name": "stdout",
     "output_type": "stream",
     "text": [
      "25\n",
      "18\n"
     ]
    }
   ],
   "source": [
    "print(student.age)\n",
    "\n",
    "student.age = 18\n",
    "\n",
    "print(student.age)"
   ]
  },
  {
   "cell_type": "markdown",
   "id": "5c71e0fc-d910-4ea0-af04-6da9333db994",
   "metadata": {},
   "source": [
    "Add the Variable and Values into the class\n",
    "------------------------------------------\n",
    "\n",
    "1. setattr()\n",
    "2. dot ( . ) Notation"
   ]
  },
  {
   "cell_type": "code",
   "execution_count": 7,
   "id": "3ecc8290-6743-4a04-b7a8-a91586a7af21",
   "metadata": {},
   "outputs": [],
   "source": [
    "class car:\n",
    "    pass"
   ]
  },
  {
   "cell_type": "code",
   "execution_count": 8,
   "id": "0a04742d-8d9f-4ce0-b3a6-562587e899b1",
   "metadata": {},
   "outputs": [
    {
     "name": "stdout",
     "output_type": "stream",
     "text": [
      "{'__module__': '__main__', '__dict__': <attribute '__dict__' of 'car' objects>, '__weakref__': <attribute '__weakref__' of 'car' objects>, '__doc__': None}\n"
     ]
    }
   ],
   "source": [
    "print(car.__dict__)"
   ]
  },
  {
   "cell_type": "code",
   "execution_count": 9,
   "id": "898c0c84-399e-4d5f-b142-3576ab673b94",
   "metadata": {},
   "outputs": [],
   "source": [
    "#Setattr Method\n",
    "\n",
    "setattr(car, 'carName', 'Ford')"
   ]
  },
  {
   "cell_type": "code",
   "execution_count": 10,
   "id": "13f2e779-a7fb-4ac2-9dc3-334322200ca2",
   "metadata": {},
   "outputs": [
    {
     "name": "stdout",
     "output_type": "stream",
     "text": [
      "{'__module__': '__main__', '__dict__': <attribute '__dict__' of 'car' objects>, '__weakref__': <attribute '__weakref__' of 'car' objects>, '__doc__': None, 'carName': 'Ford'}\n"
     ]
    }
   ],
   "source": [
    "print(car.__dict__)"
   ]
  },
  {
   "cell_type": "code",
   "execution_count": 11,
   "id": "0964aab9-66eb-4fdd-a6f7-edcc7354fddf",
   "metadata": {},
   "outputs": [
    {
     "name": "stdout",
     "output_type": "stream",
     "text": [
      "Ford\n"
     ]
    }
   ],
   "source": [
    "print(car.carName)"
   ]
  },
  {
   "cell_type": "code",
   "execution_count": 12,
   "id": "1e78d992-8390-42ca-9b6b-b335bc0adf3b",
   "metadata": {},
   "outputs": [],
   "source": [
    "# Dot notation method\n",
    "\n",
    "car.model = 2010"
   ]
  },
  {
   "cell_type": "code",
   "execution_count": 13,
   "id": "44fadb48-ac7d-4016-88b2-fcb9362adb32",
   "metadata": {},
   "outputs": [
    {
     "name": "stdout",
     "output_type": "stream",
     "text": [
      "{'__module__': '__main__', '__dict__': <attribute '__dict__' of 'car' objects>, '__weakref__': <attribute '__weakref__' of 'car' objects>, '__doc__': None, 'carName': 'Ford', 'model': 2010}\n"
     ]
    }
   ],
   "source": [
    "print(car.__dict__)"
   ]
  },
  {
   "cell_type": "markdown",
   "id": "76a64ece-665a-47ab-a300-6d3d3cea08d2",
   "metadata": {},
   "source": [
    "Delete the Variable values from the class\n",
    "-----------------------------------------\n",
    "\n",
    "1. delattr()\n",
    "2. dot ( . ) Notation"
   ]
  },
  {
   "cell_type": "code",
   "execution_count": 17,
   "id": "a5cca67a-c9a1-476d-beff-51f5c930fc2f",
   "metadata": {},
   "outputs": [],
   "source": [
    "class employees:\n",
    "    employeeName = 'selva'\n",
    "    gmail = 'selva@gmail.com'\n",
    "    mobile = 9500912258"
   ]
  },
  {
   "cell_type": "code",
   "execution_count": 18,
   "id": "2db45964-bd02-4965-8d0d-7612f0210068",
   "metadata": {},
   "outputs": [
    {
     "name": "stdout",
     "output_type": "stream",
     "text": [
      "{'__module__': '__main__', 'employeeName': 'selva', 'gmail': 'selva@gmail.com', 'mobile': 9500912258, '__dict__': <attribute '__dict__' of 'employees' objects>, '__weakref__': <attribute '__weakref__' of 'employees' objects>, '__doc__': None}\n"
     ]
    }
   ],
   "source": [
    "print(employees.__dict__)"
   ]
  },
  {
   "cell_type": "code",
   "execution_count": 19,
   "id": "3534ffa1-f397-45a7-8f00-1f6795c3ff3d",
   "metadata": {},
   "outputs": [
    {
     "name": "stdout",
     "output_type": "stream",
     "text": [
      "{'__module__': '__main__', 'employeeName': 'selva', 'gmail': 'selva@gmail.com', '__dict__': <attribute '__dict__' of 'employees' objects>, '__weakref__': <attribute '__weakref__' of 'employees' objects>, '__doc__': None}\n"
     ]
    }
   ],
   "source": [
    "# Delattribute method\n",
    "\n",
    "delattr(employees, 'mobile')\n",
    "\n",
    "print(employees.__dict__)"
   ]
  },
  {
   "cell_type": "code",
   "execution_count": 20,
   "id": "0710cc28-75fc-4235-b2f5-61aed85574bd",
   "metadata": {},
   "outputs": [
    {
     "name": "stdout",
     "output_type": "stream",
     "text": [
      "{'__module__': '__main__', 'employeeName': 'selva', '__dict__': <attribute '__dict__' of 'employees' objects>, '__weakref__': <attribute '__weakref__' of 'employees' objects>, '__doc__': None}\n"
     ]
    }
   ],
   "source": [
    "del (employees.gmail)\n",
    "\n",
    "print(employees.__dict__)"
   ]
  },
  {
   "cell_type": "code",
   "execution_count": null,
   "id": "1d01bc99-19ab-470a-95cc-ead0b506445f",
   "metadata": {},
   "outputs": [],
   "source": []
  }
 ],
 "metadata": {
  "kernelspec": {
   "display_name": "Python 3 (ipykernel)",
   "language": "python",
   "name": "python3"
  },
  "language_info": {
   "codemirror_mode": {
    "name": "ipython",
    "version": 3
   },
   "file_extension": ".py",
   "mimetype": "text/x-python",
   "name": "python",
   "nbconvert_exporter": "python",
   "pygments_lexer": "ipython3",
   "version": "3.11.9"
  }
 },
 "nbformat": 4,
 "nbformat_minor": 5
}
