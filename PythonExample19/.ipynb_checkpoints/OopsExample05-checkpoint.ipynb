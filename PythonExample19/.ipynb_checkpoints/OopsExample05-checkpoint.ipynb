{
 "cells": [
  {
   "cell_type": "markdown",
   "id": "609eb66e-a4c1-4347-83a2-6a69509a55f2",
   "metadata": {},
   "source": [
    "Abstraction & Encapsulation:\n",
    "----------------------------"
   ]
  },
  {
   "cell_type": "code",
   "execution_count": null,
   "id": "2718a64e-e2b2-4d24-8fa1-27c31c4af08d",
   "metadata": {},
   "outputs": [],
   "source": [
    "'''\n",
    "Output:\n",
    "\n",
    "Library Management :\n",
    "\n",
    "1. Display Book\n",
    "2. Borrow Book\n",
    "3. Recived Book\n",
    "\n",
    "Enter your Choice (1/2/3): 1\n",
    "\n",
    "Our Library Books :\n",
    "\n",
    "C\n",
    "C++\n",
    "Java\n",
    "\n",
    "1. Display Book\n",
    "2. Borrow Book\n",
    "3. Recived Book\n",
    "\n",
    "Enter your Choice (1/2/3): 2\n",
    "\n",
    "Enter Your Book Name : C\n",
    "Get your C Book Now! \n",
    "\n",
    "1. Display Book\n",
    "2. Borrow Book\n",
    "3. Recived Book\n",
    "\n",
    "Enter your Choice (1/2/3): 3\n",
    "\n",
    "Enter your Book Name for recived : C\n",
    "\n",
    "C Book Recived Successfully!\n",
    "\n",
    "'''"
   ]
  },
  {
   "cell_type": "code",
   "execution_count": 2,
   "id": "5f0a90fe-3b76-45bc-bce5-4698db87f3d4",
   "metadata": {},
   "outputs": [],
   "source": [
    "# Class Creation\n",
    "\n",
    "class LibraryManagement:\n",
    "    def __init__(self, books):\n",
    "        self.books = books\n",
    "\n",
    "    def displayBook(self):\n",
    "        print('Our Library Books :')\n",
    "\n",
    "        for book in self.books:\n",
    "            print(book)\n",
    "\n",
    "    def borrowBook(self, book):\n",
    "        if (book in self.books):\n",
    "            print('Get your ',book,' Book Now!')\n",
    "            self.books.remove(book)\n",
    "\n",
    "        else:\n",
    "            print('Enter a Valid Book Name')\n",
    "\n",
    "    def recivedBook(self, book):\n",
    "        print(book, ' Book Recived Successfully!')\n",
    "\n",
    "        self.books.append(book)"
   ]
  },
  {
   "cell_type": "code",
   "execution_count": null,
   "id": "c223a577-c361-4436-b141-189d873e5cbb",
   "metadata": {},
   "outputs": [
    {
     "name": "stdout",
     "output_type": "stream",
     "text": [
      "Library Management :\n",
      "\n",
      "1. Display Book\n",
      "2. Borrow Book\n",
      "3. Recived Book\n",
      "\n"
     ]
    },
    {
     "name": "stdin",
     "output_type": "stream",
     "text": [
      "Enter your Choice (1/2/3): 1\n"
     ]
    },
    {
     "name": "stdout",
     "output_type": "stream",
     "text": [
      "Our Library Books :\n",
      "C\n",
      "C++\n",
      "Java\n",
      "\n",
      "1. Display Book\n",
      "2. Borrow Book\n",
      "3. Recived Book\n",
      "\n"
     ]
    },
    {
     "name": "stdin",
     "output_type": "stream",
     "text": [
      "Enter your Choice (1/2/3): 2\n",
      "Enter Your Book Name :  C\n"
     ]
    },
    {
     "name": "stdout",
     "output_type": "stream",
     "text": [
      "Get your  C  Book Now!\n",
      "\n",
      "1. Display Book\n",
      "2. Borrow Book\n",
      "3. Recived Book\n",
      "\n"
     ]
    },
    {
     "name": "stdin",
     "output_type": "stream",
     "text": [
      "Enter your Choice (1/2/3): 3\n",
      "Enter your Book Name for recived : C\n"
     ]
    },
    {
     "name": "stdout",
     "output_type": "stream",
     "text": [
      "C  Book Recived Successfully!\n",
      "\n",
      "1. Display Book\n",
      "2. Borrow Book\n",
      "3. Recived Book\n",
      "\n"
     ]
    }
   ],
   "source": [
    "books = ['C', 'C++', 'Java']\n",
    "\n",
    "library = LibraryManagement(books)\n",
    "\n",
    "print('Library Management :')\n",
    "\n",
    "message = '''\n",
    "1. Display Book\n",
    "2. Borrow Book\n",
    "3. Recived Book\n",
    "'''\n",
    "\n",
    "while True:\n",
    "    print(message)\n",
    "\n",
    "    value = input('Enter your Choice (1/2/3):')\n",
    "\n",
    "    if (value == '1'):\n",
    "        library.displayBook()\n",
    "\n",
    "    if (value == '2'):\n",
    "        book = input('Enter Your Book Name : ')\n",
    "        \n",
    "        library.borrowBook(book)\n",
    "\n",
    "    if (value == '3'):\n",
    "        book = input('Enter your Book Name for recived :')\n",
    "        \n",
    "        library.recivedBook(book)\n",
    "\n",
    "    if (value == 'exit'):\n",
    "        break"
   ]
  },
  {
   "cell_type": "code",
   "execution_count": null,
   "id": "0319e440-5766-4f89-aeae-a285298f0da1",
   "metadata": {},
   "outputs": [],
   "source": []
  }
 ],
 "metadata": {
  "kernelspec": {
   "display_name": "Python 3 (ipykernel)",
   "language": "python",
   "name": "python3"
  },
  "language_info": {
   "codemirror_mode": {
    "name": "ipython",
    "version": 3
   },
   "file_extension": ".py",
   "mimetype": "text/x-python",
   "name": "python",
   "nbconvert_exporter": "python",
   "pygments_lexer": "ipython3",
   "version": "3.13.2"
  }
 },
 "nbformat": 4,
 "nbformat_minor": 5
}
