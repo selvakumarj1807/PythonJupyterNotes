{
 "cells": [
  {
   "cell_type": "markdown",
   "id": "751d5d26-e5ae-407f-b2d8-078cdb8bc62e",
   "metadata": {},
   "source": [
    "Inheritance:\n",
    "------------\n",
    "\n",
    "1. Single Inheritance\n",
    "2. Multiple Inhersitance\n",
    "3. Multilevel Inheritance\n",
    "4. Diomand Problem"
   ]
  },
  {
   "cell_type": "markdown",
   "id": "35249813-e3cb-46ce-9f3d-056341758532",
   "metadata": {},
   "source": [
    "# 1. Single Inheritance\n",
    "-----------------------"
   ]
  },
  {
   "cell_type": "code",
   "execution_count": 7,
   "id": "fa26e39a-4a88-439e-ad60-e976cbb6be74",
   "metadata": {},
   "outputs": [],
   "source": [
    "class Company:\n",
    "    companyName = 'xyz'\n",
    "    website = 'xyz.in'\n",
    "\n",
    "class Employee(Company):\n",
    "    employeeName = 'Sara'\n",
    "    age = 26"
   ]
  },
  {
   "cell_type": "code",
   "execution_count": 8,
   "id": "42663a82-708f-40c2-83d5-a4a21afb2b20",
   "metadata": {},
   "outputs": [],
   "source": [
    "empObject_01 = Employee()"
   ]
  },
  {
   "cell_type": "code",
   "execution_count": 10,
   "id": "6aefa99c-4eb3-462f-b60c-9c8814e8dbd8",
   "metadata": {},
   "outputs": [
    {
     "name": "stdout",
     "output_type": "stream",
     "text": [
      "Sara  age is  26\n",
      "----------------------------------------------------------------------------\n",
      "xyz  -  xyz.in\n"
     ]
    }
   ],
   "source": [
    "print(empObject_01.employeeName, ' age is ', empObject_01.age)\n",
    "\n",
    "print('----------------------------------------------------------------------------')\n",
    "\n",
    "print(empObject_01.companyName, ' - ', empObject_01.website)\n"
   ]
  },
  {
   "cell_type": "markdown",
   "id": "fe0b9e0c-8800-4890-9dfa-65a7a8b2b43f",
   "metadata": {},
   "source": [
    "# 2. Multiple Inhersitance\n",
    "--------------------------"
   ]
  },
  {
   "cell_type": "code",
   "execution_count": 13,
   "id": "691eb312-9390-4d87-b7a9-838795f7152d",
   "metadata": {},
   "outputs": [],
   "source": [
    "# Example 01 :\n",
    "#-------------\n",
    "\n",
    "class Company:\n",
    "    companyName = 'xyz'\n",
    "    website = 'xyz.in'\n",
    "    \n",
    "class Department:\n",
    "    departmentName = 'Techbical Team'\n",
    "    \n",
    "class Employee(Company, Department):\n",
    "    employeeName = 'Sara'\n",
    "    age = 26"
   ]
  },
  {
   "cell_type": "code",
   "execution_count": 14,
   "id": "2462b785-f101-4a92-802c-578b7b221c10",
   "metadata": {},
   "outputs": [],
   "source": [
    "empObject_01 = Employee()"
   ]
  },
  {
   "cell_type": "code",
   "execution_count": 15,
   "id": "3dbaf377-8522-422e-82c0-c1fd3d29c5ae",
   "metadata": {},
   "outputs": [
    {
     "name": "stdout",
     "output_type": "stream",
     "text": [
      "Sara  age is  26\n",
      "----------------------------------------------------------------------------\n",
      "xyz  -  xyz.in\n",
      "----------------------------------------------------------------------------\n",
      "Techbical Team\n"
     ]
    }
   ],
   "source": [
    "print(empObject_01.employeeName, ' age is ', empObject_01.age)\n",
    "\n",
    "print('----------------------------------------------------------------------------')\n",
    "\n",
    "print(empObject_01.companyName, ' - ', empObject_01.website)\n",
    "\n",
    "print('----------------------------------------------------------------------------')\n",
    "\n",
    "print(empObject_01.departmentName)\n"
   ]
  },
  {
   "cell_type": "code",
   "execution_count": 16,
   "id": "b26f546d-64a3-4a7d-9c22-0e62ab2ca3a9",
   "metadata": {},
   "outputs": [],
   "source": [
    "# Example 02 :\n",
    "#-------------\n",
    "\n",
    "class Father:\n",
    "    def play(self):\n",
    "        print('Father has a Footbal Playing Skill')\n",
    "\n",
    "    def chess(self):\n",
    "        print('Father has playing Chess')\n",
    "\n",
    "class Mother:\n",
    "    def cooking(self):\n",
    "        print('Mother has a cookig Skill')\n",
    "\n",
    "    def chess(self):\n",
    "        print('Mother also has a Playing Chess ')\n",
    "\n",
    "class Son(Father, Mother):\n",
    "    def read(self):\n",
    "        print('Son has a Reading Skill')"
   ]
  },
  {
   "cell_type": "code",
   "execution_count": 17,
   "id": "1833912b-cca1-48e5-b2dc-19d1c6d72d8e",
   "metadata": {},
   "outputs": [],
   "source": [
    "object01 = Son()"
   ]
  },
  {
   "cell_type": "code",
   "execution_count": 18,
   "id": "ba1717ca-2e98-4148-99a7-3f4166a5a23f",
   "metadata": {},
   "outputs": [
    {
     "name": "stdout",
     "output_type": "stream",
     "text": [
      "Son has a Reading Skill\n"
     ]
    }
   ],
   "source": [
    "# Function from Son Class\n",
    "\n",
    "object01.read()"
   ]
  },
  {
   "cell_type": "code",
   "execution_count": 19,
   "id": "fa8f828d-b984-4544-8e0f-5b16806dcc97",
   "metadata": {},
   "outputs": [
    {
     "name": "stdout",
     "output_type": "stream",
     "text": [
      "Father has a Footbal Playing Skill\n",
      "Father has playing Chess\n"
     ]
    }
   ],
   "source": [
    "# Function From Father Class\n",
    "\n",
    "object01.play()\n",
    "\n",
    "object01.chess()"
   ]
  },
  {
   "cell_type": "code",
   "execution_count": 20,
   "id": "78dca428-ace2-4dab-a2cd-c482783646a8",
   "metadata": {},
   "outputs": [
    {
     "name": "stdout",
     "output_type": "stream",
     "text": [
      "Mother has a cookig Skill\n",
      "Father has playing Chess\n"
     ]
    }
   ],
   "source": [
    "# Function From Mother Class\n",
    "\n",
    "object01.cooking()\n",
    "\n",
    "object01.chess() # Father has playing Chess - Father class have first Parameter variable. So that is called"
   ]
  },
  {
   "cell_type": "markdown",
   "id": "e2553c86-2b54-44b2-abb5-84a3524b9ec4",
   "metadata": {},
   "source": [
    "# 3. Multi level Inhereitance:\n",
    "------------------------------"
   ]
  },
  {
   "cell_type": "code",
   "execution_count": 29,
   "id": "8bb77c8b-f97f-4837-afe0-3e438ce4449c",
   "metadata": {},
   "outputs": [],
   "source": [
    "class Father:\n",
    "    def play(self):\n",
    "        print('Father has a Footbal Playing Skill')\n",
    "\n",
    "    def chess(self):\n",
    "        print('Father has playing Chess')\n",
    "\n",
    "class Mother(Father):\n",
    "    def cooking(self):\n",
    "        print('Mother has a cookig Skill')\n",
    "\n",
    "    def chess(self):\n",
    "        print('Mother also has a Playing Chess ')\n",
    "\n",
    "class Son(Mother):\n",
    "    def read(self):\n",
    "        print('Son has a Reading Skill')"
   ]
  },
  {
   "cell_type": "code",
   "execution_count": 30,
   "id": "eed70923-cb41-4831-b1fa-9f552d4caac5",
   "metadata": {},
   "outputs": [],
   "source": [
    "object01 = Son()"
   ]
  },
  {
   "cell_type": "code",
   "execution_count": 31,
   "id": "acae5a1f-7ff8-42d9-b70d-5f317808a1f9",
   "metadata": {},
   "outputs": [
    {
     "name": "stdout",
     "output_type": "stream",
     "text": [
      "Son has a Reading Skill\n"
     ]
    }
   ],
   "source": [
    "# Function from Son Class\n",
    "\n",
    "object01.read()"
   ]
  },
  {
   "cell_type": "code",
   "execution_count": 32,
   "id": "82f2eccc-e4d4-41fc-be26-accc4cdcb1d2",
   "metadata": {},
   "outputs": [
    {
     "name": "stdout",
     "output_type": "stream",
     "text": [
      "Father has a Footbal Playing Skill\n",
      "Mother also has a Playing Chess \n"
     ]
    }
   ],
   "source": [
    "# Function From Father Class\n",
    "\n",
    "object01.play()\n",
    "\n",
    "object01.chess() # Mother also has a Playing Chess - Son() clss have Mother's parent Class"
   ]
  },
  {
   "cell_type": "code",
   "execution_count": 33,
   "id": "ef5341bc-7ff5-4f07-b09e-ae79c132d0c5",
   "metadata": {},
   "outputs": [
    {
     "name": "stdout",
     "output_type": "stream",
     "text": [
      "Mother has a cookig Skill\n",
      "Mother also has a Playing Chess \n"
     ]
    }
   ],
   "source": [
    "# Function From Mother Class\n",
    "\n",
    "object01.cooking()\n",
    "\n",
    "object01.chess()"
   ]
  },
  {
   "cell_type": "markdown",
   "id": "c4691a64-3741-4d96-a4f1-d60f0d5e02e9",
   "metadata": {},
   "source": [
    "# 4. Diomand Problem:\n",
    "---------------------"
   ]
  },
  {
   "cell_type": "code",
   "execution_count": 40,
   "id": "d1344bc2-af05-4ada-b17d-cd241e44da77",
   "metadata": {},
   "outputs": [],
   "source": [
    "class A:\n",
    "    def display(self):\n",
    "        print('I am a Class Of A')\n",
    "\n",
    "class B(A):\n",
    "    def display(self):\n",
    "        print('I am a Class Of B')\n",
    "\n",
    "class C(A):\n",
    "    def display(self):\n",
    "        print('I am a Class Of C')\n",
    "\n",
    "class D(B, C):\n",
    "    def display(self):\n",
    "        print('I am a Class Of D')"
   ]
  },
  {
   "cell_type": "code",
   "execution_count": 41,
   "id": "65fb073c-4502-4b6c-9ea7-b47300b7847d",
   "metadata": {},
   "outputs": [],
   "source": [
    "object01 = D()"
   ]
  },
  {
   "cell_type": "code",
   "execution_count": 42,
   "id": "cd696e3e-584c-4267-abda-d5802d5ce251",
   "metadata": {},
   "outputs": [
    {
     "name": "stdout",
     "output_type": "stream",
     "text": [
      "I am a Class Of D\n"
     ]
    }
   ],
   "source": [
    "object01.display()"
   ]
  },
  {
   "cell_type": "code",
   "execution_count": 43,
   "id": "292688d8-7328-4208-b2e1-157722922837",
   "metadata": {},
   "outputs": [
    {
     "name": "stdout",
     "output_type": "stream",
     "text": [
      "\n"
     ]
    }
   ],
   "source": []
  },
  {
   "cell_type": "code",
   "execution_count": null,
   "id": "eebd8fbb-d56d-4a3d-a9b6-1ab553b18500",
   "metadata": {},
   "outputs": [],
   "source": []
  }
 ],
 "metadata": {
  "kernelspec": {
   "display_name": "Python 3 (ipykernel)",
   "language": "python",
   "name": "python3"
  },
  "language_info": {
   "codemirror_mode": {
    "name": "ipython",
    "version": 3
   },
   "file_extension": ".py",
   "mimetype": "text/x-python",
   "name": "python",
   "nbconvert_exporter": "python",
   "pygments_lexer": "ipython3",
   "version": "3.13.2"
  }
 },
 "nbformat": 4,
 "nbformat_minor": 5
}
