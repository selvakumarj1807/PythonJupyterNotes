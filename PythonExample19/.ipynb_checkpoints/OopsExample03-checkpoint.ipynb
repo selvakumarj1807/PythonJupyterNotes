{
 "cells": [
  {
   "cell_type": "markdown",
   "id": "05a052ef-41d9-4d09-b807-617f63978337",
   "metadata": {},
   "source": [
    "Functions in Class:\n",
    "-------------------"
   ]
  },
  {
   "cell_type": "markdown",
   "id": "2cff221b-e2b6-4ebd-ae9a-fbb8c9ecb7a9",
   "metadata": {},
   "source": [
    "# 1. Class Method in Python\n",
    "---------------------------"
   ]
  },
  {
   "cell_type": "code",
   "execution_count": 6,
   "id": "77ed27a8-b112-4ed2-b63e-aceaa1dc942c",
   "metadata": {},
   "outputs": [],
   "source": [
    "companyName = 'xyz'\n",
    "\n",
    "class employee:\n",
    "    name = 'Sara'\n",
    "    age = 25\n",
    "\n",
    "    def employeeDetails():\n",
    "        print(employee.name, ' your age is ', employee.age)\n",
    "\n",
    "        print('Company Name : ', companyName)"
   ]
  },
  {
   "cell_type": "code",
   "execution_count": 7,
   "id": "8921fb24-a523-4ab6-9daa-2dd651cb8628",
   "metadata": {},
   "outputs": [
    {
     "name": "stdout",
     "output_type": "stream",
     "text": [
      "Sara  your age is  25\n",
      "Company Name :  xyz\n"
     ]
    }
   ],
   "source": [
    "employee.employeeDetails()"
   ]
  },
  {
   "cell_type": "markdown",
   "id": "bbe75b23-4208-4bd7-bc58-11757a20cdb4",
   "metadata": {},
   "source": [
    "# 2. Object method in Python\n",
    "----------------------------\n",
    "\n",
    "Using Self Parameter"
   ]
  },
  {
   "cell_type": "code",
   "execution_count": 22,
   "id": "4e11af5c-c1d3-4834-ab01-a45b3513faf7",
   "metadata": {},
   "outputs": [],
   "source": [
    "companyName = 'xyz'\n",
    "\n",
    "class employee:\n",
    "    name = 'Sara'\n",
    "    age = 25\n",
    "\n",
    "    def employeeDetails(self):\n",
    "        print(self.name, ' your age is ', self.age)\n",
    "\n",
    "        print('Company Name : ', companyName)"
   ]
  },
  {
   "cell_type": "code",
   "execution_count": 23,
   "id": "9e692d50-5b58-46ac-b054-025b691c25e1",
   "metadata": {},
   "outputs": [],
   "source": [
    "employeeObject = employee()"
   ]
  },
  {
   "cell_type": "code",
   "execution_count": 24,
   "id": "72134878-7c94-4829-b205-9e4b1a78a060",
   "metadata": {},
   "outputs": [
    {
     "name": "stdout",
     "output_type": "stream",
     "text": [
      "Sara  your age is  25\n"
     ]
    }
   ],
   "source": [
    "print(employee.name, ' your age is ', employee.age)"
   ]
  },
  {
   "cell_type": "code",
   "execution_count": 25,
   "id": "bd9b4bdc-04df-4f7d-a57d-fe8acfec4207",
   "metadata": {},
   "outputs": [
    {
     "name": "stdout",
     "output_type": "stream",
     "text": [
      "Sara  your age is  25\n"
     ]
    }
   ],
   "source": [
    "print(employeeObject.name, ' your age is ', employeeObject.age)"
   ]
  },
  {
   "cell_type": "code",
   "execution_count": 26,
   "id": "f468f983-9e11-4b6a-9d1a-c26a29ea38e1",
   "metadata": {},
   "outputs": [
    {
     "name": "stdout",
     "output_type": "stream",
     "text": [
      "Sara  your age is  25\n",
      "Company Name :  xyz\n"
     ]
    }
   ],
   "source": [
    "employeeObject.employeeDetails()"
   ]
  },
  {
   "cell_type": "code",
   "execution_count": 27,
   "id": "9ead1e18-76ef-45cd-9502-c01d2b631c2b",
   "metadata": {},
   "outputs": [],
   "source": [
    "employeeObject.name = 'Developer'\n",
    "\n",
    "employeeObject.age = 30"
   ]
  },
  {
   "cell_type": "code",
   "execution_count": 28,
   "id": "51793148-6319-4e87-bb6e-be234f7c817e",
   "metadata": {},
   "outputs": [
    {
     "name": "stdout",
     "output_type": "stream",
     "text": [
      "Developer  your age is  30\n",
      "Company Name :  xyz\n"
     ]
    }
   ],
   "source": [
    "employeeObject.employeeDetails()"
   ]
  },
  {
   "cell_type": "code",
   "execution_count": 29,
   "id": "de66190b-7687-46b6-8471-7128885b49f8",
   "metadata": {},
   "outputs": [],
   "source": [
    "employeeObject2 = employee()"
   ]
  },
  {
   "cell_type": "code",
   "execution_count": 30,
   "id": "8894d4f1-ee81-425c-ba01-09fedbbd6ec6",
   "metadata": {},
   "outputs": [],
   "source": [
    "employeeObject2.name = 'Thara'\n",
    "\n",
    "employeeObject2.age = 28"
   ]
  },
  {
   "cell_type": "code",
   "execution_count": 31,
   "id": "c068a963-7fd1-40c7-b859-8cf09a36f818",
   "metadata": {},
   "outputs": [
    {
     "name": "stdout",
     "output_type": "stream",
     "text": [
      "Thara  your age is  28\n",
      "Company Name :  xyz\n"
     ]
    }
   ],
   "source": [
    "employeeObject2.employeeDetails()"
   ]
  },
  {
   "cell_type": "markdown",
   "id": "3cc37f1e-5331-4157-afd3-34700dfecdce",
   "metadata": {},
   "source": [
    "# 3. __init__ Method :\n",
    "----------------------"
   ]
  },
  {
   "cell_type": "code",
   "execution_count": 35,
   "id": "c89ce31d-0370-47f6-b741-a56d4844278e",
   "metadata": {},
   "outputs": [],
   "source": [
    "class employee:\n",
    "    def __init__(self):\n",
    "        print('__init__ method - Constructer method for Value initialization')"
   ]
  },
  {
   "cell_type": "code",
   "execution_count": 36,
   "id": "292316d4-8977-42fd-b304-b0785ccecda6",
   "metadata": {},
   "outputs": [
    {
     "name": "stdout",
     "output_type": "stream",
     "text": [
      "__init__ method - Constructer method for Value initialization\n"
     ]
    }
   ],
   "source": [
    "object01 = employee()"
   ]
  },
  {
   "cell_type": "markdown",
   "id": "f769c0bf-c541-49fb-9243-562da1fe1d33",
   "metadata": {},
   "source": [
    "Example 01\n",
    "----------"
   ]
  },
  {
   "cell_type": "code",
   "execution_count": 37,
   "id": "9bdc81d7-4049-4c26-8d1a-00f02e283c1b",
   "metadata": {},
   "outputs": [],
   "source": [
    "companyName = 'xyz'\n",
    "\n",
    "class employee:\n",
    "    def __init__(self, name, age):\n",
    "        self.name = name\n",
    "        self.age = age\n",
    "    \n",
    "    def employeeDetails(self):\n",
    "        print(self.name, ' your age is ', self.age)\n",
    "\n",
    "        print('Company Name : ', companyName)"
   ]
  },
  {
   "cell_type": "code",
   "execution_count": 38,
   "id": "03942a35-7533-484f-bd33-86e7d2a7364f",
   "metadata": {},
   "outputs": [],
   "source": [
    "employeeObject01 = employee('Sri', 25)"
   ]
  },
  {
   "cell_type": "code",
   "execution_count": 39,
   "id": "93d1036a-2764-4a0e-853d-ea89454e7132",
   "metadata": {},
   "outputs": [
    {
     "name": "stdout",
     "output_type": "stream",
     "text": [
      "Sri  your age is  25\n",
      "Company Name :  xyz\n"
     ]
    }
   ],
   "source": [
    "employeeObject01.employeeDetails()"
   ]
  },
  {
   "cell_type": "markdown",
   "id": "60877f33-7ee7-456e-ab60-69a8e5cd6d14",
   "metadata": {},
   "source": [
    "# 4. Decorator Property\n",
    "-----------------------"
   ]
  },
  {
   "cell_type": "code",
   "execution_count": 12,
   "id": "8fd14a0a-0b58-4dd7-bdc0-8c5d16104891",
   "metadata": {},
   "outputs": [],
   "source": [
    "class user:\n",
    "    name = 'Sara'\n",
    "    age = 28\n",
    "\n",
    "    @property\n",
    "    def details(self):\n",
    "        return self.name + ' age is ' + str(self.age)"
   ]
  },
  {
   "cell_type": "code",
   "execution_count": 2,
   "id": "532786de-9d16-40e4-be41-40b4f656921c",
   "metadata": {},
   "outputs": [
    {
     "name": "stdout",
     "output_type": "stream",
     "text": [
      "Sara\n",
      "28\n"
     ]
    }
   ],
   "source": [
    "print(user.name)\n",
    "\n",
    "print(user.age)"
   ]
  },
  {
   "cell_type": "code",
   "execution_count": 13,
   "id": "e45d23a4-0ef5-45de-9676-1bd5234e3812",
   "metadata": {},
   "outputs": [
    {
     "name": "stdout",
     "output_type": "stream",
     "text": [
      "Sara age is 28\n"
     ]
    }
   ],
   "source": [
    "obj = user()\n",
    "\n",
    "print(obj.details)"
   ]
  },
  {
   "cell_type": "markdown",
   "id": "e018646f-5f64-4130-b9b1-33939fe442d8",
   "metadata": {},
   "source": [
    "# 5. Property Decarator Getter and Setter\n",
    "-----------------------------------------"
   ]
  },
  {
   "cell_type": "code",
   "execution_count": 42,
   "id": "31c4968b-609e-45e9-a4b2-d3c773feddcc",
   "metadata": {},
   "outputs": [],
   "source": [
    "class stud:\n",
    "    def __init__(self, total):\n",
    "        self.value = total\n",
    "\n",
    "    def average(self):\n",
    "        return self.value / 5\n",
    "\n",
    "    @property\n",
    "    def total(self):\n",
    "        return self.value\n",
    "\n",
    "    @total.setter\n",
    "    def total(self, t):\n",
    "        print('Property Setter : ', t)\n",
    "\n",
    "        if t < 0 or t > 500:\n",
    "            print('Values are not accepted Give Correct values like 0 - 500')\n",
    "\n",
    "        else:\n",
    "            print('Values are accepted')\n",
    "            self.value = t\n",
    "            "
   ]
  },
  {
   "cell_type": "code",
   "execution_count": 43,
   "id": "4efeecea-194a-4b0c-8917-63b19829c37d",
   "metadata": {},
   "outputs": [],
   "source": [
    "stud01 = stud(450)"
   ]
  },
  {
   "cell_type": "code",
   "execution_count": 44,
   "id": "09e2fe91-8f92-46b8-a661-ba6ab142dd6b",
   "metadata": {},
   "outputs": [
    {
     "name": "stdout",
     "output_type": "stream",
     "text": [
      "Total :  450\n",
      "Average :  90.0\n"
     ]
    }
   ],
   "source": [
    "print('Total : ', stud01.total)\n",
    "\n",
    "print('Average : ', stud01.average())"
   ]
  },
  {
   "cell_type": "code",
   "execution_count": 45,
   "id": "e8bb497b-146b-4419-9e40-d71fb026b4c5",
   "metadata": {},
   "outputs": [
    {
     "name": "stdout",
     "output_type": "stream",
     "text": [
      "Property Setter :  350\n",
      "Values are accepted\n",
      "Total :  350\n",
      "Average :  70.0\n"
     ]
    }
   ],
   "source": [
    "stud01.total = 350\n",
    "\n",
    "print('Total : ', stud01.total)\n",
    "\n",
    "print('Average : ', stud01.average())"
   ]
  },
  {
   "cell_type": "code",
   "execution_count": 46,
   "id": "542f09a4-2920-4a18-b683-04a05920ea03",
   "metadata": {},
   "outputs": [
    {
     "name": "stdout",
     "output_type": "stream",
     "text": [
      "Property Setter :  550\n",
      "Values are not accepted Give Correct values like 0 - 500\n",
      "Total :  350\n",
      "Average :  70.0\n"
     ]
    }
   ],
   "source": [
    "stud01.total = 550\n",
    "\n",
    "print('Total : ', stud01.total)\n",
    "\n",
    "print('Average : ', stud01.average())"
   ]
  },
  {
   "cell_type": "code",
   "execution_count": null,
   "id": "476297c9-7ebc-452a-b0e5-1c44ea5fa3de",
   "metadata": {},
   "outputs": [],
   "source": []
  }
 ],
 "metadata": {
  "kernelspec": {
   "display_name": "Python 3 (ipykernel)",
   "language": "python",
   "name": "python3"
  },
  "language_info": {
   "codemirror_mode": {
    "name": "ipython",
    "version": 3
   },
   "file_extension": ".py",
   "mimetype": "text/x-python",
   "name": "python",
   "nbconvert_exporter": "python",
   "pygments_lexer": "ipython3",
   "version": "3.11.9"
  }
 },
 "nbformat": 4,
 "nbformat_minor": 5
}
