{
 "cells": [
  {
   "cell_type": "markdown",
   "id": "59021324-aaf7-40d3-8815-6270bd96c8cb",
   "metadata": {},
   "source": [
    "Object in Class:\n",
    "----------------"
   ]
  },
  {
   "cell_type": "code",
   "execution_count": 15,
   "id": "653c066a-0f9c-44c4-a110-e1f3e8b9273f",
   "metadata": {},
   "outputs": [],
   "source": [
    "class student:\n",
    "    name = 'Sara'\n",
    "    session = 'Java'"
   ]
  },
  {
   "cell_type": "code",
   "execution_count": 6,
   "id": "b602e8fe-d32f-40d7-825a-1893963d35f6",
   "metadata": {},
   "outputs": [
    {
     "name": "stdout",
     "output_type": "stream",
     "text": [
      "Sara  -  Java\n"
     ]
    }
   ],
   "source": [
    "print(student.name, ' - ', student.session)"
   ]
  },
  {
   "cell_type": "code",
   "execution_count": 16,
   "id": "c0a746d6-7820-4d2e-a003-f9c7c735d7e5",
   "metadata": {},
   "outputs": [
    {
     "name": "stdout",
     "output_type": "stream",
     "text": [
      "Sara  -  Java\n",
      "-------------------------------------------------------\n",
      "Sara Dev  -  Python\n",
      "-------------------------------------------------------\n",
      "After Variable values assign in above Object. Then Show the Class Variable values\n",
      "Sara  -  Java\n"
     ]
    }
   ],
   "source": [
    "# Object Creation for above Class\n",
    "\n",
    "object1 = student()\n",
    "\n",
    "print(object1.name, ' - ', object1.session)\n",
    "\n",
    "print('-------------------------------------------------------')\n",
    "\n",
    "object1.name = 'Sara Dev'\n",
    "\n",
    "object1.session = 'Python'\n",
    "\n",
    "print(object1.name, ' - ', object1.session)\n",
    "\n",
    "print('-------------------------------------------------------')\n",
    "\n",
    "print('After Variable values assign in above Object. Then Show the Class Variable values')\n",
    "\n",
    "print(student.name, ' - ', student.session)"
   ]
  },
  {
   "cell_type": "code",
   "execution_count": 17,
   "id": "0e364c95-dce0-45cb-afce-2161b42aed09",
   "metadata": {},
   "outputs": [
    {
     "name": "stdout",
     "output_type": "stream",
     "text": [
      "Sara  -  Java\n",
      "-------------------------------------------------------\n",
      "Thara  -  C++\n",
      "-------------------------------------------------------\n",
      "After Variable values assign in above Object. Then Show the Class Variable values\n",
      "Sara  -  Java\n"
     ]
    }
   ],
   "source": [
    "# Object Creation for above Class\n",
    "\n",
    "object2 = student()\n",
    "\n",
    "print(object2.name, ' - ', object2.session)\n",
    "\n",
    "print('-------------------------------------------------------')\n",
    "\n",
    "object2.name = 'Thara'\n",
    "\n",
    "object2.session = 'C++'\n",
    "\n",
    "print(object2.name, ' - ', object2.session)\n",
    "\n",
    "print('-------------------------------------------------------')\n",
    "\n",
    "print('After Variable values assign in above Object. Then Show the Class Variable values')\n",
    "\n",
    "print(student.name, ' - ', student.session)"
   ]
  },
  {
   "cell_type": "code",
   "execution_count": 23,
   "id": "eae39586-92aa-4d38-a6e5-d67f4685652f",
   "metadata": {},
   "outputs": [
    {
     "name": "stdout",
     "output_type": "stream",
     "text": [
      "Class variable & values :\n",
      "-------------------------\n",
      "Sara  -  Java\n",
      "\n",
      "object1 Variable & values : \n",
      "---------------------------\n",
      "Sara Dev  -  Python\n",
      "\n",
      "object2 Variable & values : \n",
      "---------------------------\n",
      "Thara  -  C++\n"
     ]
    }
   ],
   "source": [
    "print('Class variable & values :')\n",
    "print('-------------------------')\n",
    "\n",
    "print(student.name, ' - ', student.session)\n",
    "\n",
    "print('')\n",
    "print('object1 Variable & values : ')\n",
    "print('---------------------------')\n",
    "\n",
    "\n",
    "print(object1.name, ' - ', object1.session)\n",
    "\n",
    "print('\\nobject2 Variable & values : ')\n",
    "print('---------------------------')\n",
    "\n",
    "\n",
    "print(object2.name, ' - ', object2.session)\n"
   ]
  },
  {
   "cell_type": "code",
   "execution_count": null,
   "id": "dce90425-5323-40f5-a2e2-bcd3ce777a33",
   "metadata": {},
   "outputs": [],
   "source": []
  }
 ],
 "metadata": {
  "kernelspec": {
   "display_name": "Python 3 (ipykernel)",
   "language": "python",
   "name": "python3"
  },
  "language_info": {
   "codemirror_mode": {
    "name": "ipython",
    "version": 3
   },
   "file_extension": ".py",
   "mimetype": "text/x-python",
   "name": "python",
   "nbconvert_exporter": "python",
   "pygments_lexer": "ipython3",
   "version": "3.11.9"
  }
 },
 "nbformat": 4,
 "nbformat_minor": 5
}
