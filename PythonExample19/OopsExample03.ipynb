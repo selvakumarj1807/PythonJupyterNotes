{
 "cells": [
  {
   "cell_type": "markdown",
   "id": "05a052ef-41d9-4d09-b807-617f63978337",
   "metadata": {},
   "source": [
    "Functions in Class:\n",
    "-------------------"
   ]
  },
  {
   "cell_type": "markdown",
   "id": "2cff221b-e2b6-4ebd-ae9a-fbb8c9ecb7a9",
   "metadata": {},
   "source": [
    "# 1. Class Method in Python\n",
    "---------------------------"
   ]
  },
  {
   "cell_type": "code",
   "execution_count": 6,
   "id": "77ed27a8-b112-4ed2-b63e-aceaa1dc942c",
   "metadata": {},
   "outputs": [],
   "source": [
    "companyName = 'xyz'\n",
    "\n",
    "class employee:\n",
    "    name = 'Sara'\n",
    "    age = 25\n",
    "\n",
    "    def employeeDetails():\n",
    "        print(employee.name, ' your age is ', employee.age)\n",
    "\n",
    "        print('Company Name : ', companyName)"
   ]
  },
  {
   "cell_type": "code",
   "execution_count": 7,
   "id": "8921fb24-a523-4ab6-9daa-2dd651cb8628",
   "metadata": {},
   "outputs": [
    {
     "name": "stdout",
     "output_type": "stream",
     "text": [
      "Sara  your age is  25\n",
      "Company Name :  xyz\n"
     ]
    }
   ],
   "source": [
    "employee.employeeDetails()"
   ]
  },
  {
   "cell_type": "markdown",
   "id": "bbe75b23-4208-4bd7-bc58-11757a20cdb4",
   "metadata": {},
   "source": [
    "# 2. Object method in Python\n",
    "----------------------------\n",
    "\n",
    "Using Self Parameter"
   ]
  },
  {
   "cell_type": "code",
   "execution_count": 22,
   "id": "4e11af5c-c1d3-4834-ab01-a45b3513faf7",
   "metadata": {},
   "outputs": [],
   "source": [
    "companyName = 'xyz'\n",
    "\n",
    "class employee:\n",
    "    name = 'Sara'\n",
    "    age = 25\n",
    "\n",
    "    def employeeDetails(self):\n",
    "        print(self.name, ' your age is ', self.age)\n",
    "\n",
    "        print('Company Name : ', companyName)"
   ]
  },
  {
   "cell_type": "code",
   "execution_count": 23,
   "id": "9e692d50-5b58-46ac-b054-025b691c25e1",
   "metadata": {},
   "outputs": [],
   "source": [
    "employeeObject = employee()"
   ]
  },
  {
   "cell_type": "code",
   "execution_count": 24,
   "id": "72134878-7c94-4829-b205-9e4b1a78a060",
   "metadata": {},
   "outputs": [
    {
     "name": "stdout",
     "output_type": "stream",
     "text": [
      "Sara  your age is  25\n"
     ]
    }
   ],
   "source": [
    "print(employee.name, ' your age is ', employee.age)"
   ]
  },
  {
   "cell_type": "code",
   "execution_count": 25,
   "id": "bd9b4bdc-04df-4f7d-a57d-fe8acfec4207",
   "metadata": {},
   "outputs": [
    {
     "name": "stdout",
     "output_type": "stream",
     "text": [
      "Sara  your age is  25\n"
     ]
    }
   ],
   "source": [
    "print(employeeObject.name, ' your age is ', employeeObject.age)"
   ]
  },
  {
   "cell_type": "code",
   "execution_count": 26,
   "id": "f468f983-9e11-4b6a-9d1a-c26a29ea38e1",
   "metadata": {},
   "outputs": [
    {
     "name": "stdout",
     "output_type": "stream",
     "text": [
      "Sara  your age is  25\n",
      "Company Name :  xyz\n"
     ]
    }
   ],
   "source": [
    "employeeObject.employeeDetails()"
   ]
  },
  {
   "cell_type": "code",
   "execution_count": 27,
   "id": "9ead1e18-76ef-45cd-9502-c01d2b631c2b",
   "metadata": {},
   "outputs": [],
   "source": [
    "employeeObject.name = 'Developer'\n",
    "\n",
    "employeeObject.age = 30"
   ]
  },
  {
   "cell_type": "code",
   "execution_count": 28,
   "id": "51793148-6319-4e87-bb6e-be234f7c817e",
   "metadata": {},
   "outputs": [
    {
     "name": "stdout",
     "output_type": "stream",
     "text": [
      "Developer  your age is  30\n",
      "Company Name :  xyz\n"
     ]
    }
   ],
   "source": [
    "employeeObject.employeeDetails()"
   ]
  },
  {
   "cell_type": "code",
   "execution_count": 29,
   "id": "de66190b-7687-46b6-8471-7128885b49f8",
   "metadata": {},
   "outputs": [],
   "source": [
    "employeeObject2 = employee()"
   ]
  },
  {
   "cell_type": "code",
   "execution_count": 30,
   "id": "8894d4f1-ee81-425c-ba01-09fedbbd6ec6",
   "metadata": {},
   "outputs": [],
   "source": [
    "employeeObject2.name = 'Thara'\n",
    "\n",
    "employeeObject2.age = 28"
   ]
  },
  {
   "cell_type": "code",
   "execution_count": 31,
   "id": "c068a963-7fd1-40c7-b859-8cf09a36f818",
   "metadata": {},
   "outputs": [
    {
     "name": "stdout",
     "output_type": "stream",
     "text": [
      "Thara  your age is  28\n",
      "Company Name :  xyz\n"
     ]
    }
   ],
   "source": [
    "employeeObject2.employeeDetails()"
   ]
  },
  {
   "cell_type": "markdown",
   "id": "3cc37f1e-5331-4157-afd3-34700dfecdce",
   "metadata": {},
   "source": [
    "# 3. __init__ Method :\n",
    "----------------------"
   ]
  },
  {
   "cell_type": "code",
   "execution_count": 35,
   "id": "c89ce31d-0370-47f6-b741-a56d4844278e",
   "metadata": {},
   "outputs": [],
   "source": [
    "class employee:\n",
    "    def __init__(self):\n",
    "        print('__init__ method - Constructer method for Value initialization')"
   ]
  },
  {
   "cell_type": "code",
   "execution_count": 36,
   "id": "292316d4-8977-42fd-b304-b0785ccecda6",
   "metadata": {},
   "outputs": [
    {
     "name": "stdout",
     "output_type": "stream",
     "text": [
      "__init__ method - Constructer method for Value initialization\n"
     ]
    }
   ],
   "source": [
    "object01 = employee()"
   ]
  },
  {
   "cell_type": "markdown",
   "id": "f769c0bf-c541-49fb-9243-562da1fe1d33",
   "metadata": {},
   "source": [
    "Example 01\n",
    "----------"
   ]
  },
  {
   "cell_type": "code",
   "execution_count": 37,
   "id": "9bdc81d7-4049-4c26-8d1a-00f02e283c1b",
   "metadata": {},
   "outputs": [],
   "source": [
    "companyName = 'xyz'\n",
    "\n",
    "class employee:\n",
    "    def __init__(self, name, age):\n",
    "        self.name = name\n",
    "        self.age = age\n",
    "    \n",
    "    def employeeDetails(self):\n",
    "        print(self.name, ' your age is ', self.age)\n",
    "\n",
    "        print('Company Name : ', companyName)"
   ]
  },
  {
   "cell_type": "code",
   "execution_count": 38,
   "id": "03942a35-7533-484f-bd33-86e7d2a7364f",
   "metadata": {},
   "outputs": [],
   "source": [
    "employeeObject01 = employee('Sri', 25)"
   ]
  },
  {
   "cell_type": "code",
   "execution_count": 39,
   "id": "93d1036a-2764-4a0e-853d-ea89454e7132",
   "metadata": {},
   "outputs": [
    {
     "name": "stdout",
     "output_type": "stream",
     "text": [
      "Sri  your age is  25\n",
      "Company Name :  xyz\n"
     ]
    }
   ],
   "source": [
    "employeeObject01.employeeDetails()"
   ]
  },
  {
   "cell_type": "code",
   "execution_count": null,
   "id": "25f93510-bc14-441d-ab43-2143b7a7668d",
   "metadata": {},
   "outputs": [],
   "source": []
  }
 ],
 "metadata": {
  "kernelspec": {
   "display_name": "Python 3 (ipykernel)",
   "language": "python",
   "name": "python3"
  },
  "language_info": {
   "codemirror_mode": {
    "name": "ipython",
    "version": 3
   },
   "file_extension": ".py",
   "mimetype": "text/x-python",
   "name": "python",
   "nbconvert_exporter": "python",
   "pygments_lexer": "ipython3",
   "version": "3.11.9"
  }
 },
 "nbformat": 4,
 "nbformat_minor": 5
}
