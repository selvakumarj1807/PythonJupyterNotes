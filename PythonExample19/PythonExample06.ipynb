{
 "cells": [
  {
   "cell_type": "markdown",
   "id": "fc1e791e-4fea-454d-b4a5-5da436d732d2",
   "metadata": {},
   "source": [
    "Polymorphism:\n",
    "-------------\n",
    "\n",
    "    Polymorphism means many forms.\n",
    "    And in programming it refers to methods/ functions/ operators with same name that can be executed many objects or classes.\n",
    "    "
   ]
  },
  {
   "cell_type": "code",
   "execution_count": 9,
   "id": "35589497-694f-40d0-a211-8bd2f1210e8b",
   "metadata": {},
   "outputs": [],
   "source": [
    "# Class Creation for Class Polymorphism\n",
    "\n",
    "class Car:\n",
    "    def __init__(self, brand, model):\n",
    "        self.brand = brand\n",
    "        self.model = model\n",
    "\n",
    "    def move(self):\n",
    "        print('Car Class : Drive')\n",
    "\n",
    "class Plane:\n",
    "    def __init__(self, brand, model):\n",
    "        self.brand = brand\n",
    "        self.model = model\n",
    "\n",
    "    def move(self):\n",
    "        print('Plane Class : Fly')\n",
    "\n",
    "class Boat:\n",
    "    def __init__(self, brand, model):\n",
    "        self.brand = brand\n",
    "        self.model = model\n",
    "\n",
    "    def move(self):\n",
    "        print('Boat Class : Sail')"
   ]
  },
  {
   "cell_type": "code",
   "execution_count": 6,
   "id": "e5fa0ab7-f898-4952-85d8-598d7b82213d",
   "metadata": {},
   "outputs": [],
   "source": [
    "# Object Creation\n",
    "\n",
    "objectCar = Car('Ford', 'Mustang')\n",
    "objectPlane = Plane('Boeing', '747')\n",
    "objectBoat = Boat('Ibiza', 'Touring 20')"
   ]
  },
  {
   "cell_type": "code",
   "execution_count": 8,
   "id": "0fd968ab-55ad-4d54-aea7-def772facb19",
   "metadata": {},
   "outputs": [
    {
     "name": "stdout",
     "output_type": "stream",
     "text": [
      "Brand :  Ford\n",
      "Model :  Mustang\n",
      "Car Class : Drive\n",
      "\n",
      "Brand :  Boeing\n",
      "Model :  747\n",
      "Plane Class : Fly\n",
      "\n",
      "Brand :  Ibiza\n",
      "Model :  Touring 20\n",
      "Boat Class : Sail\n",
      "\n"
     ]
    }
   ],
   "source": [
    "# Call the Class Variables & Functions\n",
    "\n",
    "for x in (objectCar, objectPlane, objectBoat):\n",
    "    print('Brand : ', x.brand)\n",
    "    print('Model : ', x.model)\n",
    "    x.move()\n",
    "\n",
    "    print('')"
   ]
  },
  {
   "cell_type": "code",
   "execution_count": 13,
   "id": "e6acc292-13e8-4b6c-95f8-ce3619c5ad40",
   "metadata": {},
   "outputs": [],
   "source": [
    "# Class Creation for Inheritance Class Polymorphism\n",
    "\n",
    "class Veichle:\n",
    "    def __init__(self, brand, model):\n",
    "        self.brand = brand\n",
    "        self.model = model\n",
    "\n",
    "    def move(self):\n",
    "        print('Car Class : Drive')\n",
    "\n",
    "class Car(Veichle):\n",
    "    pass\n",
    "    \n",
    "class Plane(Veichle):\n",
    "    def move(self):\n",
    "        print('Plane Class : Fly')\n",
    "\n",
    "class Boat(Veichle):\n",
    "    def move(self):\n",
    "        print('Boat Class : Sail')"
   ]
  },
  {
   "cell_type": "code",
   "execution_count": 16,
   "id": "107bc41a-66e0-4171-b8e1-3199233be8dc",
   "metadata": {},
   "outputs": [],
   "source": [
    "# Object Creation\n",
    "\n",
    "objectCar = Car('Ford', 'Mustang')\n",
    "objectPlane = Plane('Boeing', '747')\n",
    "objectBoat = Boat('Ibiza', 'Touring 20')\n",
    "\n",
    "objectBike = Veichle('Dio', 'Base')\n",
    "\n",
    "objectVan = Veichle('Van Name', 'Primary')"
   ]
  },
  {
   "cell_type": "code",
   "execution_count": 18,
   "id": "72b708f3-a7f5-40aa-8948-69811be70453",
   "metadata": {},
   "outputs": [
    {
     "name": "stdout",
     "output_type": "stream",
     "text": [
      "Brand :  Ford\n",
      "Model :  Mustang\n",
      "Car Class : Drive\n",
      "\n",
      "Brand :  Boeing\n",
      "Model :  747\n",
      "Plane Class : Fly\n",
      "\n",
      "Brand :  Ibiza\n",
      "Model :  Touring 20\n",
      "Boat Class : Sail\n",
      "\n",
      "Brand :  Dio\n",
      "Model :  Base\n",
      "Car Class : Drive\n",
      "\n",
      "Brand :  Van Name\n",
      "Model :  Primary\n",
      "Car Class : Drive\n",
      "\n"
     ]
    }
   ],
   "source": [
    "# Call the Class Variables & Functions\n",
    "\n",
    "for x in (objectCar, objectPlane, objectBoat, objectBike, objectVan):\n",
    "    print('Brand : ', x.brand)\n",
    "    print('Model : ', x.model)\n",
    "    x.move()\n",
    "\n",
    "    print('')"
   ]
  },
  {
   "cell_type": "code",
   "execution_count": null,
   "id": "6ebaa6e7-0fff-4131-918c-49b087a7d229",
   "metadata": {},
   "outputs": [],
   "source": []
  }
 ],
 "metadata": {
  "kernelspec": {
   "display_name": "Python 3 (ipykernel)",
   "language": "python",
   "name": "python3"
  },
  "language_info": {
   "codemirror_mode": {
    "name": "ipython",
    "version": 3
   },
   "file_extension": ".py",
   "mimetype": "text/x-python",
   "name": "python",
   "nbconvert_exporter": "python",
   "pygments_lexer": "ipython3",
   "version": "3.13.2"
  }
 },
 "nbformat": 4,
 "nbformat_minor": 5
}
