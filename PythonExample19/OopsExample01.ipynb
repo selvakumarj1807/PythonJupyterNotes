{
 "cells": [
  {
   "cell_type": "markdown",
   "id": "6a7d6512-2158-4e63-913b-162b6a96ff52",
   "metadata": {},
   "source": [
    "Create Class\n",
    "------------"
   ]
  },
  {
   "cell_type": "code",
   "execution_count": 6,
   "id": "66b96ab5-6741-4017-9ed9-eca2a6f5300c",
   "metadata": {},
   "outputs": [
    {
     "name": "stdout",
     "output_type": "stream",
     "text": [
      "----------------------------------------\n",
      "10 <class 'int'>\n",
      "<class '__main__.car'> <class 'type'>\n",
      "----------------------------------------\n",
      "<__main__.car object at 0x00000154223A29D0> <class '__main__.car'>\n",
      "<__main__.car object at 0x00000154223A2950> <class '__main__.car'>\n",
      "True\n",
      "False\n",
      "True\n"
     ]
    }
   ],
   "source": [
    "class car:\n",
    "    pass\n",
    "\n",
    "print('----------------------------------------')\n",
    "\n",
    "a = 10\n",
    "\n",
    "print(a, type(a))\n",
    "\n",
    "print(car, type(car))\n",
    "\n",
    "print('----------------------------------------')\n",
    "\n",
    "# Object Creation for Class car\n",
    "\n",
    "honda = car()\n",
    "\n",
    "swift = car()\n",
    "\n",
    "print(honda, type(honda))\n",
    "\n",
    "print(swift, type(swift))\n",
    "\n",
    "# Check the object is create for separate classes\n",
    "'''\n",
    "Syntax:\n",
    "-------\n",
    "print(isinstance(Object Name, Class Name))\n",
    "'''\n",
    "print(isinstance(a, int))\n",
    "\n",
    "print(isinstance(swift, int))\n",
    "\n",
    "print(isinstance(swift, car))"
   ]
  },
  {
   "cell_type": "markdown",
   "id": "817b2d53-e69d-4434-b47c-51a45069d6ec",
   "metadata": {},
   "source": [
    "Class Variable Declaration\n",
    "--------------------------"
   ]
  },
  {
   "cell_type": "code",
   "execution_count": 9,
   "id": "4dd485e5-f6fa-4b5e-b618-c68ee8cf864c",
   "metadata": {},
   "outputs": [],
   "source": [
    "class student:\n",
    "    name = 'Developer'\n",
    "    age = 25"
   ]
  },
  {
   "cell_type": "markdown",
   "id": "5a03a440-6d07-4808-928c-e31271a5f75f",
   "metadata": {},
   "source": [
    "Call the Varible values from the Class\n",
    "--------------------------------------\n",
    "\n",
    "1. getattribute method\n",
    "2. Dot ( . ) Notation"
   ]
  },
  {
   "cell_type": "code",
   "execution_count": 10,
   "id": "d67ff468-971b-4d6f-862d-7ebb1c319152",
   "metadata": {},
   "outputs": [
    {
     "name": "stdout",
     "output_type": "stream",
     "text": [
      "Developer\n"
     ]
    }
   ],
   "source": [
    "# Get Attribute Method\n",
    "\n",
    "print(getattr(student, 'name'))"
   ]
  },
  {
   "cell_type": "code",
   "execution_count": 11,
   "id": "af176788-73d2-4b34-861a-b1654710abb6",
   "metadata": {},
   "outputs": [
    {
     "name": "stdout",
     "output_type": "stream",
     "text": [
      "25\n"
     ]
    }
   ],
   "source": [
    "# Dot Notation\n",
    "\n",
    "print(student.age)"
   ]
  },
  {
   "cell_type": "code",
   "execution_count": 13,
   "id": "268bdbda-fb7b-49ef-8239-907f8cc73ae6",
   "metadata": {},
   "outputs": [
    {
     "name": "stdout",
     "output_type": "stream",
     "text": [
      "TN\n"
     ]
    }
   ],
   "source": [
    "# Difference Between Both methods\n",
    "\n",
    "# Get Attribute Method\n",
    "\n",
    "print(getattr(student, 'state', 'TN'))\n",
    "\n",
    "# Dot Notation have not this type(cannot print not declared Variables)"
   ]
  },
  {
   "cell_type": "markdown",
   "id": "3aa98d5e-24c0-480a-a90e-6c295b05cbe0",
   "metadata": {},
   "source": [
    "To Find the variables and Functions from Class\n",
    "----------------------------------------------"
   ]
  },
  {
   "cell_type": "code",
   "execution_count": 15,
   "id": "03da66f1-2ef5-4c45-9754-a41bda411a43",
   "metadata": {},
   "outputs": [
    {
     "name": "stdout",
     "output_type": "stream",
     "text": [
      "{'__module__': '__main__', 'name': 'Developer', 'age': 25, '__dict__': <attribute '__dict__' of 'student' objects>, '__weakref__': <attribute '__weakref__' of 'student' objects>, '__doc__': None}\n"
     ]
    }
   ],
   "source": [
    "print(student.__dict__)"
   ]
  },
  {
   "cell_type": "code",
   "execution_count": null,
   "id": "05f22a89-d32c-42e2-a968-7c8e74f80398",
   "metadata": {},
   "outputs": [],
   "source": []
  }
 ],
 "metadata": {
  "kernelspec": {
   "display_name": "Python 3 (ipykernel)",
   "language": "python",
   "name": "python3"
  },
  "language_info": {
   "codemirror_mode": {
    "name": "ipython",
    "version": 3
   },
   "file_extension": ".py",
   "mimetype": "text/x-python",
   "name": "python",
   "nbconvert_exporter": "python",
   "pygments_lexer": "ipython3",
   "version": "3.11.9"
  }
 },
 "nbformat": 4,
 "nbformat_minor": 5
}
