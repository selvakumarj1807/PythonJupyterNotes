{
 "cells": [
  {
   "cell_type": "markdown",
   "id": "50111db8-dc17-4171-860d-cbe6a1a10dd4",
   "metadata": {},
   "source": [
    "String Function:\n",
    "----------------"
   ]
  },
  {
   "cell_type": "code",
   "execution_count": 2,
   "id": "a237ec58-91f1-4fd5-a12f-b4f4250ca38e",
   "metadata": {},
   "outputs": [
    {
     "name": "stdout",
     "output_type": "stream",
     "text": [
      "wELcome tO PYthON <class 'str'>\n"
     ]
    }
   ],
   "source": [
    "a = 'wELcome tO PYthON'\n",
    "\n",
    "print(a, type(a))"
   ]
  },
  {
   "cell_type": "code",
   "execution_count": 7,
   "id": "90df6a80-80d2-4fad-bcd3-a3f296953a22",
   "metadata": {},
   "outputs": [
    {
     "name": "stdout",
     "output_type": "stream",
     "text": [
      "Upper Case :  WELCOME TO PYTHON\n",
      "Lower Case :  welcome to python\n",
      "Capitalize :  Welcome to python\n",
      "Title :  Welcome To Python\n"
     ]
    }
   ],
   "source": [
    "print('Upper Case : ', a.upper())\n",
    "\n",
    "print('Lower Case : ', a.lower())\n",
    "\n",
    "print('Capitalize : ', a.capitalize())\n",
    "\n",
    "print('Title : ', a.title())"
   ]
  },
  {
   "cell_type": "markdown",
   "id": "91b21fd4-ba2a-458d-b164-24c9cde1739d",
   "metadata": {},
   "source": [
    "String Manipulation\n",
    "-------------------\n",
    "\n",
    "To print Selected values based on index"
   ]
  },
  {
   "cell_type": "code",
   "execution_count": 8,
   "id": "6f1c1e33-50f2-4f26-933d-f5d0eef5221b",
   "metadata": {},
   "outputs": [
    {
     "name": "stdout",
     "output_type": "stream",
     "text": [
      "wELcome tO\n"
     ]
    }
   ],
   "source": [
    "print(a[0 : 10])"
   ]
  },
  {
   "cell_type": "markdown",
   "id": "7bf83132-feb0-4e2e-8d44-ebc8b0e741c5",
   "metadata": {},
   "source": [
    "Find & Count\n",
    "------------"
   ]
  },
  {
   "cell_type": "code",
   "execution_count": 12,
   "id": "9db74c42-0326-4a63-86f2-62ec63402f77",
   "metadata": {},
   "outputs": [
    {
     "name": "stdout",
     "output_type": "stream",
     "text": [
      "wELcome tO PYthON\n",
      "Count O values in variable :  2\n",
      "Find O index Position in a variable :  9\n"
     ]
    }
   ],
   "source": [
    "print(a)\n",
    "\n",
    "print('Count O values in variable : ', a.count('O'))\n",
    "\n",
    "print('Find O index Position in a variable : ', a.find('O'))"
   ]
  },
  {
   "cell_type": "code",
   "execution_count": null,
   "id": "5268ebab-3891-41ff-817c-5af4d837d01d",
   "metadata": {},
   "outputs": [],
   "source": [
    "'''\n",
    "\n",
    "Today Task\n",
    "----------\n",
    "\n",
    "Question 01:\n",
    "------------\n",
    "\n",
    "To write the python code for\n",
    "\n",
    "age values is : [20,18,15,18,15]\n",
    "\n",
    "Remove Duplicate Values : [15, 18, 20]\n",
    "\n",
    "To Find Duplicate values Counts:\n",
    "\n",
    "15 - 2 Times Will be Place\n",
    "\n",
    "18 - 2 Times will be place\n",
    "\n",
    "20 - 1 Time will be place\n",
    "'''"
   ]
  },
  {
   "cell_type": "markdown",
   "id": "f01e6ca5-0c91-4fc0-8116-f4a27857ce25",
   "metadata": {},
   "source": [
    "Replace\n",
    "-------"
   ]
  },
  {
   "cell_type": "code",
   "execution_count": 2,
   "id": "27fc0339-3f7f-42f3-ae4e-a03b6e7e8272",
   "metadata": {},
   "outputs": [
    {
     "name": "stdout",
     "output_type": "stream",
     "text": [
      "welcom to python\n",
      "-----------------------------\n",
      "welcom to Python Full Stack\n"
     ]
    }
   ],
   "source": [
    "a = 'welcom to python'\n",
    "\n",
    "print(a)\n",
    "\n",
    "print('-----------------------------')\n",
    "\n",
    "print(a.replace('python', 'Python Full Stack'))"
   ]
  },
  {
   "cell_type": "markdown",
   "id": "ffea0ecc-243c-46e7-8eac-12b9a2c7c8c4",
   "metadata": {},
   "source": [
    "To Check the give string values is Alphabet or not\n",
    "--------------------------------------------------"
   ]
  },
  {
   "cell_type": "code",
   "execution_count": 13,
   "id": "23eacb5e-795c-4483-80ed-fa0f19607549",
   "metadata": {},
   "outputs": [
    {
     "name": "stdout",
     "output_type": "stream",
     "text": [
      "admin@gmail.com\n",
      "-----------------------------\n",
      "Is Upper case or Not :  False\n",
      "Is Lower case or Not :  True\n",
      "Is Alphabet or Not :  False\n",
      "Is Alphabet & Numeric or Not :  False\n"
     ]
    }
   ],
   "source": [
    "a = 'admin@gmail.com'\n",
    "\n",
    "print(a)\n",
    "\n",
    "print('-----------------------------')\n",
    "\n",
    "print('Is Upper case or Not : ', a.isupper())\n",
    "\n",
    "print('Is Lower case or Not : ', a.islower())\n",
    "\n",
    "print('Is Alphabet or Not : ', a.isalpha())\n",
    "\n",
    "a = 'welcomtopython12'\n",
    "\n",
    "print('Is Alphabet & Numeric or Not : ', a.isalnum())"
   ]
  },
  {
   "cell_type": "markdown",
   "id": "200c41af-8a3c-4783-96ce-959e1ccec0e7",
   "metadata": {},
   "source": [
    "Split Values\n",
    "------------"
   ]
  },
  {
   "cell_type": "code",
   "execution_count": 21,
   "id": "f491c52d-6778-439c-a297-1cd0794b3b19",
   "metadata": {},
   "outputs": [
    {
     "name": "stdout",
     "output_type": "stream",
     "text": [
      "['admin', '25', '9500912258', 'admin@gmail.con']\n",
      "['admin', '25', '9500912258', 'admin@gmail.con'] <class 'list'>\n"
     ]
    }
   ],
   "source": [
    "details = \"admin,25,9500912258,admin@gmail.con\"\n",
    "\n",
    "print(details.split(','))\n",
    "\n",
    "detailsList = details.split(',')\n",
    "\n",
    "print(detailsList, type(detailsList))"
   ]
  },
  {
   "cell_type": "markdown",
   "id": "e7e59960-cae6-48a3-9c0e-4c4cb0aca819",
   "metadata": {},
   "source": [
    "Split Lines\n",
    "-----------"
   ]
  },
  {
   "cell_type": "code",
   "execution_count": 25,
   "id": "e736ad94-ee04-451c-a796-05053c7953cc",
   "metadata": {},
   "outputs": [
    {
     "name": "stdout",
     "output_type": "stream",
     "text": [
      "Paragraphs are the building blocks of papers.\n",
      "Many students define paragraphs in terms of length:\n",
      "a paragraph is a group of at least five sentences, a paragraph is half a page long, etc.\n",
      "In reality, though, the unity and coherence of ideas among sentences is what constitutes a paragraph.\n",
      "\n",
      "-------------------------------------\n",
      "['Paragraphs are the building blocks of papers.', 'Many students define paragraphs in terms of length:', 'a paragraph is a group of at least five sentences, a paragraph is half a page long, etc.', 'In reality, though, the unity and coherence of ideas among sentences is what constitutes a paragraph.'] <class 'list'>\n"
     ]
    }
   ],
   "source": [
    "paragraph = '''Paragraphs are the building blocks of papers.\n",
    "Many students define paragraphs in terms of length:\n",
    "a paragraph is a group of at least five sentences, a paragraph is half a page long, etc.\n",
    "In reality, though, the unity and coherence of ideas among sentences is what constitutes a paragraph.\n",
    "'''\n",
    "\n",
    "print(paragraph)\n",
    "\n",
    "print('-------------------------------------')\n",
    "\n",
    "paragraphList = paragraph.splitlines()\n",
    "\n",
    "print(paragraphList, type(paragraphList))"
   ]
  },
  {
   "cell_type": "markdown",
   "id": "96fecc30-6e06-49aa-8c45-20bf7810e69c",
   "metadata": {},
   "source": [
    "len & strip & lstrip & rstrip\n",
    "-----------------------------"
   ]
  },
  {
   "cell_type": "code",
   "execution_count": 30,
   "id": "c8fedb57-dadf-4e46-bb27-2b3cc7fd0347",
   "metadata": {},
   "outputs": [
    {
     "name": "stdout",
     "output_type": "stream",
     "text": [
      "   admin    \n",
      "Length of a Variable :  12\n",
      "admin 5\n",
      "-------------------------------------\n",
      "admin     9\n",
      "-------------------------------------\n",
      "   admin 8\n",
      "-------------------------------------\n"
     ]
    }
   ],
   "source": [
    "# Strip is used Remove Unwanted Spaces\n",
    "\n",
    "a = '   admin    '\n",
    "\n",
    "print(a)\n",
    "\n",
    "print('Length of a Variable : ',len(a))\n",
    "\n",
    "# Strip\n",
    "\n",
    "b = a.strip()\n",
    "\n",
    "print(b, len(b))\n",
    "\n",
    "print('-------------------------------------')\n",
    "\n",
    "# LStrip\n",
    "\n",
    "c = a.lstrip()\n",
    "\n",
    "print(c, len(c))\n",
    "\n",
    "print('-------------------------------------')\n",
    "\n",
    "# RStrip\n",
    "\n",
    "d = a.rstrip()\n",
    "\n",
    "print(d, len(d))\n",
    "\n",
    "print('-------------------------------------')"
   ]
  },
  {
   "cell_type": "code",
   "execution_count": 30,
   "id": "d0aed1ce-aa72-4248-bf60-d0105f61fe27",
   "metadata": {},
   "outputs": [
    {
     "name": "stdout",
     "output_type": "stream",
     "text": [
      "   admin    \n",
      "Length of a Variable :  12\n",
      "admin 5\n",
      "-------------------------------------\n",
      "admin     9\n",
      "-------------------------------------\n",
      "   admin 8\n",
      "-------------------------------------\n"
     ]
    }
   ],
   "source": [
    "# Strip is used Remove Unwanted Spaces\n",
    "\n",
    "a = '   admin    '\n",
    "\n",
    "print(a)\n",
    "\n",
    "print('Length of a Variable : ',len(a))\n",
    "\n",
    "# Strip\n",
    "\n",
    "b = a.strip()\n",
    "\n",
    "print(b, len(b))\n",
    "\n",
    "print('-------------------------------------')\n",
    "\n",
    "# LStrip\n",
    "\n",
    "c = a.lstrip()\n",
    "\n",
    "print(c, len(c))\n",
    "\n",
    "print('-------------------------------------')\n",
    "\n",
    "# RStrip\n",
    "\n",
    "d = a.rstrip()\n",
    "\n",
    "print(d, len(d))\n",
    "\n",
    "print('-------------------------------------')"
   ]
  },
  {
   "cell_type": "code",
   "execution_count": 30,
   "id": "531d4ab8-50c4-43c9-afd6-22939c0ce267",
   "metadata": {},
   "outputs": [
    {
     "name": "stdout",
     "output_type": "stream",
     "text": [
      "   admin    \n",
      "Length of a Variable :  12\n",
      "admin 5\n",
      "-------------------------------------\n",
      "admin     9\n",
      "-------------------------------------\n",
      "   admin 8\n",
      "-------------------------------------\n"
     ]
    }
   ],
   "source": [
    "# Strip is used Remove Unwanted Spaces\n",
    "\n",
    "a = '   admin    '\n",
    "\n",
    "print(a)\n",
    "\n",
    "print('Length of a Variable : ',len(a))\n",
    "\n",
    "# Strip\n",
    "\n",
    "b = a.strip()\n",
    "\n",
    "print(b, len(b))\n",
    "\n",
    "print('-------------------------------------')\n",
    "\n",
    "# LStrip\n",
    "\n",
    "c = a.lstrip()\n",
    "\n",
    "print(c, len(c))\n",
    "\n",
    "print('-------------------------------------')\n",
    "\n",
    "# RStrip\n",
    "\n",
    "d = a.rstrip()\n",
    "\n",
    "print(d, len(d))\n",
    "\n",
    "print('-------------------------------------')"
   ]
  },
  {
   "cell_type": "code",
   "execution_count": 31,
   "id": "606bc4a8-5b6a-45cc-bde8-f2f16b86f259",
   "metadata": {},
   "outputs": [
    {
     "name": "stdout",
     "output_type": "stream",
     "text": [
      "###admin###\n",
      "Length of a Variable :  11\n",
      "admin 5\n",
      "-------------------------------------\n",
      "admin### 8\n",
      "-------------------------------------\n",
      "###admin 8\n",
      "-------------------------------------\n"
     ]
    }
   ],
   "source": [
    "# Strip is used Remove Unwanted Values\n",
    "\n",
    "a = '###admin###'\n",
    "\n",
    "print(a)\n",
    "\n",
    "print('Length of a Variable : ',len(a))\n",
    "\n",
    "# Strip\n",
    "\n",
    "b = a.strip('#')\n",
    "\n",
    "print(b, len(b))\n",
    "\n",
    "print('-------------------------------------')\n",
    "\n",
    "# LStrip\n",
    "\n",
    "c = a.lstrip('#')\n",
    "\n",
    "print(c, len(c))\n",
    "\n",
    "print('-------------------------------------')\n",
    "\n",
    "# RStrip\n",
    "\n",
    "d = a.rstrip('#')\n",
    "\n",
    "print(d, len(d))\n",
    "\n",
    "print('-------------------------------------')"
   ]
  },
  {
   "cell_type": "code",
   "execution_count": null,
   "id": "0193e156-b93d-4a28-a144-155d0aacb674",
   "metadata": {},
   "outputs": [],
   "source": []
  }
 ],
 "metadata": {
  "kernelspec": {
   "display_name": "Python 3 (ipykernel)",
   "language": "python",
   "name": "python3"
  },
  "language_info": {
   "codemirror_mode": {
    "name": "ipython",
    "version": 3
   },
   "file_extension": ".py",
   "mimetype": "text/x-python",
   "name": "python",
   "nbconvert_exporter": "python",
   "pygments_lexer": "ipython3",
   "version": "3.11.9"
  }
 },
 "nbformat": 4,
 "nbformat_minor": 5
}
